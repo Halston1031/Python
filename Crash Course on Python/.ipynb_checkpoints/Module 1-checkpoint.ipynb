{
 "cells": [
  {
   "cell_type": "markdown",
   "metadata": {},
   "source": [
    "# Module 1\n",
    "Main Concepts:\n",
    "- Navigate the Coursera platform and find resources for help\n",
    "- Define what a programming language is and what syntax means\n",
    "- Define what a script is and how it applies to automation\n",
    "- List some of the benefits of the Python programming language\n",
    "- Utilize basic functions and keywords to display data and perform arithmetic operations"
   ]
  },
  {
   "cell_type": "markdown",
   "metadata": {},
   "source": [
    "# Exercise 1\n",
    "What is a computer program?"
   ]
  },
  {
   "cell_type": "code",
   "execution_count": 1,
   "metadata": {},
   "outputs": [],
   "source": [
    "# Function to print all items in a dictionary\n",
    "\n",
    "def print_items(dictionary):\n",
    "    for key, value in dictionary.items():\n",
    "        if value == True:\n",
    "            print(f\"[X] {key}\") \n",
    "        else:\n",
    "            print(f\"[ ] {key}\")"
   ]
  },
  {
   "cell_type": "code",
   "execution_count": 2,
   "metadata": {},
   "outputs": [
    {
     "name": "stdout",
     "output_type": "stream",
     "text": [
      "Question: What is a computer program?\n",
      "\n",
      "[ ] A file that gets printed by the Python interpreter.\n",
      "[ ] The syntax and semantics of Python.\n",
      "[ ] The overview of what the computer will have to do to solve some automation problem.\n",
      "[X] A step-by-step recipe of what needs to be done to complete a task, that gets executed by the computer.\n"
     ]
    }
   ],
   "source": [
    "print(\"Question: What is a computer program?\", end=\"\\n\\n\")\n",
    "\n",
    "options = {\n",
    "    \"A file that gets printed by the Python interpreter.\": False,\n",
    "    \"The syntax and semantics of Python.\": False,\n",
    "    \"The overview of what the computer will have to do to solve some automation problem.\": False,\n",
    "    \"A step-by-step recipe of what needs to be done to complete a task, that gets executed by the computer.\" : True\n",
    "}\n",
    "\n",
    "print_items(options)"
   ]
  },
  {
   "cell_type": "raw",
   "metadata": {},
   "source": []
  },
  {
   "cell_type": "markdown",
   "metadata": {},
   "source": [
    "# Exercise 2\n",
    "What’s automation?"
   ]
  },
  {
   "cell_type": "code",
   "execution_count": 3,
   "metadata": {},
   "outputs": [
    {
     "name": "stdout",
     "output_type": "stream",
     "text": [
      "What’s automation?\n",
      "\n",
      "[ ] The inputs and outputs of a program.\n",
      "[X] The process of replacing a manual step with one that happens automatically.\n",
      "[ ] The checkout processes at a grocery store.\n",
      "[ ] The process of getting a haircut.\n"
     ]
    }
   ],
   "source": [
    "print(\"What’s automation?\", end=\"\\n\\n\")\n",
    "\n",
    "options = {\n",
    "    \"The inputs and outputs of a program.\": False,\n",
    "    \"The process of replacing a manual step with one that happens automatically.\": True,\n",
    "    \"The checkout processes at a grocery store.\": False,\n",
    "    \"The process of getting a haircut.\" : False\n",
    "}\n",
    "\n",
    "print_items(options)"
   ]
  },
  {
   "cell_type": "markdown",
   "metadata": {},
   "source": [
    "# Exercise 3\n",
    "Which of the following tasks are good candidates for automation? Check all that apply."
   ]
  },
  {
   "cell_type": "code",
   "execution_count": 4,
   "metadata": {},
   "outputs": [
    {
     "name": "stdout",
     "output_type": "stream",
     "text": [
      "Which of the following tasks are good candidates for automation? Check all that apply.\n",
      "\n",
      "[ ] Writing a computer program.\n",
      "[X] Creating a report of how much each sales person has sold in the last month.\n",
      "[X] Setting the home directory and access permissions for new employees joining your company.\n",
      "[ ] Designing the new webpage for your company.\n",
      "[ ] Taking pictures of friends and family at a wedding.\n",
      "[X] Populating your company's e-commerce site with the latest products in the catalog.\n"
     ]
    }
   ],
   "source": [
    "print(\"Which of the following tasks are good candidates for automation? Check all that apply.\", end=\"\\n\\n\")\n",
    "\n",
    "options = {\n",
    "    \"Writing a computer program.\": False,\n",
    "    \"Creating a report of how much each sales person has sold in the last month.\": True,\n",
    "    \"Setting the home directory and access permissions for new employees joining your company.\": True,\n",
    "    \"Designing the new webpage for your company.\" : False,\n",
    "    \"Taking pictures of friends and family at a wedding.\" : False,\n",
    "    \"Populating your company's e-commerce site with the latest products in the catalog.\": True\n",
    "}\n",
    "\n",
    "print_items(options)"
   ]
  },
  {
   "cell_type": "markdown",
   "metadata": {},
   "source": [
    "# Exercise 4\n",
    "What are some characteristics of the Python programming language? Check all that apply. "
   ]
  },
  {
   "cell_type": "code",
   "execution_count": 5,
   "metadata": {},
   "outputs": [
    {
     "name": "stdout",
     "output_type": "stream",
     "text": [
      "What are some characteristics of the Python programming language? Check all that apply.\n",
      "\n",
      "[X] Python programs are easy to write and understand.\n",
      "[X] The Python interpreter reads our code and transforms it into computer instructions.\n",
      "[ ] It's an outdated language that's barely in use anymore.\n",
      "[X] We can practice Python using web interpreters or codepads as well as executing it locally.\n"
     ]
    }
   ],
   "source": [
    "print(\"What are some characteristics of the Python programming language? Check all that apply.\", end=\"\\n\\n\")\n",
    "\n",
    "options = {\n",
    "    \"Python programs are easy to write and understand.\": True,\n",
    "    \"The Python interpreter reads our code and transforms it into computer instructions.\": True,\n",
    "    \"It's an outdated language that's barely in use anymore.\": False,\n",
    "    \"We can practice Python using web interpreters or codepads as well as executing it locally.\" : True,\n",
    "}\n",
    "\n",
    "print_items(options)"
   ]
  },
  {
   "cell_type": "markdown",
   "metadata": {},
   "source": [
    "# Exercise 5\n",
    "How does Python compare to other programming languages?"
   ]
  },
  {
   "cell_type": "code",
   "execution_count": 6,
   "metadata": {},
   "outputs": [
    {
     "name": "stdout",
     "output_type": "stream",
     "text": [
      "How does Python compare to other programming languages?\n",
      "\n",
      "[ ] Python is the only programming language that is worth learning.\n",
      "[X] Each programming language has its advantages and disadvantages.\n",
      "[ ] It's always better to use an OS specific language like Bash or Powershell than using a generic language like Python.\n",
      "[ ] Programming languages are so different that learning a second one is harder than learning the first one.\n"
     ]
    }
   ],
   "source": [
    "print(\"How does Python compare to other programming languages?\", end=\"\\n\\n\")\n",
    "\n",
    "options = {\n",
    "    \"Python is the only programming language that is worth learning.\": False,\n",
    "    \"Each programming language has its advantages and disadvantages.\": True,\n",
    "    \"It's always better to use an OS specific language like Bash or Powershell than using a generic language like Python.\": False,\n",
    "    \"Programming languages are so different that learning a second one is harder than learning the first one.\": False\n",
    "}\n",
    "\n",
    "print_items(options)"
   ]
  },
  {
   "cell_type": "markdown",
   "metadata": {},
   "source": [
    "# Exercise 6\n",
    "Write a Python script that outputs \"Automating with Python is fun!\" to the screen."
   ]
  },
  {
   "cell_type": "code",
   "execution_count": 7,
   "metadata": {},
   "outputs": [
    {
     "name": "stdout",
     "output_type": "stream",
     "text": [
      "Automating with Python is fun!\n"
     ]
    }
   ],
   "source": [
    "print(\"Automating with Python is fun!\")"
   ]
  },
  {
   "cell_type": "markdown",
   "metadata": {},
   "source": [
    "# Exercise 7\n",
    "Fill in the blanks so that the code prints \"Yellow is the color of sunshine\"."
   ]
  },
  {
   "cell_type": "code",
   "execution_count": 8,
   "metadata": {},
   "outputs": [
    {
     "name": "stdout",
     "output_type": "stream",
     "text": [
      "Yellow is the color of sunshine\n"
     ]
    }
   ],
   "source": [
    "color = \"Yellow\"\n",
    "thing = \"sunshine\"\n",
    "print(color + \" is the color of \" + thing)"
   ]
  },
  {
   "cell_type": "markdown",
   "metadata": {},
   "source": [
    "# Exercise 8\n",
    "Keeping in mind there are 86400 seconds per day, write a program that calculates how many seconds there are in a week, if a week is 7 days. Print the result on the screen. Note: Your result should be in the format of just a number, not a sentence."
   ]
  },
  {
   "cell_type": "code",
   "execution_count": 9,
   "metadata": {},
   "outputs": [
    {
     "name": "stdout",
     "output_type": "stream",
     "text": [
      "604800\n"
     ]
    }
   ],
   "source": [
    "print(24*3600*7)"
   ]
  },
  {
   "cell_type": "markdown",
   "metadata": {},
   "source": [
    "# Exercise 9\n",
    "Use Python to calculate how many different passwords can be formed with 6 lower case English letters. For a 1 letter password, there would be 26 possibilities. For a 2 letter password, each letter is independent of the other, so there would be 26 times 26 possibilities. Using this information, print the amount of possible passwords that can be formed with 6 letters."
   ]
  },
  {
   "cell_type": "code",
   "execution_count": 10,
   "metadata": {},
   "outputs": [
    {
     "name": "stdout",
     "output_type": "stream",
     "text": [
      "308915776\n"
     ]
    }
   ],
   "source": [
    "print(26**6)"
   ]
  },
  {
   "cell_type": "markdown",
   "metadata": {},
   "source": [
    "# Exercise 10\n",
    "Most hard drives are divided into sectors of 512 bytes each. Our disk has a size of 16 GB. Fill in the blank to calculate how many sectors the disk has. Note: Your result should be in the format of just a number, not a sentence."
   ]
  },
  {
   "cell_type": "code",
   "execution_count": 11,
   "metadata": {},
   "outputs": [
    {
     "name": "stdout",
     "output_type": "stream",
     "text": [
      "33554432\n"
     ]
    }
   ],
   "source": [
    "disk_size = 16*1024*1024*1024\n",
    "sector_size = 512\n",
    "sector_amount = disk_size // sector_size\n",
    "\n",
    "print(sector_amount)"
   ]
  }
 ],
 "metadata": {
  "kernelspec": {
   "display_name": "Python 3",
   "language": "python",
   "name": "python3"
  },
  "language_info": {
   "codemirror_mode": {
    "name": "ipython",
    "version": 3
   },
   "file_extension": ".py",
   "mimetype": "text/x-python",
   "name": "python",
   "nbconvert_exporter": "python",
   "pygments_lexer": "ipython3",
   "version": "3.7.6"
  }
 },
 "nbformat": 4,
 "nbformat_minor": 4
}
