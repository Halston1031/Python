{
 "cells": [
  {
   "cell_type": "markdown",
   "metadata": {},
   "source": [
    "# 面向對象編程（基礎）"
   ]
  },
  {
   "cell_type": "markdown",
   "metadata": {},
   "source": [
    "活在當下的程序員應該都聽過\"面向對象編程\"一詞，也經常有人問能不能用一句話解釋下什麼是\"面向對象編程\"，我們先來看看比較正式的說法。\n",
    "\n",
    "\"把一組數據結構和處理它們的方法組成對象（object），把相同行為的對象歸納為類（class），通過類的封裝（encapsulation）隱藏內部細節，通過繼承（inheritance）實現類的特化（specialization）和泛化（generalization），通過多態（polymorphism）實現基於對像類型的動態分派。\"\n",
    "\n",
    "這樣一說是不是更不明白了。所以我們還是看看更通俗易懂的說法，下方文字來自於知乎。"
   ]
  },
  {
   "cell_type": "markdown",
   "metadata": {},
   "source": [
    "一句話說明什麼是面對對象? 你個土鱉，你們全家都是土鱉。好像有人說過這樣的話，當頭棒喝的方式雖然情感上不易接受，但記憶效果十分顯著，好吧如果你覺得土鱉實在難聽，也不能準確地定位你的檔次，你可以自行將其替換為“土豪”。\n",
    "面向對象思想帶有三大要素：\n",
    "### 封裝,繼承,多態\n",
    "  - 封裝不管你是土鱉還是土豪，不管你中午吃的是燕窩還是鮑魚，吃下的食物都在你的肚子裡，別人看不到你中午吃的啥，除非你自己說給他們聽。\n",
    "  - 繼承: 剛剛說了你個土鱉或土豪，你們全家都是土鱉或土豪。冰凍三尺非一日之寒。你有今日必定可以從你爸爸爺爺那裡追根溯源，正所謂虎父無犬子，正恩同學那麼恨他爹正日就不是什麼善茬，更不用說他爹爹日程。\n",
    "  - 多態: 哲學家說過世上不會有兩個一模一樣的雙胞胎，即使你從你父親那裡繼承來的土鱉/土豪氣質也不可能完全是一個模子裡刻出來的，總會有些差別"
   ]
  },
  {
   "cell_type": "markdown",
   "metadata": {},
   "source": [
    "> 說明： 以上的內容來自於網絡，不代表作者本人的觀點和看法，與作者本人立場無關，相關責任不由作者承擔。"
   ]
  },
  {
   "cell_type": "markdown",
   "metadata": {},
   "source": [
    "之前我們說過\"*程序是指令的集合*\"，我們在程序中書寫的語句在執行時會變成一條或多條指令然後由CPU去執行。當然為了簡化程序的設計，我們引入了函數的概念，把相對獨立且經常重複使用的代碼放置到函數中，在需要使用這些功能的時候只要調用函數即可；如果一個函數的功能過於復雜和臃腫，我們又可以進一步將函數繼續切分為子函數來降低系統的複雜性。但是說了這麼多，不知道大家是否發現，所謂編程就是程序員按照計算機的工作方式控制計算機完成各種任務。但是，計算機的工作方式與正常人類的思維模式是不同的，如果編程就必須得拋棄人類正常的思維方式去迎合計算機，編程的樂趣就少了很多，\"每個人都應該學習編程\"這樣的豪言壯語就只能說說而已。當然，這些還不是最重要的，最重要的是當我們需要開發一個複雜的系統時，代碼的複雜性會讓開發和維護工作都變得舉步維艱，所以在上世紀60年代末期，[\"軟件危機\"](https://zh.wikipedia.org/wiki/软件危机) 、[\"軟件工程\"](https://zh.wikipedia.org/wiki/软件工程)等一系列的概念開始在行業中出現。\n",
    "\n",
    "當然，程序員圈子內的人都知道，現實中並沒有解決上面所說的這些問題的[\"銀彈\"](https://zh.wikipedia.org/wiki/没有银弹)，真正讓軟件開發者看到希望的是上世紀70年代誕生的[Smalltalk](https://zh.wikipedia.org/wiki/Smalltalk)編程語言中引入的面向對象的編程思想（面向對象編程的雛形可以追溯到更早期的[Simula](https://zh.wikipedia.org/wiki/Simula)語言）。按照這種編程理念，程序中的數據和操作數據的函數是一個邏輯上的整體，我們稱之為“對象”，而我們解決問題的方式就是創建出需要的對象並向對象發出各種各樣的消息，多個對象的協同工作最終可以讓我們構造出複雜的系統來解決現實中的問題。"
   ]
  },
  {
   "cell_type": "markdown",
   "metadata": {},
   "source": [
    "  >  說明： 當然面向對像也不是解決軟件開發中所有問題的最後的“銀彈”，所以今天的高級程序設計語言幾乎都提供了對多種編程範式的支持，Python也不例外。"
   ]
  },
  {
   "cell_type": "markdown",
   "metadata": {},
   "source": [
    "## 類和對象"
   ]
  },
  {
   "cell_type": "markdown",
   "metadata": {},
   "source": [
    "簡單的說，類是對象的藍圖和模板，而對像是類的實例。這個解釋雖然有點像用概念在解釋概念，但是從這句話我們至少可以看出，類是抽象的概念，而對像是具體的東西。在面向對象編程的世界中，一切皆為對象，對像都有屬性和行為，每個對像都是獨一無二的，而且對像一定屬於某個類（型）。當我們把一大堆擁有共同特徵的對象的靜態特徵（屬性）和動態特徵（行為）都抽取出來後，就可以定義出一個叫做“類”的東西。"
   ]
  },
  {
   "cell_type": "markdown",
   "metadata": {},
   "source": [
    "### 定義類"
   ]
  },
  {
   "cell_type": "markdown",
   "metadata": {},
   "source": [
    "在Python中可以使用class關鍵字定義類，然後在類中通過之前學習過的函數來定義方法，這樣就可以將對象的動態特徵描述出來，代碼如下所示。"
   ]
  },
  {
   "cell_type": "code",
   "execution_count": 1,
   "metadata": {},
   "outputs": [],
   "source": [
    "class Student(object):\n",
    "\n",
    "    # __init__是一個特殊方法用於在創建對象時進行初始化操作\n",
    "    # 通過這個方法我們可以為學生對象綁定name和age兩個屬性\n",
    "    def __init__(self, name, age):\n",
    "        self.name = name\n",
    "        self.age = age\n",
    "\n",
    "    def study(self, course_name):\n",
    "        print('%s is studying %s.' % (self.name, course_name))\n",
    "\n",
    "    # PEP 8要求標識符的名字用全小寫多個單詞用下劃線連接\n",
    "    # 但是部分程序員和公司更傾向於使用駝峰命名法(駝峰標識)\n",
    "    def watch_movie(self):\n",
    "        if self.age < 18:\n",
    "            print('%s can only watch《We Bare Bears》.' % self.name)\n",
    "        else:\n",
    "            print('%s is watching《Avengers: Endgame》' % self.name)\n"
   ]
  },
  {
   "cell_type": "markdown",
   "metadata": {},
   "source": [
    ">說明： 寫在類中的函數，我們通常稱之為（對象的）方法，這些方法就是對象可以接收的消息。"
   ]
  },
  {
   "cell_type": "markdown",
   "metadata": {},
   "source": [
    "### 創建和使用對象\n",
    "\n",
    "當我們定義好一個類之後，可以通過下面的方式來創建對象並給對象發消息。"
   ]
  },
  {
   "cell_type": "code",
   "execution_count": 2,
   "metadata": {},
   "outputs": [
    {
     "name": "stdout",
     "output_type": "stream",
     "text": [
      "Carson is studying Python programming.\n",
      "Carson is watching《Avengers: Endgame》\n",
      "Ula is studying Cognitive neuroscience.\n",
      "Ula can only watch《We Bare Bears》.\n"
     ]
    }
   ],
   "source": [
    "def main():\n",
    "    # 創建學生對象並指定姓名和年齡\n",
    "    stu1 = Student('Carson', 19)\n",
    "    # 給對象發study消息\n",
    "    stu1.study('Python programming')\n",
    "    # 給對象發watch_av消息\n",
    "    stu1.watch_movie()\n",
    "    stu2 = Student('Ula', 15)\n",
    "    stu2.study('Cognitive neuroscience')\n",
    "    stu2.watch_movie()\n",
    "\n",
    "\n",
    "if __name__ == '__main__':\n",
    "    main()"
   ]
  },
  {
   "cell_type": "markdown",
   "metadata": {},
   "source": [
    "### 訪問可見性問題\n",
    "\n",
    "對於上面的代碼，有C++、Java、C#等編程經驗的程序員可能會問，我們給Student對象綁定的name和age屬性到底具有怎樣的訪問權限（也稱為可見性）。因為在很多面向對象編程語言中，我們通常會將對象的屬性設置為私有的（private）或受保護的（protected），簡單的說就是不允許外界訪問，而對象的方法通常都是公開的（ public），因為公開的方法就是對象能夠接受的消息。在Python中，屬性和方法的訪問權限只有兩種，也就是公開的和私有的，如果希望屬性是私有的，在給屬性命名時可以用兩個下劃線作為開頭，下面的代碼可以驗證這一點。"
   ]
  },
  {
   "cell_type": "code",
   "execution_count": 3,
   "metadata": {},
   "outputs": [
    {
     "ename": "AttributeError",
     "evalue": "'Test' object has no attribute '__bar'",
     "output_type": "error",
     "traceback": [
      "\u001b[0;31m---------------------------------------------------------------------------\u001b[0m",
      "\u001b[0;31mAttributeError\u001b[0m                            Traceback (most recent call last)",
      "\u001b[0;32m<ipython-input-3-145a58377ceb>\u001b[0m in \u001b[0;36m<module>\u001b[0;34m\u001b[0m\n\u001b[1;32m     18\u001b[0m \u001b[0;34m\u001b[0m\u001b[0m\n\u001b[1;32m     19\u001b[0m \u001b[0;32mif\u001b[0m \u001b[0m__name__\u001b[0m \u001b[0;34m==\u001b[0m \u001b[0;34m\"__main__\"\u001b[0m\u001b[0;34m:\u001b[0m\u001b[0;34m\u001b[0m\u001b[0;34m\u001b[0m\u001b[0m\n\u001b[0;32m---> 20\u001b[0;31m     \u001b[0mmain\u001b[0m\u001b[0;34m(\u001b[0m\u001b[0;34m)\u001b[0m\u001b[0;34m\u001b[0m\u001b[0;34m\u001b[0m\u001b[0m\n\u001b[0m",
      "\u001b[0;32m<ipython-input-3-145a58377ceb>\u001b[0m in \u001b[0;36mmain\u001b[0;34m()\u001b[0m\n\u001b[1;32m     12\u001b[0m     \u001b[0mtest\u001b[0m \u001b[0;34m=\u001b[0m \u001b[0mTest\u001b[0m\u001b[0;34m(\u001b[0m\u001b[0;34m'hello'\u001b[0m\u001b[0;34m)\u001b[0m\u001b[0;34m\u001b[0m\u001b[0;34m\u001b[0m\u001b[0m\n\u001b[1;32m     13\u001b[0m     \u001b[0;31m# AttributeError: 'Test' object has no attribute '__bar'\u001b[0m\u001b[0;34m\u001b[0m\u001b[0;34m\u001b[0m\u001b[0;34m\u001b[0m\u001b[0m\n\u001b[0;32m---> 14\u001b[0;31m     \u001b[0mtest\u001b[0m\u001b[0;34m.\u001b[0m\u001b[0m__bar\u001b[0m\u001b[0;34m(\u001b[0m\u001b[0;34m)\u001b[0m\u001b[0;34m\u001b[0m\u001b[0;34m\u001b[0m\u001b[0m\n\u001b[0m\u001b[1;32m     15\u001b[0m     \u001b[0;31m# AttributeError: 'Test' object has no attribute '__foo'\u001b[0m\u001b[0;34m\u001b[0m\u001b[0;34m\u001b[0m\u001b[0;34m\u001b[0m\u001b[0m\n\u001b[1;32m     16\u001b[0m     \u001b[0mprint\u001b[0m\u001b[0;34m(\u001b[0m\u001b[0mtest\u001b[0m\u001b[0;34m.\u001b[0m\u001b[0m__foo\u001b[0m\u001b[0;34m)\u001b[0m\u001b[0;34m\u001b[0m\u001b[0;34m\u001b[0m\u001b[0m\n",
      "\u001b[0;31mAttributeError\u001b[0m: 'Test' object has no attribute '__bar'"
     ]
    }
   ],
   "source": [
    "class Test:\n",
    "\n",
    "    def __init__(self, foo):\n",
    "        self.__foo = foo\n",
    "\n",
    "    def __bar(self):\n",
    "        print(self.__foo)\n",
    "        print('__bar')\n",
    "\n",
    "\n",
    "def main():\n",
    "    test = Test('hello')\n",
    "    # AttributeError: 'Test' object has no attribute '__bar'\n",
    "    test.__bar()\n",
    "    # AttributeError: 'Test' object has no attribute '__foo'\n",
    "    print(test.__foo)\n",
    "\n",
    "\n",
    "if __name__ == \"__main__\":\n",
    "    main()"
   ]
  },
  {
   "cell_type": "markdown",
   "metadata": {},
   "source": [
    "但是，Python並沒有從語法上嚴格保證私有屬性或方法的私密性，它只是給私有的屬性和方法換了一個名字來妨礙對它們的訪問，事實上如果你知道更換名字的規則仍然可以訪問到它們，下面的代碼就可以驗證這一點。之所以這樣設定，可以用這樣一句名言加以解釋，就是\"We are all consenting adults here\"。因為絕大多數程序員都認為開放比封閉要好，而且程序員要自己為自己的行為負責。"
   ]
  },
  {
   "cell_type": "code",
   "execution_count": 4,
   "metadata": {},
   "outputs": [
    {
     "name": "stdout",
     "output_type": "stream",
     "text": [
      "hello\n",
      "__bar\n",
      "hello\n"
     ]
    }
   ],
   "source": [
    "class Test:\n",
    "\n",
    "    def __init__(self, foo):\n",
    "        self.__foo = foo\n",
    "\n",
    "    def __bar(self):\n",
    "        print(self.__foo)\n",
    "        print('__bar')\n",
    "\n",
    "\n",
    "def main():\n",
    "    test = Test('hello')\n",
    "    test._Test__bar()\n",
    "    print(test._Test__foo)\n",
    "\n",
    "\n",
    "if __name__ == \"__main__\":\n",
    "    main()"
   ]
  },
  {
   "cell_type": "markdown",
   "metadata": {},
   "source": [
    "在實際開發中，我們並不建議將屬性設置為私有的，因為這會導致子類無法訪問（後面會講到）。所以大多數Python程序員會遵循一種命名慣例就是讓屬性名以單下劃線開頭來表示屬性是受保護的，本類之外的代碼在訪問這樣的屬性時應該要保持慎重。這種做法並不是語法上的規則，單下劃線開頭的屬性和方法外界仍然是可以訪問的，所以更多的時候它是一種暗示或隱喻，關於這一點可以看看大佬駱昊的[《Python - 那些年我們踩過的那些坑》](https://blog.csdn.net/jackfrued/article/details/79521404)文章中的講解。"
   ]
  },
  {
   "cell_type": "markdown",
   "metadata": {},
   "source": [
    "### 面向對象的支柱"
   ]
  },
  {
   "cell_type": "markdown",
   "metadata": {},
   "source": [
    "面向對像有三大支柱：封裝、繼承和多態。後面兩個概念在下一個章節中進行詳細的說明，這裡我們先說一下什麼是封裝。我自己對封裝的理解是\"隱藏一切可以隱藏的實現細節，只向外界暴露（提供）簡單的編程接口\"。我們在類中定義的方法其實就是把數據和對數據的操作封裝起來了，在我們創建了對象之後，只需要給對象發送一個消息（調用方法）就可以執行方法中的代碼，也就是說我們只需要知道方法的名字和傳入的參數（方法的外部視圖），而不需要知道方法內部的實現細節（方法的內部視圖）。"
   ]
  },
  {
   "cell_type": "markdown",
   "metadata": {},
   "source": [
    "## 練習"
   ]
  },
  {
   "cell_type": "markdown",
   "metadata": {},
   "source": [
    "### 練習1：定義一個類描述數字時鐘。"
   ]
  },
  {
   "cell_type": "code",
   "execution_count": 5,
   "metadata": {},
   "outputs": [
    {
     "name": "stdout",
     "output_type": "stream",
     "text": [
      "23:59:58\n",
      "23:59:59\n",
      "00:00:00\n",
      "00:00:01\n",
      "00:00:02\n",
      "00:00:03\n",
      "00:00:04\n",
      "00:00:05\n"
     ]
    },
    {
     "ename": "KeyboardInterrupt",
     "evalue": "",
     "output_type": "error",
     "traceback": [
      "\u001b[0;31m---------------------------------------------------------------------------\u001b[0m",
      "\u001b[0;31mKeyboardInterrupt\u001b[0m                         Traceback (most recent call last)",
      "\u001b[0;32m<ipython-input-5-9ad35ecfe7a3>\u001b[0m in \u001b[0;36m<module>\u001b[0;34m\u001b[0m\n\u001b[1;32m     42\u001b[0m \u001b[0;34m\u001b[0m\u001b[0m\n\u001b[1;32m     43\u001b[0m \u001b[0;32mif\u001b[0m \u001b[0m__name__\u001b[0m \u001b[0;34m==\u001b[0m \u001b[0;34m'__main__'\u001b[0m\u001b[0;34m:\u001b[0m\u001b[0;34m\u001b[0m\u001b[0;34m\u001b[0m\u001b[0m\n\u001b[0;32m---> 44\u001b[0;31m     \u001b[0mmain\u001b[0m\u001b[0;34m(\u001b[0m\u001b[0;34m)\u001b[0m\u001b[0;34m\u001b[0m\u001b[0;34m\u001b[0m\u001b[0m\n\u001b[0m",
      "\u001b[0;32m<ipython-input-5-9ad35ecfe7a3>\u001b[0m in \u001b[0;36mmain\u001b[0;34m()\u001b[0m\n\u001b[1;32m     37\u001b[0m     \u001b[0;32mwhile\u001b[0m \u001b[0;32mTrue\u001b[0m\u001b[0;34m:\u001b[0m\u001b[0;34m\u001b[0m\u001b[0;34m\u001b[0m\u001b[0m\n\u001b[1;32m     38\u001b[0m         \u001b[0mprint\u001b[0m\u001b[0;34m(\u001b[0m\u001b[0mclock\u001b[0m\u001b[0;34m.\u001b[0m\u001b[0mshow\u001b[0m\u001b[0;34m(\u001b[0m\u001b[0;34m)\u001b[0m\u001b[0;34m)\u001b[0m\u001b[0;34m\u001b[0m\u001b[0;34m\u001b[0m\u001b[0m\n\u001b[0;32m---> 39\u001b[0;31m         \u001b[0msleep\u001b[0m\u001b[0;34m(\u001b[0m\u001b[0;36m1\u001b[0m\u001b[0;34m)\u001b[0m\u001b[0;34m\u001b[0m\u001b[0;34m\u001b[0m\u001b[0m\n\u001b[0m\u001b[1;32m     40\u001b[0m         \u001b[0mclock\u001b[0m\u001b[0;34m.\u001b[0m\u001b[0mrun\u001b[0m\u001b[0;34m(\u001b[0m\u001b[0;34m)\u001b[0m\u001b[0;34m\u001b[0m\u001b[0;34m\u001b[0m\u001b[0m\n\u001b[1;32m     41\u001b[0m \u001b[0;34m\u001b[0m\u001b[0m\n",
      "\u001b[0;31mKeyboardInterrupt\u001b[0m: "
     ]
    }
   ],
   "source": [
    "from time import sleep\n",
    "\n",
    "\n",
    "class Clock(object):\n",
    "    \"\"\"Digital clock\"\"\"\n",
    "\n",
    "    def __init__(self, hour=0, minute=0, second=0):\n",
    "        \"\"\"\n",
    "        Initialization method\n",
    "        :param hour: 時\n",
    "        :param minute: 分\n",
    "        :param second: 秒\n",
    "        \"\"\"\n",
    "        self._hour = hour\n",
    "        self._minute = minute\n",
    "        self._second = second\n",
    "\n",
    "    def run(self):\n",
    "        self._second += 1\n",
    "        if self._second == 60:\n",
    "            self._second = 0\n",
    "            self._minute += 1\n",
    "            if self._minute == 60:\n",
    "                self._minute = 0\n",
    "                self._hour += 1\n",
    "                if self._hour == 24:\n",
    "                    self._hour = 0\n",
    "\n",
    "    def show(self):\n",
    "        \"\"\"Show Time\"\"\"\n",
    "        return '%02d:%02d:%02d' % \\\n",
    "               (self._hour, self._minute, self._second)\n",
    "\n",
    "\n",
    "def main():\n",
    "    clock = Clock(23, 59, 58)\n",
    "    while True:\n",
    "        print(clock.show())\n",
    "        sleep(1)\n",
    "        clock.run()\n",
    "\n",
    "\n",
    "if __name__ == '__main__':\n",
    "    main()"
   ]
  },
  {
   "cell_type": "markdown",
   "metadata": {},
   "source": [
    "### 練習2：定義一個類描述平面上的點並提供移動點和計算到另一個點距離的方法。"
   ]
  },
  {
   "cell_type": "code",
   "execution_count": 6,
   "metadata": {},
   "outputs": [
    {
     "name": "stdout",
     "output_type": "stream",
     "text": [
      "(3, 5)\n",
      "(0, 0)\n",
      "(-1, 2)\n",
      "5.0\n"
     ]
    }
   ],
   "source": [
    "from math import sqrt\n",
    "\n",
    "\n",
    "class Point(object):\n",
    "\n",
    "    def __init__(self, x=0, y=0):\n",
    "        \"\"\"\n",
    "        Initialization method        \n",
    "        :param x: horizontal ordinate\n",
    "        :param y: vertical ordinate\n",
    "        \"\"\"\n",
    "        self.x = x\n",
    "        self.y = y\n",
    "\n",
    "    def move_to(self, x, y):\n",
    "        \"\"\"\n",
    "        Move to the specified location\n",
    "        :param x: New horizontal ordinate\n",
    "        \"param y: New vertical ordinate\n",
    "        \"\"\"\n",
    "        self.x = x\n",
    "        self.y = y\n",
    "\n",
    "    def move_by(self, dx, dy):\n",
    "        \"\"\"\n",
    "        Move specified increment\n",
    "        :param dx: Increment of horizontal ordinate\n",
    "        \"param dy: Increment of vertical ordinate\n",
    "        \"\"\"\n",
    "        self.x += dx\n",
    "        self.y += dy\n",
    "\n",
    "    def distance_to(self, other):\n",
    "        \"\"\"\n",
    "        Calculate distance from another point\n",
    "        :param other: Another point\n",
    "        \"\"\"\n",
    "        dx = self.x - other.x\n",
    "        dy = self.y - other.y\n",
    "        return sqrt(dx ** 2 + dy ** 2)\n",
    "\n",
    "    def __str__(self):\n",
    "        return '(%s, %s)' % (str(self.x), str(self.y))\n",
    "\n",
    "\n",
    "def main():\n",
    "    p1 = Point(3, 5)\n",
    "    p2 = Point()\n",
    "    print(p1)\n",
    "    print(p2)\n",
    "    p2.move_by(-1, 2)\n",
    "    print(p2)\n",
    "    print(p1.distance_to(p2))\n",
    "\n",
    "\n",
    "if __name__ == '__main__':\n",
    "    main()"
   ]
  }
 ],
 "metadata": {
  "kernelspec": {
   "display_name": "Python 3",
   "language": "python",
   "name": "python3"
  },
  "language_info": {
   "codemirror_mode": {
    "name": "ipython",
    "version": 3
   },
   "file_extension": ".py",
   "mimetype": "text/x-python",
   "name": "python",
   "nbconvert_exporter": "python",
   "pygments_lexer": "ipython3",
   "version": "3.7.6"
  }
 },
 "nbformat": 4,
 "nbformat_minor": 4
}
