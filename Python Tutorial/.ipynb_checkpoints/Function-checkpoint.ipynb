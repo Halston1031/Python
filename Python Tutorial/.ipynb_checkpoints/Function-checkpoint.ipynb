{
 "cells": [
  {
   "cell_type": "code",
   "execution_count": 1,
   "metadata": {},
   "outputs": [
    {
     "name": "stdout",
     "output_type": "stream",
     "text": [
      "Name: Taylor Hill\n",
      "Age: 25.000000\n",
      "Occupation: Fashion model\n",
      "Height: 25.000000\n"
     ]
    }
   ],
   "source": [
    "def Info():\n",
    "    print('Name: %s' %'Taylor Hill')\n",
    "    print('Age: %f' %25)\n",
    "    print('Occupation: %s' %'Fashion model')\n",
    "    print('Height: %f' %25)\n",
    "    pass\n",
    "Info() #Call function"
   ]
  },
  {
   "cell_type": "code",
   "execution_count": 2,
   "metadata": {},
   "outputs": [
    {
     "name": "stdout",
     "output_type": "stream",
     "text": [
      "Taylor Hill's Age: 24\n",
      "Taylor Hill's Occupation: Fashion model\n",
      "Taylor Hill's Height: 178.000000\n",
      "Gigi Hadid's Age: 25\n",
      "Gigi Hadid's Occupation: Fashion model\n",
      "Gigi Hadid's Height: 176.000000\n"
     ]
    }
   ],
   "source": [
    "def Info(Name, Age, Occupation, Height):\n",
    "    print('%s Age: %s' %(Name,Age))\n",
    "    print('%s Occupation: %s' %(Name,Occupation))\n",
    "    print('%s Height: %f' %(Name,Height))\n",
    "Info('Taylor Hill\\'s', 24, 'Fashion model' , 178)\n",
    "Info('Gigi Hadid\\'s', 25, 'Fashion model' , 176)"
   ]
  },
  {
   "cell_type": "code",
   "execution_count": 3,
   "metadata": {},
   "outputs": [
    {
     "name": "stdout",
     "output_type": "stream",
     "text": [
      "45\n"
     ]
    }
   ],
   "source": [
    " #① 必選參數\n",
    "def sum(a,b): #a,b為形式參數(形參)：意義上的一種參數，在定義的時候是不佔內存地址的\n",
    "      sum = a+b\n",
    "      print(sum)\n",
    "#函數調用\n",
    "sum(20,25) #20,15為實際參數(實參)：實實在在的參數，佔用內存地址\n",
    "#sum(15) #不能這樣寫--報錯"
   ]
  },
  {
   "cell_type": "code",
   "execution_count": 4,
   "metadata": {},
   "outputs": [
    {
     "name": "stdout",
     "output_type": "stream",
     "text": [
      "默認參數使用= 50\n",
      "默認參數使用= 40\n"
     ]
    }
   ],
   "source": [
    " #② 默認參數[缺省參數]\n",
    "def sum(a = 20,b = 30):\n",
    "      print('默認參數使用= %d' %(a+b))\n",
    "#默認函數調用：在調用的時候如果未賦值，就會用定義函數時給定的默認值\n",
    "sum() #20+30 = 50\n",
    "sum(10) #10+30 = 40"
   ]
  },
  {
   "cell_type": "code",
   "execution_count": 5,
   "metadata": {},
   "outputs": [
    {
     "name": "stdout",
     "output_type": "stream",
     "text": [
      "(1,)\n",
      "(1, 2)\n"
     ]
    }
   ],
   "source": [
    "#③ 可選參數(可變參數):當參數的個數不確定時使用，比較靈活\n",
    "def getComputer(*args):\n",
    "    print(args)\n",
    "getComputer(1) #(1,)元組\n",
    "getComputer(1, 2) #(1, 2)"
   ]
  },
  {
   "cell_type": "code",
   "execution_count": 6,
   "metadata": {},
   "outputs": [
    {
     "name": "stdout",
     "output_type": "stream",
     "text": [
      "result = 1\n",
      "result = 3\n",
      "result = 45\n"
     ]
    }
   ],
   "source": [
    "def getComputer(*args): \n",
    "    result = 0\n",
    "    for item in args:\n",
    "        result += item\n",
    "    print('result = %d' %result)\n",
    "getComputer(1) \n",
    "getComputer(1, 2) \n",
    "getComputer(1, 2, 3, 4, 5, 6, 7, 8, 9) "
   ]
  },
  {
   "cell_type": "code",
   "execution_count": 7,
   "metadata": {},
   "outputs": [
    {
     "name": "stdout",
     "output_type": "stream",
     "text": [
      "{'name': 'Peter', 'age': 35}\n",
      "{'name': 'peter', 'age': 26}\n",
      "{}\n"
     ]
    }
   ],
   "source": [
    "'''\n",
    "④ 關鍵字參數:\n",
    "            ▣ **來定義\n",
    "            ▣ 在函數體內，關鍵字參數為字典類型，key 是一個字符串\n",
    "'''\n",
    "def keyFunc(**kwargs):\n",
    "      print(kwargs)\n",
    "      pass\n",
    "dictA = {'name':'Peter','age':35}\n",
    "keyFunc(**dictA) \n",
    "keyFunc(name = 'peter', age = 26,) \n",
    "keyFunc()       "
   ]
  },
  {
   "cell_type": "code",
   "execution_count": 8,
   "metadata": {},
   "outputs": [
    {
     "name": "stdout",
     "output_type": "stream",
     "text": [
      "(1, 2, 3, 4)\n",
      "{'name': 'Taylor'}\n",
      "()\n",
      "{'age': 25}\n"
     ]
    }
   ],
   "source": [
    " def complexFunc(*args,**kwargs):\n",
    "        print(args)\n",
    "        print(kwargs)\n",
    "complexFunc(1,2,3,4,name = 'Taylor') \n",
    "complexFunc(age = 25) "
   ]
  },
  {
   "cell_type": "code",
   "execution_count": null,
   "metadata": {},
   "outputs": [],
   "source": []
  }
 ],
 "metadata": {
  "kernelspec": {
   "display_name": "Python 3",
   "language": "python",
   "name": "python3"
  },
  "language_info": {
   "codemirror_mode": {
    "name": "ipython",
    "version": 3
   },
   "file_extension": ".py",
   "mimetype": "text/x-python",
   "name": "python",
   "nbconvert_exporter": "python",
   "pygments_lexer": "ipython3",
   "version": "3.7.6"
  }
 },
 "nbformat": 4,
 "nbformat_minor": 4
}
