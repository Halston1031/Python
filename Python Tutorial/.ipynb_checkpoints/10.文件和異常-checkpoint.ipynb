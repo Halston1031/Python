{
 "cells": [
  {
   "cell_type": "markdown",
   "metadata": {},
   "source": [
    "# 文件和異常"
   ]
  },
  {
   "cell_type": "markdown",
   "metadata": {},
   "source": [
    "實際開發中常常會遇到對數據進行[持久化](https://baike.baidu.com/item/数据持久化)操作的場景，而實現數據持久化最直接簡單的方式就是將數據保存到文件中。說到“文件”這個詞，可能需要先科普一下關於[文件系統](https://zh.wikipedia.org/wiki/文件系统)的知識，但是這裡我們並不浪費筆墨介紹這個概念，請大家自行通過[維基百科](https://zh.wikipedia.org/wiki/Wikipedia:首页)進行了解。\n",
    "\n",
    "在Python中實現文件的讀寫操作其實非常簡單，通過Python內置的open函數，我們可以指定文件名、操作模式、編碼信息等來獲得操作文件的對象，接下來就可以對文件進行讀寫操作了。這裡所說的操作模式是指要打開什麼樣的文件（字符文件還是二進製文件）以及做什麼樣的操作（讀、寫還是追加），具體的如下表所示。"
   ]
  },
  {
   "cell_type": "markdown",
   "metadata": {},
   "source": [
    "<table>\n",
    "<tr>\n",
    "<td bgcolor=#DEB887>操作模式</td> \n",
    "<td bgcolor=#DEB887>具體含義</td> \n",
    "</tr>\n",
    "<tr>\n",
    "<td>' r '</td>\n",
    "<td>讀取 （默認）</td>\n",
    "</tr>\n",
    "<tr>\n",
    "<td>' w'</td>\n",
    "<td>寫入（會先截斷之前的內容）</td>\n",
    "</tr>\n",
    "<tr>\n",
    "<td>' x '</td>\n",
    "<td>寫入，如果文件已經存在會產生異常</td>\n",
    "</tr>\n",
    "<tr>\n",
    "<td>' a '</td>\n",
    "<td>追加，將內容寫入到已有文件的末尾</td>\n",
    "</tr>\n",
    "<tr>\n",
    "<td>' b '</td>\n",
    "<td>二進制模式</td>\n",
    "</tr>\n",
    "<tr>\n",
    "<td>' t '</td>\n",
    "<td>文本模式（默認）</td>\n",
    "</tr>\n",
    "<tr>\n",
    "<td>' + '</td>\n",
    "<td>更新（既可以讀又可以寫）</td>\n",
    "</tr>\n",
    "</table>"
   ]
  },
  {
   "cell_type": "markdown",
   "metadata": {},
   "source": [
    "   下面這張圖來自於[菜鳥教程](http://www.runoob.com)網站，它展示了如果根據應用程序的需要來設置操作模式。"
   ]
  },
  {
   "cell_type": "markdown",
   "metadata": {},
   "source": [
    "![](https://raw.githubusercontent.com/jackfrued/Python-100-Days/master/Day01-15/res/file-open-mode.png)"
   ]
  },
  {
   "cell_type": "markdown",
   "metadata": {},
   "source": [
    "### 讀寫文本文件\n",
    "\n",
    "讀取文本文件時，需要在使用open函數時指定好帶路徑的文件名（可以使用相對路徑或絕對路徑）並將文件模式設置為'r'（如果不指定，默認值也是'r'），然後通過encoding參數指定編碼（如果不指定，默認值是None，那麼在讀取文件時使用的是操作系統默認的編碼），如果不能保證保存文件時使用的編碼方式與encoding參數指定的編碼方式是一致的，那麼就可能因無法解碼字符而導致讀取失敗。下面的例子演示瞭如何讀取一個純文本文件。"
   ]
  },
  {
   "cell_type": "code",
   "execution_count": null,
   "metadata": {},
   "outputs": [],
   "source": [
    "def main():\n",
    "    f = open('123.txt', 'r', encoding='utf-8')\n",
    "    print(f.read())\n",
    "    f.close()\n",
    "\n",
    "\n",
    "if __name__ == '__main__':\n",
    "    main()"
   ]
  },
  {
   "cell_type": "markdown",
   "metadata": {},
   "source": [
    "請注意上面的代碼，如果open函數指定的文件並不存在或者無法打開，那麼將引發異常狀況導致程序崩潰。為了讓代碼有一定的健壯性和容錯性，我們可以使用Python的異常機制對可能在運行時發生狀況的代碼進行適當的處理，如下所示。"
   ]
  },
  {
   "cell_type": "code",
   "execution_count": null,
   "metadata": {},
   "outputs": [],
   "source": [
    "def main():\n",
    "    f = None\n",
    "    try:\n",
    "        f = open('123.txt', 'r', encoding='utf-8')\n",
    "        print(f.read())\n",
    "    except FileNotFoundError:\n",
    "        print('Cannot open the specified file!')\n",
    "    except LookupError:\n",
    "        print('Unknown encoding specified!')\n",
    "    except UnicodeDecodeError:\n",
    "        print('Decoding error when reading file!')\n",
    "    finally:\n",
    "        if f:\n",
    "            f.close()\n",
    "\n",
    "\n",
    "if __name__ == '__main__':\n",
    "    main()"
   ]
  },
  {
   "cell_type": "markdown",
   "metadata": {},
   "source": [
    "在Python中，我們可以將那些在運行時可能會出現狀況的代碼放在try代碼塊中，在try代碼塊的後面可以跟上一個或多個except來捕獲可能出現的異常狀況。例如在上面讀取文件的過程中，文件找不到會引發FileNotFoundError，指定了未知的編碼會引發LookupError，而如果讀取文件時無法按指定方式解碼會引發UnicodeDecodeError，我們在try後面跟上了三個except分別處理這三種不同的異常狀況。最後我們使用finally代碼塊來關閉打開的文件，釋放掉程序中獲取的外部資源，由於finally塊的代碼不論程序正常還是異常都會執行到（甚至是調用了sys模塊的exit函數退出Python環境，finally塊都會被執行，因為exit函數實質上是引發了SystemExit異常），因此我們通常把finally塊稱為“總是執行代碼塊”，它最適合用來做釋放外部資源的操作。如果不願意在finally代碼塊中關閉文件對象釋放資源，也可以使用上下文語法，通過with關鍵字指定文件對象的上下文環境並在離開上下文環境時自動釋放文件資源，代碼如下所示。"
   ]
  },
  {
   "cell_type": "code",
   "execution_count": null,
   "metadata": {},
   "outputs": [],
   "source": [
    "def main():\n",
    "    try:\n",
    "        with open('123.txt', 'r', encoding='utf-8') as f:\n",
    "            print(f.read())\n",
    "    except FileNotFoundError:\n",
    "        print('Cannot open the specified file!')\n",
    "    except LookupError:\n",
    "        print('Unknown encoding specified!')\n",
    "    except UnicodeDecodeError:\n",
    "        print('Decoding error when reading file!')\n",
    "\n",
    "\n",
    "if __name__ == '__main__':\n",
    "    main()"
   ]
  },
  {
   "cell_type": "markdown",
   "metadata": {},
   "source": [
    "除了使用文件對象的read方法讀取文件之外，還可以使用for-in循環逐行讀取或者用readlines方法將文件按行讀取到一個列表容器中，代碼如下所示。"
   ]
  },
  {
   "cell_type": "code",
   "execution_count": null,
   "metadata": {},
   "outputs": [],
   "source": [
    "import time\n",
    "\n",
    "\n",
    "def main():\n",
    "    # 一次性读取整个文件内容\n",
    "    with open('123.txt', 'r', encoding='utf-8') as f:\n",
    "        print(f.read())\n",
    "\n",
    "    # 通过for-in循环逐行读取\n",
    "    with open('123.txt', mode='r') as f:\n",
    "        for line in f:\n",
    "            print(line, end='')\n",
    "            time.sleep(0.5)\n",
    "    print()\n",
    "\n",
    "    # 读取文件按行读取到列表中\n",
    "    with open('123.txt') as f:\n",
    "        lines = f.readlines()\n",
    "    print(lines)\n",
    "    \n",
    "\n",
    "if __name__ == '__main__':\n",
    "    main()"
   ]
  },
  {
   "cell_type": "markdown",
   "metadata": {},
   "source": [
    "要將文本信息寫入文件文件也非常簡單，在使用open函數時指定好文件名並將文件模式設置為'w'即可。注意如果需要對文件內容進行追加式寫入，應該將模式設置為'a'。如果要寫入的文件不存在會自動創建文件而不是引發異常。下面的例子演示瞭如何將1-9999之間的素數分別寫入三個文件中（1-99之間的素數保存在a.txt中，100-999之間的素數保存在b.txt中， 1000-9999之間的素數保存在c.txt中）。"
   ]
  },
  {
   "cell_type": "code",
   "execution_count": null,
   "metadata": {},
   "outputs": [],
   "source": [
    "from math import sqrt\n",
    "\n",
    "\n",
    "def is_prime(n):\n",
    "    \"\"\"Function to judge prime numbers\"\"\"\n",
    "    assert n > 0\n",
    "    for factor in range(2, int(sqrt(n)) + 1):\n",
    "        if n % factor == 0:\n",
    "            return False\n",
    "    return True if n != 1 else False\n",
    "\n",
    "\n",
    "def main():\n",
    "    filenames = ('a.txt', 'b.txt', 'c.txt')\n",
    "    fs_list = []\n",
    "    try:\n",
    "        for filename in filenames:\n",
    "            fs_list.append(open(filename, 'w', encoding='utf-8'))\n",
    "        for number in range(1, 10000):\n",
    "            if is_prime(number):\n",
    "                if number < 100:\n",
    "                    fs_list[0].write(str(number) + '\\n')\n",
    "                elif number < 1000:\n",
    "                    fs_list[1].write(str(number) + '\\n')\n",
    "                else:\n",
    "                    fs_list[2].write(str(number) + '\\n')\n",
    "    except IOError as ex:\n",
    "        print(ex)\n",
    "        print('An error occurred while writing the file!')\n",
    "    finally:\n",
    "        for fs in fs_list:\n",
    "            fs.close()\n",
    "    print('Operation complete!')\n",
    "\n",
    "\n",
    "if __name__ == '__main__':\n",
    "    main()"
   ]
  },
  {
   "cell_type": "markdown",
   "metadata": {},
   "source": [
    "### 讀寫二進製文件\n",
    "\n",
    "知道瞭如何讀寫文本文件要讀寫二進製文件也就很簡單了，下面的代碼實現了複製圖片文件的功能。"
   ]
  },
  {
   "cell_type": "code",
   "execution_count": null,
   "metadata": {},
   "outputs": [],
   "source": [
    "def main():\n",
    "    try:\n",
    "        with open('guido.jpg', 'rb') as fs1:\n",
    "            data = fs1.read()\n",
    "            print(type(data))  # <class 'bytes'>\n",
    "        with open('Pic.jpg', 'wb') as fs2:\n",
    "            fs2.write(data)\n",
    "    except FileNotFoundError as e:\n",
    "        print('The specified file cannot be opened.')\n",
    "    except IOError as e:\n",
    "        print('An error occurred while reading or writing the file.')\n",
    "    print('End of program execution.')\n",
    "\n",
    "\n",
    "if __name__ == '__main__':\n",
    "    main()"
   ]
  },
  {
   "cell_type": "markdown",
   "metadata": {},
   "source": [
    "### 讀寫JSON文件\n",
    "\n",
    "通過上面的講解，我們已經知道如何將文本數據和二進制數據保存到文件中，那麼這裡還有一個問題，如果希望把一個列表或者一個字典中的數據保存到文件中又該怎麼做呢？答案是將數據以JSON格式進行保存。 JSON是“JavaScript Object Notation”的縮寫，它本來是JavaScript語言中創建對象的一種字面量語法，現在已經被廣泛的應用於跨平台跨語言的數據交換，原因很簡單，因為JSON也是純文本，任何系統任何編程語言處理純文本都是沒有問題的。目前JSON基本上已經取代了XML作為異構系統間交換數據的事實標準。關於JSON的知識，更多的可以參考JSON的官方網站，從這個網站也可以了解到每種語言處理JSON數據格式可以使用的工具或三方庫，下面是一個JSON的簡單例子。"
   ]
  },
  {
   "cell_type": "code",
   "execution_count": null,
   "metadata": {},
   "outputs": [],
   "source": [
    "{\n",
    "    \"name\": \"Carson\",\n",
    "    \"age\": 19,\n",
    "    \"qq\": 12345,\n",
    "    \"friends\": [\"Ula\", \"Peter\"],\n",
    "    \"cars\": [\n",
    "        {\"brand\": \"BYD\", \"max_speed\": 180},\n",
    "        {\"brand\": \"Audi\", \"max_speed\": 280},\n",
    "        {\"brand\": \"Benz\", \"max_speed\": 320}\n",
    "    ]\n",
    "}"
   ]
  },
  {
   "cell_type": "markdown",
   "metadata": {},
   "source": [
    "可能大家已經註意到了，上面的JSON跟Python中的字典其實是一樣一樣的，事實上JSON的數據類型和Python的數據類型是很容易找到對應關係的，如下面兩張表所示。"
   ]
  },
  {
   "cell_type": "markdown",
   "metadata": {},
   "source": [
    "<table>\n",
    "<tr>\n",
    "<td bgcolor=#DEB887>JSON</td> \n",
    "<td bgcolor=#DEB887>Python</td> \n",
    "</tr>\n",
    "<tr>\n",
    "<td>object</td>\n",
    "<td>dict</td>\n",
    "</tr>\n",
    "<tr>\n",
    "<td>array</td>\n",
    "<td>list</td>\n",
    "</tr>\n",
    "<tr>\n",
    "<td>string</td>\n",
    "<td>str</td>\n",
    "</tr>\n",
    "<tr>\n",
    "<td>number (int / real)</td>\n",
    "<td>int / float</td>\n",
    "</tr>\n",
    "<tr>\n",
    "<td>true / false</td>\n",
    "<td>True / False</td>\n",
    "</tr>\n",
    "<tr>\n",
    "<td>null</td>\n",
    "<td>None</td>\n",
    "</tr>\n",
    "</table>"
   ]
  },
  {
   "cell_type": "markdown",
   "metadata": {},
   "source": [
    "<table>\n",
    "<tr>\n",
    "<td bgcolor=#DEB887>Python</td> \n",
    "<td bgcolor=#DEB887>JSON</td> \n",
    "</tr>\n",
    "<tr>\n",
    "<td>dict</td>\n",
    "<td>object</td>\n",
    "</tr>\n",
    "<tr>\n",
    "<td>list, tuple\t</td>\n",
    "<td>array</td>\n",
    "</tr>\n",
    "<tr>\n",
    "<td>str</td>\n",
    "<td>string</td>\n",
    "</tr>\n",
    "<tr>\n",
    "<td>int, float, int- & float-derived Enums</td>\n",
    "<td>number</td>\n",
    "</tr>\n",
    "<tr>\n",
    "<td>True / False</td>\n",
    "<td>true / false</td>\n",
    "</tr>\n",
    "<tr>\n",
    "<td>None</td>\n",
    "<td>null</td>\n",
    "</tr>\n",
    "</table>"
   ]
  },
  {
   "cell_type": "markdown",
   "metadata": {},
   "source": [
    "我們使用Python中的json模塊就可以將字典或列表以JSON格式保存到文件中，代碼如下所示。"
   ]
  },
  {
   "cell_type": "code",
   "execution_count": null,
   "metadata": {},
   "outputs": [],
   "source": [
    "import json\n",
    "\n",
    "\n",
    "def main():\n",
    "    mydict = {\n",
    "        'name': 'Carson',\n",
    "        'age': 19,\n",
    "        'qq': 12345,\n",
    "        'friends': ['Ula', 'Peter'],\n",
    "        'cars': [\n",
    "            {'brand': 'BYD', 'max_speed': 180},\n",
    "            {'brand': 'Audi', 'max_speed': 280},\n",
    "            {'brand': 'Benz', 'max_speed': 320}\n",
    "        ]\n",
    "    }\n",
    "    try:\n",
    "        with open('data.json', 'w', encoding='utf-8') as fs:\n",
    "            json.dump(mydict, fs)\n",
    "    except IOError as e:\n",
    "        print(e)\n",
    "    print('Save data complete!')\n",
    "\n",
    "\n",
    "if __name__ == '__main__':\n",
    "    main()"
   ]
  },
  {
   "cell_type": "markdown",
   "metadata": {},
   "source": [
    "json模塊主要有四個比較重要的函數，分別是：\n",
    "\n",
    "- dump - 將Python對象按照JSON格式序列化到文件中\n",
    "- dumps - 將Python對象處理成JSON格式的字符串\n",
    "- load - 將文件中的JSON數據反序列化成對象\n",
    "- loads - 將字符串的內容反序列化成Python對象\n",
    "這裡出現了兩個概念，一個叫序列化，一個叫反序列化。自由的百科全書[維基百科](https://zh.wikipedia.org/wiki/Wikipedia:首页)上對這兩個概念是這樣解釋的：“序列化（serialization）在計算機科學的數據處理中，是指將數據結構或對象狀態轉換為可以存儲或傳輸的形式，這樣在需要的時候能夠恢復到原先的狀態，而且通過序列化的數據重新獲取字節時，可以利用這些字節來產生原始對象的副本（拷貝）。與這個過程相反的動作，即從一系列字節中提取數據結構的操作，就是反序列化（deserialization）”。\n",
    "\n",
    "目前絕大多數網絡數據服務（或稱之為網絡API）都是基於[HTTP協議](https://zh.wikipedia.org/wiki/超文本传输协议)提供JSON格式的數據，關於HTTP協議的相關知識，可以看看阮一峰老師的[《HTTP協議入門》](http://www.ruanyifeng.com/blog/2016/08/http.html)，如果想了解中國的網絡數據服務，可以看看[聚合數據](https://www.juhe.cn)和[阿凡達數據](http://www.avatardata.cn)等網站，國外的可以看看[{API}Search](http://apis.io)網站。下面的例子演示瞭如何使用[requests](https://2.python-requests.org//zh_CN/latest/)模塊（封裝得足夠好的第三方網絡訪問模塊）訪問網絡API獲取國內新聞，如何通過json模塊解析JSON數據並顯示新聞標題，這個例子使用了[天行數據](https://www.tianapi.com)提供的國內新聞數據接口，其中的APIKey需要自己到該網站申請。"
   ]
  },
  {
   "cell_type": "code",
   "execution_count": null,
   "metadata": {},
   "outputs": [],
   "source": [
    "import requests\n",
    "import json\n",
    "\n",
    "\n",
    "def main():\n",
    "    resp = requests.get('http://api.tianapi.com/guonei/?key=APIKey&num=10')\n",
    "    data_model = json.loads(resp.text)\n",
    "    for news in data_model['newslist']:\n",
    "        print(news['title'])\n",
    "\n",
    "\n",
    "if __name__ == '__main__':\n",
    "    main()"
   ]
  },
  {
   "cell_type": "markdown",
   "metadata": {},
   "source": [
    "在Python中要實現序列化和反序列化除了使用json模塊之外，還可以使用pickle和shelve模塊，但是這兩個模塊是使用特有的序列化協議來序列化數據，因此序列化後的數據只能被Python識別。關於這兩個模塊的相關知識可以自己看看網絡上的資料。另外，如果要了解更多的關於Python異常機制的知識，可以看看segmentfault上面的文章[《總結：Python中的異常處理》](https://segmentfault.com/a/1190000007736783)，這篇文章不僅介紹了Python中異常機制的使用，還總結了一系列的最佳實踐，很值得一讀。"
   ]
  }
 ],
 "metadata": {
  "kernelspec": {
   "display_name": "Python 3",
   "language": "python",
   "name": "python3"
  },
  "language_info": {
   "codemirror_mode": {
    "name": "ipython",
    "version": 3
   },
   "file_extension": ".py",
   "mimetype": "text/x-python",
   "name": "python",
   "nbconvert_exporter": "python",
   "pygments_lexer": "ipython3",
   "version": "3.7.6"
  }
 },
 "nbformat": 4,
 "nbformat_minor": 4
}
