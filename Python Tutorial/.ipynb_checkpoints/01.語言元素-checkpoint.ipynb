{
 "cells": [
  {
   "cell_type": "markdown",
   "metadata": {},
   "source": [
    "# 語言元素"
   ]
  },
  {
   "cell_type": "markdown",
   "metadata": {},
   "source": [
    "## 指令和程序\n",
    "\n",
    "計算機的硬件系統通常由五大部件構成，包括：運算器、控制器、存儲器、輸入設備和輸出設備。其中，運算器和控制器放在一起就是我們通常所說的中央處理器，它的功能是執行各種運算和控制指令以及處理計算機軟件中的數據。我們通常所說的程序實際上就是指令的集合，我們程序就是將一系列的指令按照某種方式組織到一起，然後通過這些指令去控制計算機做我們想讓它做的事情。今天我們大多數時候使用的計算機，雖然它們的元器件做工越來越精密，處理能力越來越強大，但究其本質來說仍然屬於“馮·諾依曼結構”的計算機。 [“馮·諾依曼結構”](https://zh.wikipedia.org/wiki/冯·诺伊曼结构)有兩個關鍵點，一是指出要將存儲設備與中央處理器分開，二是提出了將數據以二進制方式編碼。二進制是一種“逢二進一”的計數法，跟我們人類使用的“逢十進一”的計數法沒有實質性的區別，人類因為有十根手指所以使用了十進制（因為在數數時十根手指用完之後就只能進位了，當然凡事都有例外，瑪雅人可能是因為長年光著腳的原因把腳趾頭也算上了，於是他們使用了二十進制的計數法，在這種計數法的指導下瑪雅人的曆法就與我們平常使用的曆法不一樣，而按照瑪雅人的曆法，2012年是上一個所謂的“太陽紀”的最後一年，而2013年則是新的“太陽紀”的開始，後來這件事情被以訛傳訛的方式誤傳為”2012年是瑪雅人預言的世界末日“這種荒誕的說法，今天我們可以大膽的猜測，瑪雅文明之所以發展緩慢估計也與使用了二十進制有關）。對於計算機來說，二進制在物理器件上來說是最容易實現的（高電壓表示1，低電壓表示0），於是在“馮·諾依曼結構”的計算機都使用了二進制。雖然我們並不需要每個程序員都能夠使用二進制的思維方式來工作，但是了解二進制以及它與我們生活中的十進制之間的轉換關係，以及二進制與八進制和十六進制的轉換關係還是有必要的。"
   ]
  },
  {
   "cell_type": "markdown",
   "metadata": {},
   "source": [
    "> 說明：近期關於量子計算機的研究已經被推倒了風口浪尖，量子計算機基於量子力學進行運算，使用量子瞬移的方式來傳遞信息。 2018年6月，Intel宣布開發出新款量子芯片並通過了在接近絕對零度環境下的測試；2019年，IBM和Google都推出了自己的量子計算機。 "
   ]
  },
  {
   "cell_type": "markdown",
   "metadata": {},
   "source": [
    "## 變量和類型\n",
    "\n",
    "在程序設計中，變量是一種存儲數據的載體。計算機中的變量是實際存在的數據或者說是存儲器中存儲數據的一塊內存空間，變量的值可以被讀取和修改，這是所有計算和控制的基礎。計算機能處理的數據有很多種類型，除了數值之外還可以處理文本、圖形、音頻、視頻等各種各樣的數據，那麼不同的數據就需要定義不同的存儲類型。 Python中的數據類型很多，而且也允許我們自定義新的數據類型（這一點在後面會講到），我們​​先介紹幾種常用的數據類型。\n",
    "\n",
    "- 整型：Python中可以處理任意大小的整數（Python 2.x中有int和long兩種類型的整數，但這種區分對Python來說意義不大，因此在Python 3.x中整數只有int這一種了），而且支持二進制（如0b100，換算成十進制是4）、八進制（如0o100，換算成十進制是64）、十進制（100）和十六進制（0x100，換算成十進制是256）的表示法。\n",
    "- 浮點型：浮點數也就是小數，之所以稱為浮點數，是因為按照科學記數法表示時，一個浮點數的小數點位置是可變的，浮點數除了數學寫法（如123.456）之外還支持科學計數法（如1.23456e2）。\n",
    "- 字符串型：字符串是以單引號或雙引號括起來的任意文本，比如'hello'和\"hello\",字符串還有原始字符串表示法、字節字符串表示法、Unicode字符串表示法，而且可以書寫成多行的形式（用三個單引號或三個雙引號開頭，三個單引號或三個雙引號結尾）。\n",
    "- 布爾型：布爾值只有True、False兩種值，要麼是True，要麼是False，在Python中，可以直接用True、False表示布爾值（請注意大小寫），也可以通過布爾運算計算出來（例如3 < 5會產生布爾值True，而2 ​​== 1會產生布爾值False）。\n",
    "- 複數型：形如3+5j，跟數學上的複數表示一樣，唯一不同的是虛部的i換成了j。實際上，這個類型並不常用，了解一下即可。"
   ]
  },
  {
   "cell_type": "markdown",
   "metadata": {},
   "source": [
    "### 變量命名\n",
    "\n",
    "對於每個變量我們需要給它取一個名字，就如同我們每個人都有屬於自己的響亮的名字一樣。在Python中，變量命名需要遵循以下這些必須遵守硬性規則和強烈建議遵守的非硬性規則。\n",
    "\n",
    "- 硬性規則：\n",
    "  - 變量名由字母（廣義的Unicode字符，不包括特殊字符）、數字和下劃線構成，數字不能開頭。\n",
    "  - 大小寫敏感（大寫的a和小寫的A是兩個不同的變量）。\n",
    "  - 不要跟關鍵字（有特殊含義的單詞，後面會講到）和系統保留字（如函數、模塊等的名字）衝突。\n",
    "- PEP 8要求：\n",
    "  - 用小寫字母拼寫，多個單詞用下劃線連接。\n",
    "  - 受保護的實例屬性用單個下劃線開頭（後面會講到）。\n",
    "  - 私有的實例屬性用兩個下劃線開頭（後面會講到）。\n",
    "  \n",
    "當然，作為一個專業的程序員，給變量（事實上應該是所有的標識符）命名時做到見名知意也是非常重要的。"
   ]
  },
  {
   "cell_type": "markdown",
   "metadata": {},
   "source": [
    "### 變量的使用"
   ]
  },
  {
   "cell_type": "code",
   "execution_count": 1,
   "metadata": {},
   "outputs": [
    {
     "name": "stdout",
     "output_type": "stream",
     "text": [
      "a = 20\n",
      "b = 15\n",
      "35\n",
      "5\n",
      "300\n",
      "1.3333333333333333\n",
      "20 % 15 = 5\n",
      "32768000000000000000\n",
      "1\n"
     ]
    }
   ],
   "source": [
    "a = int(input('a = '))\n",
    "b = int(input('b = '))\n",
    "print(a+b)\n",
    "print(a-b)\n",
    "print(a*b)\n",
    "print(a/b) #包含小數點！\n",
    "print('%d %% %d = %d' % (a, b, a % b)) #百分號代表了佔位符，所以帶佔位符的字符串中要表示百分號必須寫成%%\n",
    "print(a**b) #a為底數，b為指數\n",
    "print(a//b) #向下取整n"
   ]
  },
  {
   "cell_type": "markdown",
   "metadata": {},
   "source": [
    "在Python中可以使用type函數對變量的類型進行檢查。程序設計中函數的概念跟數學上函數的概念是一致的，數學上的函數相信大家並不陌生，它包括了函數名、自變量和因變量。"
   ]
  },
  {
   "cell_type": "code",
   "execution_count": 2,
   "metadata": {},
   "outputs": [
    {
     "name": "stdout",
     "output_type": "stream",
     "text": [
      "<class 'int'>\n",
      "<class 'float'>\n",
      "<class 'complex'>\n",
      "<class 'str'>\n",
      "<class 'bool'>\n"
     ]
    }
   ],
   "source": [
    "\"\"\"\n",
    "使用type()檢查變量的類型\n",
    "\"\"\"\n",
    "a = 100\n",
    "b = 12.345\n",
    "c = 1 + 5j\n",
    "d = 'hello, world'\n",
    "e = True\n",
    "print(type(a))    # <class 'int'>\n",
    "print(type(b))    # <class 'float'>\n",
    "print(type(c))    # <class 'complex'>\n",
    "print(type(d))    # <class 'str'>\n",
    "print(type(e))    # <class 'bool'>"
   ]
  },
  {
   "cell_type": "markdown",
   "metadata": {},
   "source": [
    "可以使用Python中內置的函數對變量類型進行轉換。\n",
    "\n",
    " - int()：將一個數值或字符串轉換成整數，可以指定進制。\n",
    " - float()：將一個字符串轉換成浮點數。\n",
    " - str()：將指定的對象轉換成字符串形式，可以指定編碼。\n",
    " - chr()：將整數轉換成該編碼對應的字符串（一個字符）。\n",
    " - ord()：將字符串（一個字符）轉換成對應的編碼（整數）。\n",
    " \n",
    "下面的代碼通過鍵盤輸入兩個整數來實現對兩個整數的算術運算。"
   ]
  },
  {
   "cell_type": "code",
   "execution_count": 3,
   "metadata": {},
   "outputs": [
    {
     "name": "stdout",
     "output_type": "stream",
     "text": [
      "a = 20\n",
      "b = 15\n",
      "20 + 15 = 35\n",
      "20 - 15 = 5\n",
      "20 * 15 = 300\n",
      "20 / 15 = 1.333333\n",
      "20 // 15 = 1\n",
      "20 % 15 = 5\n",
      "20 ** 15 = 32768000000000000000\n"
     ]
    }
   ],
   "source": [
    "\"\"\"\n",
    "使用input()函數獲取鍵盤輸入(字符串)\n",
    "使用int()函數將輸入的字符串轉換成整數\n",
    "使用print()函數輸出帶佔位符的字符串\n",
    "\"\"\"\n",
    "a = int(input('a = '))\n",
    "b = int(input('b = '))\n",
    "print('%d + %d = %d' % (a, b, a + b))\n",
    "print('%d - %d = %d' % (a, b, a - b))\n",
    "print('%d * %d = %d' % (a, b, a * b))\n",
    "print('%d / %d = %f' % (a, b, a / b))\n",
    "print('%d // %d = %d' % (a, b, a // b))\n",
    "print('%d %% %d = %d' % (a, b, a % b))\n",
    "print('%d ** %d = %d' % (a, b, a ** b))"
   ]
  },
  {
   "cell_type": "markdown",
   "metadata": {},
   "source": [
    "> 說明：上面的print函數中輸出的字符串使用了佔位符語法，其中%d是整數的佔位符，%f是小數的佔位符，%%表示百分號（因為百分號代表了佔位符，所以帶佔位符的字符串中要表示百分號必須寫成%%），字符串之後的%後面跟的變量值會替換掉佔位符然後輸出到終端中，運行上面的程序。"
   ]
  },
  {
   "cell_type": "markdown",
   "metadata": {},
   "source": [
    "## 運算符\n",
    "Python支持多種運算符，下表大致按照優先級從高到低的順序列出了所有的運算符，運算符的優先級指的是多個運算符同時出現時，先做什麼運算然後再做什麼運算。除了我們之前已經用過的賦值運算符和算術運算符，我們稍後會陸續講到其他運算符的使用。"
   ]
  },
  {
   "cell_type": "markdown",
   "metadata": {},
   "source": [
    "<table>\n",
    "<tr>\n",
    "<td bgcolor=#DEB887>運算子</td> \n",
    "<td bgcolor=#DEB887>描述</td> \n",
    "</tr>\n",
    "<tr>\n",
    "<td>[] [:]</td>\n",
    "<td>下標，切片</td>\n",
    "</tr>\n",
    "<tr>\n",
    "<td>**</td>\n",
    "<td>指數</td>\n",
    "</tr>\n",
    "<tr>\n",
    "<td>~ + -</td>\n",
    "<td>按位取反, 正負號</td>\n",
    "</tr>\n",
    "<tr>\n",
    "<td>* / % //</td>\n",
    "<td>乘，除，模，整除</td>\n",
    "</tr>\n",
    "<tr>\n",
    "<td>+ -</td>\n",
    "<td>加，減</td>\n",
    "</tr>\n",
    "<tr>\n",
    "<td>>> << </td>\n",
    "<td>右移，左移</td>\n",
    "</tr>\n",
    "<tr>\n",
    "<td> & </td>\n",
    "<td>按位與</td>\n",
    "</tr>\n",
    "<tr>\n",
    "<td>^ |\t</td>\n",
    "<td>按位異或，按位或</td>\n",
    "</tr>\n",
    "<tr>\n",
    "<td> <= < > >=\t </td>\n",
    "<td>小於等於，小於，大於，大於等於</td>\n",
    "</tr>\n",
    "<tr>\n",
    "<td> == !=\t </td>\n",
    "<td>等於，不等於</td>\n",
    "</tr>\n",
    "<tr>\n",
    "<td> is is not\t </td>\n",
    "<td>身份運算符</td>\n",
    "</tr>\n",
    "<tr>\n",
    "<td> in not in\t </td>\n",
    "<td>成員運算符</td>\n",
    "</tr>\n",
    "<tr>\n",
    "<td> not or and\t</td>\n",
    "<td>邏輯運算符 按位與</td>\n",
    "</tr>\n",
    "<tr>\n",
    "<td> = += -= *= /= %= //= **= &=  </td>\n",
    "<td>= ^= >>= <<=</td>\n",
    "</tr>\n",
    "</table>"
   ]
  },
  {
   "cell_type": "markdown",
   "metadata": {},
   "source": [
    "### 賦值運算符\n",
    "\n",
    "賦值運算符應該是最為常見的運算符，它的作用是將右邊的值賦給左邊的變量。下面的例子演示了賦值運算符和復合賦值運算符的使用。"
   ]
  },
  {
   "cell_type": "code",
   "execution_count": 4,
   "metadata": {},
   "outputs": [
    {
     "name": "stdout",
     "output_type": "stream",
     "text": [
      "195\n"
     ]
    }
   ],
   "source": [
    "a = 10\n",
    "b = 3\n",
    "a += b        # a = a + b\n",
    "a *= a + 2    # a = a * (a + 2)\n",
    "print(a)     "
   ]
  },
  {
   "cell_type": "markdown",
   "metadata": {},
   "source": [
    "## 比較運算符和邏輯運算符\n",
    "\n",
    "比較運算符有的地方也稱為關係運算符，包括==、!=、<、>、<=、>=，我相信沒有什麼好解釋的，大家一看就能懂，唯一需要提醒的是比較相等用的是==，請注意這個地方是兩個等號，因為=是賦值運算符，我們在上面剛剛講到過，==才是比較相等的比較運算符。比較運算符會產生布爾值，要么是True要么是False。\n",
    "\n",
    "邏輯運算符有三個，分別是and、or和not。 and字面意思是“而且”，所以and運算符會連接兩個布爾值，如果兩個布爾值都是True，那麼運算的結果就是True；左右兩邊的布爾值有一個是False，最終的運算結果就是False。相信大家已經想到了，如果and左邊的布爾值是False，不管右邊的布爾值是什麼，最終的結果都是False，所以在做運算的時候右邊的值會被跳過（短路處理），這也就意味著在and運算符左邊為False的情況下，右邊的表達式根本不會執行。 or字面意思是“或者”，所以or運算符也會連接兩個布爾值，如果兩個布爾值有任意一個是True，那麼最終的結果就是True。當然，or運算符也是有短路功能的，在它左邊的布爾值為True的情況下，右邊的表達式根本不會執行。 not運算符的後面會跟上一個布爾值，它的作用是得到與該布爾值相反的值，也就是說，後面的布爾值如果是True運算結果就是False，而後面的布爾值如果是False則運算結果就是True。"
   ]
  },
  {
   "cell_type": "code",
   "execution_count": 5,
   "metadata": {},
   "outputs": [
    {
     "name": "stdout",
     "output_type": "stream",
     "text": [
      "flag0 = True\n",
      "flag1 = True\n",
      "flag2 = False\n",
      "flag3 = False\n",
      "flag4 = True\n",
      "flag5 = False\n"
     ]
    }
   ],
   "source": [
    "\"\"\"\n",
    "比較運算符和邏輯運算符的使用\n",
    "\"\"\"\n",
    "flag0 = 1 == 1\n",
    "flag1 = 3 > 2\n",
    "flag2 = 2 < 1\n",
    "flag3 = flag1 and flag2\n",
    "flag4 = flag1 or flag2\n",
    "flag5 = not (1 != 2)\n",
    "print('flag0 =', flag0)    # flag0 = True\n",
    "print('flag1 =', flag1)    # flag1 = True\n",
    "print('flag2 =', flag2)    # flag2 = False\n",
    "print('flag3 =', flag3)    # flag3 = False\n",
    "print('flag4 =', flag4)    # flag4 = True\n",
    "print('flag5 =', flag5)    # flag5 = False"
   ]
  },
  {
   "cell_type": "markdown",
   "metadata": {},
   "source": [
    "> 說明：比較運算符的優先級高於賦值運算符，所以flag0 = 1 == 1先做1 == 1產生布爾值True，再將這個值賦值給變量flag0。 print函數可以輸出多個值，多個值之間可以用,進行分隔，輸出的內容之間默認以空格分開。"
   ]
  },
  {
   "cell_type": "markdown",
   "metadata": {},
   "source": [
    "## 練習\n",
    "\n",
    "### 練習1：華氏溫度轉換為攝氏溫度。\n",
    "\n",
    ">提示：華氏溫度到攝氏溫度的轉換公式為：$C=(F - 32) \\div 1.8$。"
   ]
  },
  {
   "cell_type": "code",
   "execution_count": 6,
   "metadata": {},
   "outputs": [
    {
     "name": "stdout",
     "output_type": "stream",
     "text": [
      "Piease enter the Fahrenheit: 332\n",
      "332.0℉ = 166.7℃\n",
      "332.0℉ = 166.7℃\n"
     ]
    }
   ],
   "source": [
    "F = float(input('Piease enter the Fahrenheit: '))\n",
    "C = (F - 32) / 1.8\n",
    "print('%.1f℉ = %.1f℃' % (F, C))\n",
    "print(f'{F:.1f}℉ = {C:.1f}℃') "
   ]
  },
  {
   "cell_type": "markdown",
   "metadata": {},
   "source": [
    ">說明：在使用print函數輸出時，也可以對字符串內容進行格式化處理，上面print函數中的字符串%1.f是一個佔位符，稍後會由一個float類型的變量值替換掉它。同理，如果字符串中有%d，後面可以用一個int類型的變量值替換掉它，而%s會被字符串的值替換掉。除了這種格式化字符串的方式外，還可以用下面的方式來格式化字符串，其中{f:.1f}和{c:.1f}可以先看成是{f}和{c}，表示輸出時會用變量f和變量c的值替換掉這兩個佔位符，後面的:.1f表示這是一個浮點數，小數點後保留1位有效數字。"
   ]
  },
  {
   "cell_type": "markdown",
   "metadata": {},
   "source": [
    "### 練習2：輸入圓的半徑計算計算周長和面積。"
   ]
  },
  {
   "cell_type": "code",
   "execution_count": 7,
   "metadata": {},
   "outputs": [
    {
     "name": "stdout",
     "output_type": "stream",
     "text": [
      "Please enter the radius: 10\n",
      "perimeter: 62.83\n",
      "area: 314.16\n"
     ]
    }
   ],
   "source": [
    "radius = float(input('Please enter the radius: '))\n",
    "perimeter = 2 * 3.1416 * radius\n",
    "area = 3.1416 * radius * radius\n",
    "print('perimeter: %.2f' % perimeter)\n",
    "print('area: %.2f' % area)"
   ]
  },
  {
   "cell_type": "markdown",
   "metadata": {},
   "source": [
    "### 練習3：輸入年份判斷是不是閏年。"
   ]
  },
  {
   "cell_type": "code",
   "execution_count": 8,
   "metadata": {},
   "outputs": [
    {
     "name": "stdout",
     "output_type": "stream",
     "text": [
      "Please enter the year: 2000\n",
      "True\n"
     ]
    }
   ],
   "source": [
    "year = int(input('Please enter the year: '))\n",
    "is_leap = year % 4 == 0 and year % 100 != 0 or year % 400 == 0\n",
    "print(is_leap)"
   ]
  }
 ],
 "metadata": {
  "kernelspec": {
   "display_name": "Python 3",
   "language": "python",
   "name": "python3"
  },
  "language_info": {
   "codemirror_mode": {
    "name": "ipython",
    "version": 3
   },
   "file_extension": ".py",
   "mimetype": "text/x-python",
   "name": "python",
   "nbconvert_exporter": "python",
   "pygments_lexer": "ipython3",
   "version": "3.7.6"
  }
 },
 "nbformat": 4,
 "nbformat_minor": 4
}
