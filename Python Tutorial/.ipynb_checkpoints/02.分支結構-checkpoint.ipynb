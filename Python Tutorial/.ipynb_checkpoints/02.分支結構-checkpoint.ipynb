{
 "cells": [
  {
   "cell_type": "markdown",
   "metadata": {},
   "source": [
    "# 分支結構"
   ]
  },
  {
   "cell_type": "markdown",
   "metadata": {},
   "source": [
    "## 應用場景\n",
    "\n",
    "迄今為止，我們寫的Python代碼都是一條一條語句順序執行，這種代碼結構通常稱之為順序結構。然而僅有順序結構並不能解決所有的問題，比如我們設計一個遊戲，遊戲第一關的通關條件是玩家獲得1000分，那麼在完成本局遊戲後，我們要根據玩家得到分數來決定究竟是進入第二關，還是告訴玩家“Game Over”，這裡就會產生兩個分支，而且這兩個分支只有一個會被執行。類似的場景還有很多，我們將這種結構稱之為“分支結構”或“選擇結構”。"
   ]
  },
  {
   "cell_type": "markdown",
   "metadata": {},
   "source": [
    "## if語句的使用\n",
    "\n",
    "在Python中，要構造分支結構可以使用if、elif和else關鍵字。所謂關鍵字就是有特殊含義的單詞，像if和else就是專門用於構造分支結構的關鍵字，很顯然你不能夠使用它作為變量名（事實上，用作其他的標識符也是不可以）。下面的例子中演示瞭如何構造一個分支結構。"
   ]
  },
  {
   "cell_type": "code",
   "execution_count": 1,
   "metadata": {},
   "outputs": [
    {
     "name": "stdout",
     "output_type": "stream",
     "text": [
      "帳號: Carson\n",
      "密碼: 12345\n",
      "身份或密碼有誤!\n"
     ]
    }
   ],
   "source": [
    "\"\"\"\n",
    "用戶身份驗證\n",
    "\"\"\"\n",
    "username = input('帳號: ')\n",
    "password = input('密碼: ')\n",
    "\n",
    "if username == 'Peter' and password == '123456':\n",
    "    print('成功登入!')\n",
    "else:\n",
    "    print('身份或密碼有誤!')"
   ]
  },
  {
   "cell_type": "markdown",
   "metadata": {},
   "source": [
    "需要說明的是和C/C++、Java等語言不同，Python中沒有用花括號來構造代碼塊而是使用了縮進的方式來表示代碼的層次結構，如果if條件成立的情況下需要執行多條語句，只要保持多條語句具有相同的縮進就可以了。換句話說連續的代碼如果又保持了相同的縮進那麼它們屬於同一個代碼塊，相當於是一個執行的整體。縮進可以使用任意數量的空格，但通常使用4個空格，建議大家不要使用製表鍵或者設置你的代碼編輯工具自動將製表鍵變成4個空格。\n",
    "\n",
    "當然如果要構造出更多的分支，可以使用if...elif...else...結構或者嵌套的if...else...結構，下面的代碼演示瞭如何利用多分支結構實現分段函數求值。\n",
    "\n",
    "$$f(x)=\\begin{cases} 3x-5&\\text{(x>1)}\n",
    " \\\\x+2&\\text{(-1}\\leq\\text{x}\\leq\\text{1)} \n",
    "\\\\5x+3&\\text {(x<-1)}\\end{cases}$$"
   ]
  },
  {
   "cell_type": "code",
   "execution_count": 2,
   "metadata": {},
   "outputs": [
    {
     "name": "stdout",
     "output_type": "stream",
     "text": [
      "x = 7\n",
      "f(7.00) = 16.00\n"
     ]
    }
   ],
   "source": [
    "\"\"\"\n",
    "分段函數求值\n",
    "\n",
    "        3x - 5  (x > 1)\n",
    "f(x) =  x + 2   (-1 <= x <= 1)\n",
    "        5x + 3  (x < -1)\n",
    "\"\"\"\n",
    "x = float(input('x = '))\n",
    "if x > 1:\n",
    "    y = 3 * x - 5\n",
    "elif x >= -1:\n",
    "    y = x + 2\n",
    "else:\n",
    "    y = 5 * x + 3\n",
    "print('f(%.2f) = %.2f' % (x, y))"
   ]
  },
  {
   "cell_type": "markdown",
   "metadata": {},
   "source": [
    "當然根據實際開發的需要，分支結構是可以嵌套的，例如判斷是否通關以後還要根據你獲得的寶物或者道具的數量對你的表現給出等級（比如點亮兩顆或三顆星星），那麼我們就需要在if的內部構造出一個新的分支結構，同理elif和else中也可以再構造新的分支，我們稱之為嵌套的分支結構，也就是說上面的代碼也可以寫成下面的樣子。"
   ]
  },
  {
   "cell_type": "code",
   "execution_count": 3,
   "metadata": {},
   "outputs": [
    {
     "name": "stdout",
     "output_type": "stream",
     "text": [
      "x = 7\n",
      "f(7.00) = 16.00\n"
     ]
    }
   ],
   "source": [
    "\"\"\"\n",
    "分段函數求值\n",
    "        3x - 5 (x > 1)\n",
    "f(x) = x + 2 (-1 <= x <= 1)\n",
    "        5x + 3 (x < -1)\n",
    "\"\"\"\n",
    "x = float(input('x = '))\n",
    "if x > 1:\n",
    "    y = 3 * x - 5\n",
    "else:\n",
    "    if x >= -1:\n",
    "        y = x + 2\n",
    "    else:\n",
    "        y = 5 * x + 3\n",
    "print('f(%.2f) = %.2f' % (x, y))"
   ]
  },
  {
   "cell_type": "markdown",
   "metadata": {},
   "source": [
    "> 說明： 大家可以自己感受一下這兩種寫法到底是哪一種更好。在之前我們提到的Python之禪中有這麼一句話“Flat is better than nested.”，之所以提倡代碼“扁平化”是因為嵌套結構的嵌套層次多了之後會嚴重的影響代碼的可讀性，所以能使用扁平化的結構時就不要使用嵌套。"
   ]
  },
  {
   "cell_type": "code",
   "execution_count": 4,
   "metadata": {},
   "outputs": [
    {
     "name": "stdout",
     "output_type": "stream",
     "text": [
      "x = 7\n",
      "f(7.00) = 16.00\n"
     ]
    }
   ],
   "source": [
    "x = float(input('x = '))\n",
    "if x > 1:\n",
    "    y = 3 * x - 5\n",
    "elif x >= -1:\n",
    "    y = x + 2\n",
    "else:\n",
    "    y = 5 * x + 3\n",
    "print('f(%.2f) = %.2f' % (x, y))"
   ]
  },
  {
   "cell_type": "markdown",
   "metadata": {},
   "source": [
    "## 練習\n",
    "\n",
    "### 練習1：英制單位英寸與公制單位厘米互換。"
   ]
  },
  {
   "cell_type": "code",
   "execution_count": 5,
   "metadata": {},
   "outputs": [
    {
     "name": "stdout",
     "output_type": "stream",
     "text": [
      "Please enter your length: 10\n",
      "Please enter the unit[inch or centimeter]: inch\n",
      "10.000000 inch = 25.400000 centimeter\n"
     ]
    }
   ],
   "source": [
    "\"\"\"\n",
    "英制單位英寸與公制單位厘米互換\n",
    "\"\"\"\n",
    "value = float(input('Please enter your length: '))\n",
    "unit = input('Please enter the unit[inch or centimeter]: ')\n",
    "if unit == 'inch':\n",
    "    print('%f inch = %f centimeter' % (value, value * 2.54))\n",
    "elif unit == 'centimeter':\n",
    "    print('%f centimeter = %f inch' % (value, value / 2.54))\n",
    "else:\n",
    "    print('Please enter a valid unit')"
   ]
  },
  {
   "cell_type": "markdown",
   "metadata": {},
   "source": [
    "### 練習2：百分製成績轉換為等級製成績。\n",
    "\n",
    "> 要求：如果輸入的成績在90分以上（含90分）輸出A；80分-90分（不含90分）輸出B；70分-80分（不含80分）輸出C；60分-70分（不含70分）輸出D；60分以下輸出E。"
   ]
  },
  {
   "cell_type": "code",
   "execution_count": 6,
   "metadata": {},
   "outputs": [
    {
     "name": "stdout",
     "output_type": "stream",
     "text": [
      "Please enter your score: 85\n",
      "Your grade is : B\n"
     ]
    }
   ],
   "source": [
    "\"\"\"\n",
    "百分製成績轉換為等級製成績\n",
    "\"\"\"\n",
    "score = float(input('Please enter your score: '))\n",
    "if score >= 90:\n",
    "    grade = 'A'\n",
    "elif score >= 80:\n",
    "    grade = 'B'\n",
    "elif score >= 70:\n",
    "    grade = 'C'\n",
    "elif score >= 60:\n",
    "    grade = 'D'\n",
    "else:\n",
    "    grade = 'E'\n",
    "print('Your grade is :', grade)"
   ]
  },
  {
   "cell_type": "markdown",
   "metadata": {},
   "source": [
    "### 練習3：輸入三條邊長，如果能構成三角形就計算周長和面積。（提示：海倫公式）"
   ]
  },
  {
   "cell_type": "code",
   "execution_count": 7,
   "metadata": {},
   "outputs": [
    {
     "name": "stdout",
     "output_type": "stream",
     "text": [
      "a = 30\n",
      "b = 40\n",
      "c = 50\n",
      "perimeter: 120.000000\n",
      "area: 600.000000\n"
     ]
    }
   ],
   "source": [
    "\"\"\"\n",
    "判斷輸入的邊長能否構成三角形，如果能則計算出三角形的周長和面積\n",
    "\"\"\"\n",
    "a = float(input('a = '))\n",
    "b = float(input('b = '))\n",
    "c = float(input('c = '))\n",
    "if a + b > c and a + c > b and b + c > a:\n",
    "    print('perimeter: %f' % (a + b + c))\n",
    "    p = (a + b + c) / 2\n",
    "    area = (p * (p - a) * (p - b) * (p - c)) ** 0.5\n",
    "    print('area: %f' % (area))\n",
    "else:\n",
    "    print('can not  form a triangle')"
   ]
  },
  {
   "cell_type": "markdown",
   "metadata": {},
   "source": [
    "> 說明： 上面使用的通過邊長計算三角形面積的公式叫做[海倫公式](https://zh.wikipedia.org/wiki/海伦公式)"
   ]
  }
 ],
 "metadata": {
  "kernelspec": {
   "display_name": "Python 3",
   "language": "python",
   "name": "python3"
  },
  "language_info": {
   "codemirror_mode": {
    "name": "ipython",
    "version": 3
   },
   "file_extension": ".py",
   "mimetype": "text/x-python",
   "name": "python",
   "nbconvert_exporter": "python",
   "pygments_lexer": "ipython3",
   "version": "3.7.6"
  }
 },
 "nbformat": 4,
 "nbformat_minor": 4
}
