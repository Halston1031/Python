{
 "cells": [
  {
   "cell_type": "markdown",
   "metadata": {},
   "source": [
    "# 函數與模塊的使用"
   ]
  },
  {
   "cell_type": "markdown",
   "metadata": {},
   "source": [
    "在講解本章節的內容之前，我們先來研究一道數學題，請說出下面的方程有多少組正整數解。\n",
    "\n",
    "$$x_1 + x_2 + x_3 + x_4 = 8$$\n",
    "\n",
    "事實上，上面的問題等同於將8個蘋果分成四組每組至少一個蘋果有多少種方案。\n",
    "\n",
    "$$C_N^M =\\frac{M!}{N!(M-N)!}, \\text{(M=7, N=3)} $$"
   ]
  },
  {
   "cell_type": "code",
   "execution_count": 1,
   "metadata": {},
   "outputs": [
    {
     "name": "stdout",
     "output_type": "stream",
     "text": [
      "m = 7\n",
      "n = 3\n",
      "35\n"
     ]
    }
   ],
   "source": [
    "\"\"\"\n",
    "輸入M和N計算C(M,N)\n",
    "\"\"\"\n",
    "m = int(input('m = '))\n",
    "n = int(input('n = '))\n",
    "fm = 1\n",
    "for num in range(1, m + 1):\n",
    "    fm *= num\n",
    "fn = 1\n",
    "for num in range(1, n + 1):\n",
    "    fn *= num\n",
    "fm_n = 1\n",
    "for num in range(1, m - n + 1):\n",
    "    fm_n *= num\n",
    "print(fm // fn // fm_n)"
   ]
  },
  {
   "cell_type": "markdown",
   "metadata": {},
   "source": [
    "## 函數的作用\n",
    "\n",
    "不知道大家是否注意到，在上面的代碼中，我們做了3次求階乘，這樣的代碼實際上就是重複代碼。編程大師Martin Fowler先生曾經說過：“代碼有很多種壞味道，重複是最壞的一種！”，要寫出高質量的代碼首先要解決的就是重複代碼的問題。對於上面的代碼來說，我們可以將計算階乘的功能封裝到一個稱之為“函數”的功能模塊中，在需要計算階乘的地方，我們只需要“調用”這個“函數”就可以了。"
   ]
  },
  {
   "cell_type": "markdown",
   "metadata": {},
   "source": [
    "## 定義函數\n",
    "\n",
    "在Python中可以使用def關鍵字來定義函數，和變量一樣每個函數也有一個響亮的名字，而且命名規則跟變量的命名規則是一致的。在函數名後面的圓括號中可以放置傳遞給函數的參數，這一點和數學上的函數非常相似，程序中函數的參數就相當於是數學上說的函數的自變量，而函數執行完成後我們可以通過return關鍵字來返回一個值，這相當於數學上說的函數的因變量。\n",
    "\n",
    "在了解瞭如何定義函數後，我們可以對上面的代碼進行重構，所謂重構就是在不影響代碼執行結果的前提下對代碼的結構進行調整，重構之後的代碼如下所示。"
   ]
  },
  {
   "cell_type": "code",
   "execution_count": 2,
   "metadata": {},
   "outputs": [
    {
     "name": "stdout",
     "output_type": "stream",
     "text": [
      "m = 7\n",
      "n = 3\n",
      "35\n"
     ]
    }
   ],
   "source": [
    "\"\"\"\n",
    "輸入M和N計算C(M,N)\n",
    "\"\"\"\n",
    "def fac(num):\n",
    "    \"\"\"求階乘\"\"\"\n",
    "    result = 1\n",
    "    for n in range(1, num + 1):\n",
    "        result *= n\n",
    "    return result\n",
    "\n",
    "m = int(input('m = '))\n",
    "n = int(input('n = '))\n",
    "# 當需要計算階乘的時候不用再寫循環求階乘而是直接調用已經定義好的函數\n",
    "print(fac(m) // fac(n) // fac(m - n))"
   ]
  },
  {
   "cell_type": "markdown",
   "metadata": {},
   "source": [
    ">說明： Python的math模塊中其實已經有一個名為factorial函數實現了階乘運算，事實上求階乘並不用自己定義函數。下面的例子中，我們講的函數在Python標準庫已經實現過了，我們這裡是為了講解函數的定義和使用才把它們又實現了一遍，實際開發中並不建議做這種低級的重複勞動。"
   ]
  },
  {
   "cell_type": "markdown",
   "metadata": {},
   "source": [
    "## 函數的參數\n",
    "\n",
    "函數是絕大多數編程語言中都支持的一個代碼的\"構建塊\"，但是Python中的函數與其他語言中的函數還是有很多不太相同的地方，其中一個顯著的區別就是Python對函數參數的處理。在Python中，函數的參數可以有默認值，也支持使用可變參數，所以Python並不需要像其他語言一樣支持[函數的重載](https://zh.wikipedia.org/wiki/函数重载)，因為我們在定義一個函數的時候可以讓它有多種不同的使用方式，下面是兩個小例子。"
   ]
  },
  {
   "cell_type": "code",
   "execution_count": 3,
   "metadata": {},
   "outputs": [
    {
     "name": "stdout",
     "output_type": "stream",
     "text": [
      "3\n",
      "12\n",
      "0\n",
      "1\n",
      "3\n",
      "6\n",
      "350\n"
     ]
    }
   ],
   "source": [
    "from random import randint\n",
    "\n",
    "\n",
    "def roll_dice(n=2):\n",
    "    \"\"\"搖色子\"\"\"\n",
    "    total = 0\n",
    "    for _ in range(n):\n",
    "        total += randint(1, 6)\n",
    "    return total\n",
    "\n",
    "\n",
    "def add(a=0, b=0, c=0):\n",
    "    \"\"\"三個數相加\"\"\"\n",
    "    return a + b + c\n",
    "\n",
    "# 如果沒有指定參數那麼使用默認值搖兩顆色子\n",
    "print(roll_dice())\n",
    "# 搖三顆色子\n",
    "print(roll_dice(3))\n",
    "print(add())\n",
    "print(add(1))\n",
    "print(add(1, 2))\n",
    "print(add(1, 2, 3))\n",
    "# 傳遞參數時可以不按照設定的順序進行傳遞\n",
    "print(add(c=50, a=100, b=200))"
   ]
  },
  {
   "cell_type": "markdown",
   "metadata": {},
   "source": [
    "我們給上面兩個函數的參數都設定了默認值，這也就意味著如果在調用函數的時候如果沒有傳入對應參數的值時將使用該參數的默認值，所以在上面的代碼中我們可以用各種不同的方式去調用add函數，這跟其他很多語言中函數重載的效果是一致的。\n",
    "\n",
    "其實上面的add函數還有更好的實現方案，因為我們可能會對0個或多個參數進行加法運算，而具體有多少個參數是由調用者來決定，我們作為函數的設計者對這一點是一無所知的，因此在不確定參數個數的時候，我們可以使用可變參數。"
   ]
  },
  {
   "cell_type": "code",
   "execution_count": 4,
   "metadata": {},
   "outputs": [
    {
     "name": "stdout",
     "output_type": "stream",
     "text": [
      "0\n",
      "1\n",
      "3\n",
      "6\n",
      "25\n"
     ]
    }
   ],
   "source": [
    "# 在參數名前面的*表示args是一個可變參數\n",
    "def add(*args):\n",
    "    total = 0\n",
    "    for val in args:\n",
    "        total += val\n",
    "    return total\n",
    "\n",
    "# 在調用add函數時可以傳入0個或多個參數\n",
    "print(add())\n",
    "print(add(1))\n",
    "print(add(1, 2))\n",
    "print(add(1, 2, 3))\n",
    "print(add(1, 3, 5, 7, 9))"
   ]
  },
  {
   "cell_type": "markdown",
   "metadata": {},
   "source": [
    "## 用模塊管理函數\n",
    "\n",
    "對於任何一種編程語言來說，給變量、函數這樣的標識符起名字都是一個讓人頭疼的問題，因為我們會遇到命名衝突這種尷尬的情況。最簡單的場景就是在同一個.py文件中定義了兩個同名函數，由於Python沒有函數重載的概念，那麼後面的定義會覆蓋之前的定義，也就意味著兩個函數同名函數實際上只有一個是存在的。"
   ]
  },
  {
   "cell_type": "code",
   "execution_count": 5,
   "metadata": {},
   "outputs": [
    {
     "name": "stdout",
     "output_type": "stream",
     "text": [
      "goodbye, world!\n"
     ]
    }
   ],
   "source": [
    "def foo():\n",
    "    print('hello, world!')\n",
    "\n",
    "def foo():\n",
    "    print('goodbye, world!')\n",
    "\n",
    "foo()"
   ]
  },
  {
   "cell_type": "markdown",
   "metadata": {},
   "source": [
    "程序中調用的是最後導入的那個foo，因為後導入的foo覆蓋了之前導入的foo。"
   ]
  },
  {
   "cell_type": "code",
   "execution_count": 6,
   "metadata": {},
   "outputs": [
    {
     "name": "stdout",
     "output_type": "stream",
     "text": [
      "call foo()\n",
      "call bar()\n"
     ]
    }
   ],
   "source": [
    "def foo():\n",
    "    pass\n",
    "\n",
    "\n",
    "def bar():\n",
    "    pass\n",
    "\n",
    "\n",
    "# __name__是Python中一个隐含的变量它代表了模块的名字\n",
    "# 只有被Python解释器直接执行的模块的名字才是__main__\n",
    "if __name__ == '__main__':\n",
    "    print('call foo()')\n",
    "    foo()\n",
    "    print('call bar()')\n",
    "    bar()"
   ]
  },
  {
   "cell_type": "markdown",
   "metadata": {},
   "source": [
    "## 練習\n",
    "\n",
    "### 練習1：實現計算求最大公約數和最小公倍數的函數。"
   ]
  },
  {
   "cell_type": "code",
   "execution_count": 7,
   "metadata": {},
   "outputs": [
    {
     "name": "stdout",
     "output_type": "stream",
     "text": [
      "x = 12\n",
      "y = 4\n",
      "4\n",
      "x = 12\n",
      "y = 4\n",
      "12\n"
     ]
    }
   ],
   "source": [
    "def gcd(x, y):\n",
    "    #gcd\n",
    "    (x, y) = (y, x) if x > y else (x, y)\n",
    "    for factor in range(x, 0, -1):\n",
    "        if x % factor == 0 and y % factor == 0:\n",
    "            return factor\n",
    "\n",
    "def lcm(x, y):\n",
    "   #lcm\n",
    "    return x * y // gcd(x, y)\n",
    "print(gcd(int(input('x = ')), int(input('y = '))))\n",
    "print(lcm(int(input('x = ')),int(input('y = '))))"
   ]
  },
  {
   "cell_type": "markdown",
   "metadata": {},
   "source": [
    "### 練習2：實現判斷一個數是不是回文數的函數。"
   ]
  },
  {
   "cell_type": "code",
   "execution_count": 8,
   "metadata": {},
   "outputs": [
    {
     "name": "stdout",
     "output_type": "stream",
     "text": [
      "Num = 121\n",
      "True\n"
     ]
    }
   ],
   "source": [
    "def is_palindrome(num):\n",
    "#Determine whether a number is a palindrome\n",
    "    temp = num\n",
    "    total = 0\n",
    "    while temp > 0:\n",
    "        total = total * 10 + temp % 10\n",
    "        temp //= 10\n",
    "    return total == num\n",
    "print(is_palindrome(int(input('Num = '))))"
   ]
  },
  {
   "cell_type": "markdown",
   "metadata": {},
   "source": [
    "### 練習3：實現判斷一個數是不是素數的函數。"
   ]
  },
  {
   "cell_type": "code",
   "execution_count": 9,
   "metadata": {},
   "outputs": [
    {
     "name": "stdout",
     "output_type": "stream",
     "text": [
      "17\n",
      "True\n"
     ]
    }
   ],
   "source": [
    "def is_prime(num):\n",
    "#Determine whether a number is prime\n",
    "    for factor in range(2, int(num ** 0.5) + 1):\n",
    "        if num % factor == 0:\n",
    "            return False\n",
    "    return True if num != 1 else False\n",
    "print(is_prime(int(input())))"
   ]
  },
  {
   "cell_type": "markdown",
   "metadata": {},
   "source": [
    "### 練習4：寫一個程序判斷輸入的正整數是不是回文素數。"
   ]
  },
  {
   "cell_type": "code",
   "execution_count": 10,
   "metadata": {},
   "outputs": [
    {
     "name": "stdout",
     "output_type": "stream",
     "text": [
      "Please enter a positive integer: 171\n",
      "171 is the number of palindromes\n"
     ]
    }
   ],
   "source": [
    "#Palindrome\n",
    "num = int(input('Please enter a positive integer: '))\n",
    "temp = num\n",
    "num2 = 0\n",
    "while temp > 0:\n",
    "    num2 *= 10\n",
    "    num2 += temp % 10\n",
    "    temp //= 10\n",
    "if num == num2:\n",
    "    print('%d is the number of palindromes' % num)\n",
    "else:\n",
    "    print('%d is not the number of palindromes' % num)"
   ]
  },
  {
   "cell_type": "markdown",
   "metadata": {},
   "source": [
    ">注意：通過上面的程序可以看出，當我們將代碼中重複出現的和相對獨立的功能抽取成函數後，我們可以組合使用這些函數來解決更為複雜的問題，這也是我們為什麼要定義和使用函數的一個非常重要的原因。"
   ]
  },
  {
   "cell_type": "markdown",
   "metadata": {},
   "source": [
    "## 變量的作用域"
   ]
  },
  {
   "cell_type": "code",
   "execution_count": 11,
   "metadata": {},
   "outputs": [
    {
     "name": "stdout",
     "output_type": "stream",
     "text": [
      "100\n",
      "hello\n",
      "True\n"
     ]
    }
   ],
   "source": [
    "def foo():\n",
    "    b = 'hello'\n",
    "\n",
    "    # Python中可以在函數內部再定義函數\n",
    "    def bar():\n",
    "        c = True\n",
    "        print(a)\n",
    "        print(b)\n",
    "        print(c)\n",
    "\n",
    "    bar()\n",
    "    # print(c)  # NameError: name 'c' is not defined\n",
    "\n",
    "\n",
    "if __name__ == '__main__':\n",
    "    a = 100\n",
    "    # print(b)  # NameError: name 'b' is not defined\n",
    "    foo()"
   ]
  },
  {
   "cell_type": "markdown",
   "metadata": {},
   "source": [
    "上面的代碼能夠順利的執行並且打印出100、hello和True，但我們注意到了，在bar函數的內部並沒有定義a和b兩個變量，那麼a和b是從哪裡來的。我們在上面代碼的if分支中定義了一個變量a，這是一個全局變量（global variable），屬於全局作用域，因為它沒有定義在任何一個函數中。在上面的foo函數中我們定義了變量b，這是一個定義在函數中的局部變量（local variable），屬於局部作用域，在foo函數的外部並不能訪問到它；但對於foo函數內部的bar函數來說，變量b屬於嵌套作用域，在bar函數中我們是可以訪問到它的。 bar函數中的變量c屬於局部作用域，在bar函數之外是無法訪問的。事實上，Python查找一個變量時會按照“局部作用域”、“嵌套作用域”、“全局作用域”和“內置作用域”的順序進行搜索，前三者我們在上面的代碼中已經看到了，所謂的“內置作用域”就是Python內置的那些標識符，我們之前用過的input、print、int等都屬於內置作用域。\n",
    "\n",
    "再看看下面這段代碼，我們希望通過函數調用修改全局變量a的值，但實際上下面的代碼是做不到的。"
   ]
  },
  {
   "cell_type": "code",
   "execution_count": 12,
   "metadata": {},
   "outputs": [
    {
     "name": "stdout",
     "output_type": "stream",
     "text": [
      "200\n",
      "100\n"
     ]
    }
   ],
   "source": [
    "def foo():\n",
    "    a = 200\n",
    "    print(a)  # 200\n",
    "\n",
    "\n",
    "if __name__ == '__main__':\n",
    "    a = 100\n",
    "    foo()\n",
    "    print(a)  # 100"
   ]
  },
  {
   "cell_type": "markdown",
   "metadata": {},
   "source": [
    "在調用foo函數後，我們發現a的值仍然是100，這是因為當我們在函數foo中寫a = 200的時候，是重新定義了一個名字為a的局部變量，它跟全局作用域的a並不是同一個變量，因為局部作用域中有了自己的變量a，因此foo函數不再搜索全局作用域中的a。如果我們希望在foo函數中修改全局作用域中的a。"
   ]
  },
  {
   "cell_type": "code",
   "execution_count": 13,
   "metadata": {},
   "outputs": [
    {
     "name": "stdout",
     "output_type": "stream",
     "text": [
      "200\n",
      "200\n"
     ]
    }
   ],
   "source": [
    "def foo():\n",
    "    global a\n",
    "    a = 200\n",
    "    print(a)  # 200\n",
    "\n",
    "\n",
    "if __name__ == '__main__':\n",
    "    a = 100\n",
    "    foo()\n",
    "    print(a)  # 200"
   ]
  },
  {
   "cell_type": "markdown",
   "metadata": {},
   "source": [
    "我們可以使用global關鍵字來指示foo函數中的變量a來自於全局作用域，如果全局作用域中沒有a，那麼下面一行的代碼就會定義變量a並將其置於全局作用域。同理，如果我們希望函數內部的函數能夠修改嵌套作用域中的變量，可以使用nonlocal關鍵字來指示變量來自於嵌套作用域，請大家自行試驗。\n",
    "\n",
    "在實際開發中，我們應該盡量減少對全局變量的使用，因為全局變量的作用域和影響過於廣泛，可能會發生意料之外的修改和使用，除此之外全局變量比局部變量擁有更長的生命週期，可能導致對象佔用的內存長時間無法被垃圾回收。事實上，減少對全局變量的使用，也是降低代碼之間耦合度的一個重要舉措，同時也是對迪米特法則的踐行。減少全局變量的使用就意味著我們應該盡量讓變量的作用域在函數的內部，但是如果我們希望將一個局部變量的生命週期延長，使其在定義它的函數調用結束後依然可以使用它的值，這時候就需要使用閉包，這個我們在後續的內容中進行講解。\n",
    "\n",
    "說明： 很多人經常會將“閉包”和“匿名函數”混為一談，但實際上它們並不是一回事，如果想了解這個概念，可以看看維基百科的解釋或者知乎上對這個概念的討論。\n",
    "說了那麼多，其實結論很簡單，從現在開始我們可以將Python代碼按照下面的格式進行書寫，這一點點的改進其實就是在我們理解了函數和作用域的基礎上跨出的巨大的一步。"
   ]
  },
  {
   "cell_type": "code",
   "execution_count": 14,
   "metadata": {},
   "outputs": [],
   "source": [
    "def main():\n",
    "    # Todo: Add your code here\n",
    "    pass\n",
    "\n",
    "\n",
    "if __name__ == '__main__':\n",
    "    main()"
   ]
  }
 ],
 "metadata": {
  "kernelspec": {
   "display_name": "Python 3",
   "language": "python",
   "name": "python3"
  },
  "language_info": {
   "codemirror_mode": {
    "name": "ipython",
    "version": 3
   },
   "file_extension": ".py",
   "mimetype": "text/x-python",
   "name": "python",
   "nbconvert_exporter": "python",
   "pygments_lexer": "ipython3",
   "version": "3.8.3"
  }
 },
 "nbformat": 4,
 "nbformat_minor": 4
}
