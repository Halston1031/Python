{
 "cells": [
  {
   "cell_type": "markdown",
   "metadata": {},
   "source": [
    "# 循環結構"
   ]
  },
  {
   "cell_type": "markdown",
   "metadata": {},
   "source": [
    "## 應用場景\n",
    "\n",
    "我們在寫程序的時候，一定會遇到需要重複執行某條或某些指令的場景。例如用程序控制機器人踢足球，如果機器人持球而且還沒有進入射門範圍，那麼我們就要一直發出讓機器人向球門方向移動的指令。在這個場景中，讓機器人向球門方向移動就是一個需要重複的動作，當然這裡還會用到上一課講的分支結構來判斷機器人是否持球以及是否進入射門範圍。再舉一個簡單的例子，如果要實現每隔1秒中在屏幕上打印一次“hello, world”並持續打印一個小時，我們肯定不能夠直接把print('hello, world')這句代碼寫3600遍，這裡同樣需要循環結構。\n",
    "\n",
    "循環結構就是程序中控制某條或某些指令重複執行的結構。在Python中構造循環結構有兩種做法，一種是for-in循環，一種是while循環。"
   ]
  },
  {
   "cell_type": "markdown",
   "metadata": {},
   "source": [
    "## for-in循環\n",
    "\n",
    "如果明確的知道循環執行的次數或者要對一個容器進行迭代（後面會講到），那麼我們推薦使用for-in循環，例如下面代碼中計算1~100求和的結果（$\\displaystyle \\sum \\ limits_{n=1}^{100}n$）。"
   ]
  },
  {
   "cell_type": "code",
   "execution_count": 1,
   "metadata": {},
   "outputs": [
    {
     "name": "stdout",
     "output_type": "stream",
     "text": [
      "5050\n"
     ]
    }
   ],
   "source": [
    "\"\"\"\n",
    "用for循環實現1~100求和\n",
    "\"\"\"\n",
    "sum = 0\n",
    "for x in range(101):\n",
    "    sum += x\n",
    "print(sum)"
   ]
  },
  {
   "cell_type": "markdown",
   "metadata": {},
   "source": [
    "需要說明的是上面代碼中的range(1, 101)可以用來構造一個從1到100的範圍，當我們把這樣一個範圍放到for-in循環中，就可以通過前面的循環變量x依次取出從1到100的整數。當然，range的用法非常靈活，下面給出了一個例子：\n",
    "\n",
    " - range(101)：可以用來產生0到100範圍的整數，需要注意的是取不到101。\n",
    " - range(1, 101)：可以用來產生1到100範圍的整數，相當於前面是閉區間後面是開區間。\n",
    " - range(1, 101, 2)：可以用來產生1到100的奇數，其中2是步長，即每次數值遞增的值。\n",
    " - range(100, 0, -2)：可以用來產生100到1的偶數，其中-2是步長，即每次數字遞減的值。\n",
    " \n",
    "知道了這一點，我們可以用下面的代碼來實現1~100之間的偶數求和。"
   ]
  },
  {
   "cell_type": "code",
   "execution_count": 2,
   "metadata": {},
   "outputs": [
    {
     "name": "stdout",
     "output_type": "stream",
     "text": [
      "2550\n"
     ]
    }
   ],
   "source": [
    "\"\"\"\n",
    "用for循環實現1~100之間的偶數求和\n",
    "\"\"\"\n",
    "sum = 0\n",
    "for x in range(2, 101, 2):\n",
    "    sum += x\n",
    "print(sum)"
   ]
  },
  {
   "cell_type": "markdown",
   "metadata": {},
   "source": [
    "## while循環\n",
    "\n",
    "如果要構造不知道具體循環次數的循環結構，我們推薦使用while循環。 while循環通過一個能夠產生或轉換出bool值的表達式來控制循環，表達式的值為True則繼續循環；表達式的值為False則結束循環。\n",
    "\n",
    "下面我們通過一個“猜數字”的小遊戲來看看如何使用while循環。猜數字遊戲的規則是：計算機出一個1到100之間的隨機數，玩家輸入自己猜的數字，計算機給出對應的提示信息（大一點、小一點或猜對了），如果玩家猜中了數字，計算機提示用戶一共猜了多少次，遊戲結束，否則遊戲繼續。"
   ]
  },
  {
   "cell_type": "code",
   "execution_count": 3,
   "metadata": {},
   "outputs": [
    {
     "name": "stdout",
     "output_type": "stream",
     "text": [
      "Please enter the number: 50\n",
      "bigger\n",
      "Please enter the number: 75\n",
      "bigger\n",
      "Please enter the number: 88\n",
      "smaller\n",
      "Please enter the number: 81\n",
      "smaller\n",
      "Please enter the number: 78\n",
      "bigger\n",
      "Please enter the number: 80\n",
      "Congratulations, you guessed it right!\n",
      "You guessed 6 times in total\n"
     ]
    }
   ],
   "source": [
    "\"\"\"\n",
    "猜數字遊戲\n",
    "\"\"\"\n",
    "import random\n",
    "\n",
    "answer = random.randint(1, 100)\n",
    "counter = 0\n",
    "while True:\n",
    "    counter += 1\n",
    "    number = int(input('Please enter the number: '))\n",
    "    if number < answer:\n",
    "        print('bigger')\n",
    "    elif number > answer:\n",
    "        print('smaller')\n",
    "    else:\n",
    "        print('Congratulations, you guessed it right!')\n",
    "        break\n",
    "print('You guessed %d times in total' % counter)\n",
    "if counter > 7:\n",
    "    print('OMG! Your IQ balance is obviously insufficient')"
   ]
  },
  {
   "cell_type": "markdown",
   "metadata": {},
   "source": [
    "上面的代碼中使用了break關鍵字來提前終止循環，需要注意的是break只能終止它所在的那個循環，這一點在使用嵌套的循環結構（下面會講到）需要引起注意。除了break之外，還有另一個關鍵字是continue，它可以用來放棄本次循環後續的代碼直接讓循環進入下一輪。\n",
    "\n",
    "和分支結構一樣，循環結構也是可以嵌套的，也就是說在循環中還可以構造循環結構。下面的例子演示瞭如何通過嵌套的循環來輸出一個九九乘法表。"
   ]
  },
  {
   "cell_type": "code",
   "execution_count": 4,
   "metadata": {},
   "outputs": [
    {
     "name": "stdout",
     "output_type": "stream",
     "text": [
      "1*1=1\t\n",
      "2*1=2\t2*2=4\t\n",
      "3*1=3\t3*2=6\t3*3=9\t\n",
      "4*1=4\t4*2=8\t4*3=12\t4*4=16\t\n",
      "5*1=5\t5*2=10\t5*3=15\t5*4=20\t5*5=25\t\n",
      "6*1=6\t6*2=12\t6*3=18\t6*4=24\t6*5=30\t6*6=36\t\n",
      "7*1=7\t7*2=14\t7*3=21\t7*4=28\t7*5=35\t7*6=42\t7*7=49\t\n",
      "8*1=8\t8*2=16\t8*3=24\t8*4=32\t8*5=40\t8*6=48\t8*7=56\t8*8=64\t\n",
      "9*1=9\t9*2=18\t9*3=27\t9*4=36\t9*5=45\t9*6=54\t9*7=63\t9*8=72\t9*9=81\t\n"
     ]
    }
   ],
   "source": [
    "\"\"\"\n",
    "輸出乘法口訣表(九九表)\n",
    "\"\"\"\n",
    "for i in range(1, 10):\n",
    "    for j in range(1, i + 1):\n",
    "        print('%d*%d=%d' % (i, j, i * j), end='\\t')\n",
    "    print()"
   ]
  },
  {
   "cell_type": "markdown",
   "metadata": {},
   "source": [
    "## 練習\n",
    "### 練習1：輸出1～100質數。\n",
    "\n",
    "提示：質數指的是只能被1和自身整除的大於1的整數。"
   ]
  },
  {
   "cell_type": "code",
   "execution_count": 5,
   "metadata": {},
   "outputs": [
    {
     "name": "stdout",
     "output_type": "stream",
     "text": [
      "2 3 5 7 11 13 17 19 23 29 31 37 41 43 47 53 59 61 67 71 73 79 83 89 97 "
     ]
    }
   ],
   "source": [
    "#Prime (1 to 100)\n",
    "import math\n",
    "\n",
    "for num in range(2, 100):\n",
    "    is_prime = True\n",
    "    for factor in range(2, int(math.sqrt(num)) + 1):\n",
    "        if num % factor == 0:\n",
    "            is_prime = False\n",
    "            break\n",
    "    if is_prime:\n",
    "        print(num, end=' ')"
   ]
  },
  {
   "cell_type": "markdown",
   "metadata": {},
   "source": [
    "### 練習2：輸入一個正整數判斷是不是質數。\n",
    "\n",
    "提示：質數指的是只能被1和自身整除的大於1的整數。"
   ]
  },
  {
   "cell_type": "code",
   "execution_count": 6,
   "metadata": {},
   "outputs": [
    {
     "name": "stdout",
     "output_type": "stream",
     "text": [
      "Please enter a positive integer: 17\n",
      "17 is a prime number\n"
     ]
    }
   ],
   "source": [
    "\"\"\"\n",
    "輸入一個正整數判斷它是不是質數\n",
    "\"\"\"\n",
    "from math import sqrt\n",
    "\n",
    "num = int(input('Please enter a positive integer: '))\n",
    "end = int(sqrt(num))\n",
    "is_prime = True\n",
    "for x in range(2, end + 1):\n",
    "    if num % x == 0:\n",
    "        is_prime = False\n",
    "        break\n",
    "if is_prime and num != 1:\n",
    "    print('%d is a prime number' % num)\n",
    "else:\n",
    "    print('%d is not a prime number' % num)"
   ]
  },
  {
   "cell_type": "markdown",
   "metadata": {},
   "source": [
    "### 練習2：輸入兩個正整數，計算它們的最大公約數和最小公倍數。\n",
    "\n",
    "提示：兩個數的最大公約數是兩個數的公共因子中最大的那個數；兩個數的最小公倍數則是能夠同時被兩個數整除的最小的那個數。"
   ]
  },
  {
   "cell_type": "code",
   "execution_count": 7,
   "metadata": {},
   "outputs": [
    {
     "name": "stdout",
     "output_type": "stream",
     "text": [
      "x = 24\n",
      "y = 3\n",
      "The GCD between 3 and 24 is 3\n",
      "The LCM between 3 and 24 is 24\n"
     ]
    }
   ],
   "source": [
    "\"\"\"\n",
    "輸入兩個正整數計算它們的最大公約數和最小公倍數\n",
    "\"\"\"\n",
    "x = int(input('x = '))\n",
    "y = int(input('y = '))\n",
    "# If x is greater than y, exchange the values of x and y\n",
    "if x > y:\n",
    "    # Assign the value of y to x and the value of x to y through the following operations\n",
    "    x, y = y, x\n",
    "# Start the decreasing cycle from the comparison between the two numbers\n",
    "for factor in range(x, 0, -1):\n",
    "    if x % factor == 0 and y % factor == 0:\n",
    "        print('The GCD between %d and %d is %d' % (x, y, factor))\n",
    "        print('The LCM between %d and %d is %d' % (x, y, x * y // factor))\n",
    "        break"
   ]
  },
  {
   "cell_type": "raw",
   "metadata": {},
   "source": [
    "練習3：打印出下列三種三角形。\n",
    "\n",
    "*\n",
    "**\n",
    "***\n",
    "****\n",
    "*****\n",
    "\n",
    "     *\n",
    "    **\n",
    "   ***\n",
    " ****\n",
    "*****\n",
    "\n",
    "     *\n",
    "   ***\n",
    "  *****\n",
    " *******\n",
    "*********"
   ]
  },
  {
   "cell_type": "code",
   "execution_count": 8,
   "metadata": {},
   "outputs": [
    {
     "name": "stdout",
     "output_type": "stream",
     "text": [
      "row = : 5\n",
      "*\n",
      "**\n",
      "***\n",
      "****\n",
      "*****\n",
      "    *\n",
      "   **\n",
      "  ***\n",
      " ****\n",
      "*****\n",
      "    *\n",
      "   ***\n",
      "  *****\n",
      " *******\n",
      "*********\n"
     ]
    }
   ],
   "source": [
    "\"\"\"\n",
    "打印三角形圖案\n",
    "\"\"\"\n",
    "row = int(input('row = : '))\n",
    "for i in range(row):\n",
    "    for _ in range(i + 1):\n",
    "        print('*', end='')\n",
    "    print()\n",
    "\n",
    "\n",
    "for i in range(row):\n",
    "    for j in range(row):\n",
    "        if j < row - i - 1:\n",
    "            print(' ', end='')\n",
    "        else:\n",
    "            print('*', end='')\n",
    "    print()\n",
    "\n",
    "for i in range(row):\n",
    "    for _ in range(row - i - 1):\n",
    "        print(' ', end='')\n",
    "    for _ in range(2 * i + 1):\n",
    "        print('*', end='')\n",
    "    print()"
   ]
  }
 ],
 "metadata": {
  "kernelspec": {
   "display_name": "Python 3",
   "language": "python",
   "name": "python3"
  },
  "language_info": {
   "codemirror_mode": {
    "name": "ipython",
    "version": 3
   },
   "file_extension": ".py",
   "mimetype": "text/x-python",
   "name": "python",
   "nbconvert_exporter": "python",
   "pygments_lexer": "ipython3",
   "version": "3.8.3"
  }
 },
 "nbformat": 4,
 "nbformat_minor": 4
}
