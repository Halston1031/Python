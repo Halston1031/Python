{
 "cells": [
  {
   "cell_type": "markdown",
   "metadata": {},
   "source": [
    "# 字符串和常用數據結構"
   ]
  },
  {
   "cell_type": "markdown",
   "metadata": {},
   "source": [
    "## 使用字符串\n",
    "\n",
    "第二次世界大戰促使了現代電子計算機的誕生，最初計算機被應用於導彈彈道的計算，而在計算機誕生後的很多年時間裡，計算機處理的信息基本上都是數值型的信息。世界上的第一台電子計算機叫ENIAC（電子數值積分計算機），誕生於美國的賓夕法尼亞大學，每秒鐘能夠完成約5000次浮點運算。隨著時間的推移，雖然數值運算仍然是計算機日常工作中最為重要的事情之一，但是今天的計算機處理得更多的數據可能都是以文本的方式存在的，如果我們希望通過Python程序操作本這些文本信息，就必須要先了解字符串類型以及與它相關的知識。\n",
    "\n",
    "所謂字符串，就是由零個或多個字符組成的有限序列，一般記為$${\\displaystyle s=a_{1}a_{2}\\dots a_{n}(0\\leq n \\leq \\infty )}$$ 在Python程序中，如果我們把單個或多個字符用單引號或者雙引號包圍起來，就可以表示一個字符串。"
   ]
  },
  {
   "cell_type": "code",
   "execution_count": 1,
   "metadata": {},
   "outputs": [
    {
     "name": "stdout",
     "output_type": "stream",
     "text": [
      "hello, world! hello, world! \n",
      "hello,\n",
      "world!\n"
     ]
    }
   ],
   "source": [
    "s1 = 'hello, world!'\n",
    "s2 = \"hello, world!\"\n",
    "# 以三個雙引號或單引號開頭的字符串可以換行\n",
    "s3 = \"\"\"\n",
    "hello,\n",
    "world!\n",
    "\"\"\"\n",
    "print(s1, s2, s3, end='')"
   ]
  },
  {
   "cell_type": "markdown",
   "metadata": {},
   "source": [
    "可以在字符串中使用\\（反斜杠）來表示轉義，也就是說\\後面的字符不再是它原來的意義，例如：\\n不是代表反斜杠和字符n，而是表示換行；而\\t也不是代表反斜杠和字符t，而是表示製表符。所以如果想在字符串中表示'要寫成\\'，同理想表示\\要寫成\\\\。"
   ]
  },
  {
   "cell_type": "code",
   "execution_count": 2,
   "metadata": {},
   "outputs": [
    {
     "name": "stdout",
     "output_type": "stream",
     "text": [
      "'hello, world!' \n",
      "\\hello, world!\\\n"
     ]
    }
   ],
   "source": [
    "s1 = '\\'hello, world!\\''\n",
    "s2 = '\\n\\\\hello, world!\\\\\\n'\n",
    "print(s1, s2, end='')"
   ]
  },
  {
   "cell_type": "markdown",
   "metadata": {},
   "source": [
    "在\\後面還可以跟一個八進製或者十六進制數來表示字符，例如\\141和\\x61都代表小寫字母a，前者是八進制的表示法，後者是十六進制的表示法。也可以在\\後面跟Unicode字符編碼來表示字符，例如\\u660a\\u438a代表的是中文“昊䎊”。"
   ]
  },
  {
   "cell_type": "code",
   "execution_count": 3,
   "metadata": {},
   "outputs": [
    {
     "name": "stdout",
     "output_type": "stream",
     "text": [
      "abcabc 昊䎊\n"
     ]
    }
   ],
   "source": [
    "s1 = '\\141\\142\\143\\x61\\x62\\x63'\n",
    "s2 = '\\u660a\\u438a'\n",
    "print(s1, s2)"
   ]
  },
  {
   "cell_type": "markdown",
   "metadata": {},
   "source": [
    "如果不希望字符串中的\\表示轉義，我們可以通過在字符串的最前面加上字母r來加以說明。"
   ]
  },
  {
   "cell_type": "code",
   "execution_count": 4,
   "metadata": {},
   "outputs": [
    {
     "name": "stdout",
     "output_type": "stream",
     "text": [
      "\\'hello, world!\\' \\n\\\\hello, world!\\\\\\n "
     ]
    }
   ],
   "source": [
    "s1 = r'\\'hello, world!\\''\n",
    "s2 = r'\\n\\\\hello, world!\\\\\\n'\n",
    "print(s1, s2, end=' ')"
   ]
  },
  {
   "cell_type": "markdown",
   "metadata": {},
   "source": [
    "Python為字符串類型提供了非常豐富的運算符，我們可以使用+運算符來實現字符串的拼接，可以使用*運算符來重複一個字符串的內容，可以使用in和not in來判斷一個字符串是否包含另外一個字符串（成員運算），我們也可以用[]和[:]運算符從字符串取出某個字符或某些字符（切片運算）。"
   ]
  },
  {
   "cell_type": "code",
   "execution_count": 5,
   "metadata": {},
   "outputs": [
    {
     "name": "stdout",
     "output_type": "stream",
     "text": [
      "hello hello hello \n",
      "hello hello hello world\n",
      "True\n",
      "False\n",
      "c\n",
      "c12\n",
      "c123456\n",
      "c246\n",
      "ac246\n",
      "654321cba\n",
      "45\n"
     ]
    }
   ],
   "source": [
    "s1 = 'hello ' * 3\n",
    "print(s1) # hello hello hello\n",
    "s2 = 'world'\n",
    "s1 += s2\n",
    "print(s1) # hello hello hello world\n",
    "print('ll' in s1) # True\n",
    "print('good' in s1) # False\n",
    "str2 = 'abc123456'\n",
    "# 從字符串中取出指定位置的字符(下標運算)\n",
    "print(str2[2]) # c\n",
    "# 字符串切片(從指定的開始索引到指定的結束索引)\n",
    "#slice [start, end, step]\n",
    "#左閉右開，start <= value < end\n",
    "print(str2[2:5]) # c12\n",
    "print(str2[2:]) # c123456\n",
    "print(str2[2::2]) # c246\n",
    "print(str2[::2]) # ac246\n",
    "print(str2[::-1]) # 654321cba\n",
    "print(str2[-3:-1]) # 45"
   ]
  },
  {
   "cell_type": "markdown",
   "metadata": {},
   "source": [
    "在Python中，我們還可以通過一系列的方法來完成對字符串的處理。"
   ]
  },
  {
   "cell_type": "code",
   "execution_count": 6,
   "metadata": {},
   "outputs": [
    {
     "name": "stdout",
     "output_type": "stream",
     "text": [
      "13\n",
      "Hello, world!\n",
      "Hello, World!\n",
      "HELLO, WORLD!\n",
      "8\n",
      "-1\n",
      "False\n",
      "True\n",
      "True\n",
      "******************hello, world!*******************\n",
      "                                     hello, world!\n",
      "False\n",
      "False\n",
      "True\n",
      " happy123@gmail.com \n",
      "happy123@gmail.com\n"
     ]
    }
   ],
   "source": [
    "str1 = 'hello, world!'\n",
    "# 通過內置函數len計算字符串的長度\n",
    "print(len(str1)) # 13\n",
    "# 獲得字符串首字母大寫的拷貝\n",
    "print(str1.capitalize()) # Hello, world!\n",
    "# 獲得字符串每個單詞首字母大寫的拷貝\n",
    "print(str1.title()) # Hello, World!\n",
    "# 獲得字符串變大寫後的拷貝\n",
    "print(str1.upper()) # HELLO, WORLD!\n",
    "# 從字符串中查找子串所在位置\n",
    "print(str1.find('or')) # 8\n",
    "print(str1.find('shit')) # -1\n",
    "# 與find類似但找不到子串時會引發異常\n",
    "# print(str1.index('or'))\n",
    "# print(str1.index('shit'))\n",
    "# 檢查字符串是否以指定的字符串開頭\n",
    "print(str1.startswith('He')) # False\n",
    "print(str1.startswith('hel')) # True\n",
    "# 檢查字符串是否以指定的字符串結尾\n",
    "print(str1.endswith('!')) # True\n",
    "# 將字符串以指定的寬度居中並在兩側填充指定的字符\n",
    "print(str1.center(50, '*'))\n",
    "# 將字符串以指定的寬度靠右放置左側填充指定的字符\n",
    "print(str1.rjust(50, ' '))\n",
    "str2 = 'abc123456'\n",
    "# 檢查字符串是否由數字構成\n",
    "print(str2.isdigit()) # False\n",
    "# 檢查字符串是否以字母構成\n",
    "print(str2.isalpha()) # False\n",
    "# 檢查字符串是否以數字和字母構成\n",
    "print(str2.isalnum()) # True\n",
    "str3 = ' happy123@gmail.com '\n",
    "print(str3)\n",
    "# 獲得字符串修剪左右兩側空格之後的拷貝\n",
    "print(str3.strip())"
   ]
  },
  {
   "cell_type": "markdown",
   "metadata": {},
   "source": [
    "我們之前講過，可以用下面的方式來格式化輸出字符串。"
   ]
  },
  {
   "cell_type": "code",
   "execution_count": 7,
   "metadata": {},
   "outputs": [
    {
     "name": "stdout",
     "output_type": "stream",
     "text": [
      "5 * 10 = 50\n"
     ]
    }
   ],
   "source": [
    "a, b = 5, 10\n",
    "print('%d * %d = %d' % (a, b, a * b))"
   ]
  },
  {
   "cell_type": "markdown",
   "metadata": {},
   "source": [
    "當然，我們也可以用字符串提供的方法來完成字符串的格式。"
   ]
  },
  {
   "cell_type": "code",
   "execution_count": 8,
   "metadata": {},
   "outputs": [
    {
     "name": "stdout",
     "output_type": "stream",
     "text": [
      "5 * 10 = 50\n"
     ]
    }
   ],
   "source": [
    "a, b = 5, 10\n",
    "print('{0} * {1} = {2}'.format(a, b, a * b))"
   ]
  },
  {
   "cell_type": "markdown",
   "metadata": {},
   "source": [
    "Python 3.6以後，格式化字符串還有更為簡潔的書寫方式，就是在字符串前加上字母f，我們可以使用下面的語法來簡化上面的代碼。"
   ]
  },
  {
   "cell_type": "code",
   "execution_count": 9,
   "metadata": {},
   "outputs": [
    {
     "name": "stdout",
     "output_type": "stream",
     "text": [
      "5 * 10 = 50\n"
     ]
    }
   ],
   "source": [
    "a, b = 5, 10\n",
    "print(f'{a} * {b} = {a * b}')"
   ]
  },
  {
   "cell_type": "markdown",
   "metadata": {},
   "source": [
    "除了字符串，Python還內置了多種類型的數據結構，如果要在程序中保存和操作數據，絕大多數時候可以利用現有的數據結構來實現，最常用的包括列表、元組、集合和字典。"
   ]
  },
  {
   "cell_type": "markdown",
   "metadata": {},
   "source": [
    "## 使用列表"
   ]
  },
  {
   "cell_type": "markdown",
   "metadata": {},
   "source": [
    "不知道大家是否注意到，剛才我們講到的字符串類型（str）和之前我們講到的數值類型（int和float）有一些區別。\n",
    "數值類型是標量類型，也就是說這種類型的對像沒有可以訪問的內部結構；而字符串類型是一種結構化的、非標量類型，所以才會有一系列的屬性和方法。\n",
    "接下來我們要介紹的列表（list），也是一種結構化的、非標量類型，它是值的有序序列，每個值都可以通過索引進行標識，定義列表可以將列表的元素放在[ ]中，多個元素用,進行分隔，可以使用for循環對列表元素進行遍歷，也可以使用[]或[:]運算符取出列表中的一個或多個元素。"
   ]
  },
  {
   "cell_type": "code",
   "execution_count": 10,
   "metadata": {},
   "outputs": [
    {
     "name": "stdout",
     "output_type": "stream",
     "text": [
      "[1, 3, 5, 7, 100]\n",
      "['hello', 'hello', 'hello']\n",
      "5\n",
      "1\n",
      "100\n",
      "100\n",
      "5\n",
      "[1, 3, 300, 7, 100]\n",
      "1\n",
      "3\n",
      "300\n",
      "7\n",
      "100\n",
      "1\n",
      "3\n",
      "300\n",
      "7\n",
      "100\n",
      "0 1\n",
      "1 3\n",
      "2 300\n",
      "3 7\n",
      "4 100\n"
     ]
    }
   ],
   "source": [
    "list1 = [1, 3, 5, 7, 100]\n",
    "print(list1) # [1, 3, 5, 7, 100]\n",
    "# 乘號表示列表元素的重複\n",
    "list2 = ['hello'] * 3\n",
    "print(list2) # ['hello', 'hello', 'hello']\n",
    "# 計算列表長度(元素個數)\n",
    "print(len(list1)) # 5\n",
    "# 下標(索引)運算\n",
    "print(list1[0]) # 1\n",
    "print(list1[4]) # 100\n",
    "# print(list1[5]) # IndexError: list index out of range\n",
    "print(list1[-1]) # 100\n",
    "print(list1[-3]) # 5\n",
    "list1[2] = 300\n",
    "print(list1) # [1, 3, 300, 7, 100]\n",
    "# 通過循環用下標遍歷列表元素\n",
    "for index in range(len(list1)):\n",
    "    print(list1[index])\n",
    "# 通過for循環遍歷列表元素\n",
    "for elem in list1:\n",
    "    print(elem)\n",
    "# 通過enumerate函數處理列表之後再遍歷可以同時獲得元素索引和值\n",
    "for index, elem in enumerate(list1):\n",
    "    print(index, elem)"
   ]
  },
  {
   "cell_type": "markdown",
   "metadata": {},
   "source": [
    "下面的代碼演示瞭如何向列表中添加元素以及如何從列表中移除元素。"
   ]
  },
  {
   "cell_type": "code",
   "execution_count": 11,
   "metadata": {},
   "outputs": [
    {
     "name": "stdout",
     "output_type": "stream",
     "text": [
      "[1, 400, 3, 5, 7, 100, 200, 1000, 2000]\n",
      "9\n",
      "[1, 400, 5, 7, 100, 200, 1000, 2000]\n",
      "[400, 5, 7, 100, 200, 1000]\n",
      "[]\n"
     ]
    }
   ],
   "source": [
    "list1 = [1, 3, 5, 7, 100]\n",
    "# 添加元素\n",
    "list1.append(200)\n",
    "list1.insert(1, 400)\n",
    "# 合併兩個列表\n",
    "# list1.extend([1000, 2000])\n",
    "list1 += [1000, 2000]\n",
    "print(list1) # [1, 400, 3, 5, 7, 100, 200, 1000, 2000]\n",
    "print(len(list1)) # 9\n",
    "# 先通過成員運算判斷元素是否在列表中，如果存在就刪除該元素\n",
    "if 3 in list1:\n",
    "    list1.remove(3)\n",
    "if 1234 in list1:\n",
    "    list1.remove(1234)\n",
    "print(list1) # [1, 400, 5, 7, 100, 200, 1000, 2000]\n",
    "# 從指定的位置刪除元素\n",
    "list1.pop(0)\n",
    "list1.pop(len(list1) - 1)\n",
    "print(list1) # [400, 5, 7, 100, 200, 1000]\n",
    "# 清空列表元素\n",
    "list1.clear()\n",
    "print(list1) # []"
   ]
  },
  {
   "cell_type": "markdown",
   "metadata": {},
   "source": [
    "和字符串一樣，列表也可以做切片操作，通過切片操作我們可以實現對列表的複製或者將列表中的一部分取出來創建出新的列表。"
   ]
  },
  {
   "cell_type": "code",
   "execution_count": 12,
   "metadata": {},
   "outputs": [
    {
     "name": "stdout",
     "output_type": "stream",
     "text": [
      "['apple', 'strawberry', 'waxberry']\n",
      "['grape', 'apple', 'strawberry', 'waxberry', 'pitaya', 'pear', 'mango']\n",
      "['pitaya', 'pear']\n",
      "['mango', 'pear', 'pitaya', 'waxberry', 'strawberry', 'apple', 'grape']\n"
     ]
    }
   ],
   "source": [
    "fruits = ['grape', 'apple', 'strawberry', 'waxberry']\n",
    "fruits += ['pitaya', 'pear', 'mango']\n",
    "# 列表切片\n",
    "fruits2 = fruits[1:4]\n",
    "print(fruits2) # apple strawberry waxberry\n",
    "# 可以通過完整切片操作來複製列表\n",
    "fruits3 = fruits[:]\n",
    "print(fruits3) # ['grape', 'apple', 'strawberry', 'waxberry', 'pitaya', 'pear', 'mango']\n",
    "fruits4 = fruits[-3:-1]\n",
    "print(fruits4) # ['pitaya', 'pear']\n",
    "# 可以通過反向切片操作來獲得倒轉後的列表的拷貝\n",
    "fruits5 = fruits[::-1]\n",
    "print(fruits5) # ['mango', 'pear', 'pitaya', 'waxberry', 'strawberry', 'apple', 'grape']"
   ]
  },
  {
   "cell_type": "markdown",
   "metadata": {},
   "source": [
    "下面的代碼實現了對列表的排序操作。"
   ]
  },
  {
   "cell_type": "code",
   "execution_count": 13,
   "metadata": {},
   "outputs": [
    {
     "name": "stdout",
     "output_type": "stream",
     "text": [
      "['orange', 'apple', 'zoo', 'internationalization', 'blueberry']\n",
      "['apple', 'blueberry', 'internationalization', 'orange', 'zoo']\n",
      "['zoo', 'orange', 'internationalization', 'blueberry', 'apple']\n",
      "['zoo', 'apple', 'orange', 'blueberry', 'internationalization']\n",
      "['zoo', 'orange', 'internationalization', 'blueberry', 'apple']\n"
     ]
    }
   ],
   "source": [
    "list1 = ['orange', 'apple', 'zoo', 'internationalization', 'blueberry']\n",
    "list2 = sorted(list1)\n",
    "# sorted函數返回列表排序後的拷貝不會修改傳入的列表\n",
    "# 函數的設計就應該像sorted函數一樣盡可能不產生副作用\n",
    "list3 = sorted(list1, reverse=True)\n",
    "# 通過key關鍵字參數指定根據字符串長度進行排序而不是默認的字母表順序\n",
    "list4 = sorted(list1, key=len)\n",
    "print(list1)\n",
    "print(list2)\n",
    "print(list3)\n",
    "print(list4)\n",
    "# 給列表對象發出排序消息直接在列表對像上進行排序\n",
    "list1.sort(reverse=True)\n",
    "print(list1)"
   ]
  },
  {
   "cell_type": "markdown",
   "metadata": {},
   "source": [
    "## 生成式和生成器\n",
    "\n",
    "我們還可以使用列表的生成式語法來創建列表。"
   ]
  },
  {
   "cell_type": "code",
   "execution_count": 14,
   "metadata": {},
   "outputs": [
    {
     "name": "stdout",
     "output_type": "stream",
     "text": [
      "[1, 2, 3, 4, 5, 6, 7, 8, 9]\n",
      "['A1', 'A2', 'A3', 'A4', 'A5', 'A6', 'A7', 'B1', 'B2', 'B3', 'B4', 'B5', 'B6', 'B7', 'C1', 'C2', 'C3', 'C4', 'C5', 'C6', 'C7', 'D1', 'D2', 'D3', 'D4', 'D5', 'D6', 'D7', 'E1', 'E2', 'E3', 'E4', 'E5', 'E6', 'E7']\n"
     ]
    },
    {
     "ename": "NameError",
     "evalue": "name 'sys' is not defined",
     "output_type": "error",
     "traceback": [
      "\u001b[0;31m---------------------------------------------------------------------------\u001b[0m",
      "\u001b[0;31mNameError\u001b[0m                                 Traceback (most recent call last)",
      "\u001b[0;32m<ipython-input-14-304c591865f7>\u001b[0m in \u001b[0;36m<module>\u001b[0;34m\u001b[0m\n\u001b[1;32m      6\u001b[0m \u001b[0;31m# 用這種語法創建列表之後元素已經準備就緒所以需要耗費較多的內存空間\u001b[0m\u001b[0;34m\u001b[0m\u001b[0;34m\u001b[0m\u001b[0;34m\u001b[0m\u001b[0m\n\u001b[1;32m      7\u001b[0m \u001b[0mf\u001b[0m \u001b[0;34m=\u001b[0m \u001b[0;34m[\u001b[0m\u001b[0mx\u001b[0m \u001b[0;34m**\u001b[0m \u001b[0;36m2\u001b[0m \u001b[0;32mfor\u001b[0m \u001b[0mx\u001b[0m \u001b[0;32min\u001b[0m \u001b[0mrange\u001b[0m\u001b[0;34m(\u001b[0m\u001b[0;36m1\u001b[0m\u001b[0;34m,\u001b[0m \u001b[0;36m1000\u001b[0m\u001b[0;34m)\u001b[0m\u001b[0;34m]\u001b[0m\u001b[0;34m\u001b[0m\u001b[0;34m\u001b[0m\u001b[0m\n\u001b[0;32m----> 8\u001b[0;31m \u001b[0mprint\u001b[0m\u001b[0;34m(\u001b[0m\u001b[0msys\u001b[0m\u001b[0;34m.\u001b[0m\u001b[0mgetsizeof\u001b[0m\u001b[0;34m(\u001b[0m\u001b[0mf\u001b[0m\u001b[0;34m)\u001b[0m\u001b[0;34m)\u001b[0m \u001b[0;31m# 查看對象佔用內存的字節數\u001b[0m\u001b[0;34m\u001b[0m\u001b[0;34m\u001b[0m\u001b[0m\n\u001b[0m\u001b[1;32m      9\u001b[0m \u001b[0mprint\u001b[0m\u001b[0;34m(\u001b[0m\u001b[0mf\u001b[0m\u001b[0;34m)\u001b[0m\u001b[0;34m\u001b[0m\u001b[0;34m\u001b[0m\u001b[0m\n\u001b[1;32m     10\u001b[0m \u001b[0;31m# 請注意下面的代碼創建的不是一個列表而是一個生成器對象\u001b[0m\u001b[0;34m\u001b[0m\u001b[0;34m\u001b[0m\u001b[0;34m\u001b[0m\u001b[0m\n",
      "\u001b[0;31mNameError\u001b[0m: name 'sys' is not defined"
     ]
    }
   ],
   "source": [
    "f = [x for x in range(1, 10)]\n",
    "print(f)\n",
    "f = [x + y for x in 'ABCDE' for y in '1234567']\n",
    "print(f)\n",
    "# 用列表的生成表達式語法創建列表容器\n",
    "# 用這種語法創建列表之後元素已經準備就緒所以需要耗費較多的內存空間\n",
    "f = [x ** 2 for x in range(1, 1000)]\n",
    "print(sys.getsizeof(f)) # 查看對象佔用內存的字節數\n",
    "print(f)\n",
    "# 請注意下面的代碼創建的不是一個列表而是一個生成器對象\n",
    "# 通過生成器可以獲取到數據但它不佔用額外的空間存儲數據\n",
    "# 每次需要數據的時候就通過內部的運算得到數據(需要花費額外的時間)\n",
    "f = (x ** 2 for x in range(1, 1000))\n",
    "print(sys.getsizeof(f)) # 相比生成式生成器不佔用存儲數據的空間\n",
    "print(f)\n",
    "for val in f:\n",
    "    print(val)"
   ]
  },
  {
   "cell_type": "markdown",
   "metadata": {},
   "source": [
    "除了上面提到的生成器語法，Python中還有另外一種定義生成器的方式，就是通過yield關鍵字將一個普通函數改造成生成器函數。下面的代碼演示瞭如何實現一個生成斐波那契數列的生成器。所謂斐波那契數列可以通過下面遞迴的方法來進行定義：\n",
    "\n",
    "$${\\displaystyle F_{0}=0}$$\n",
    "\n",
    "$${\\displaystyle F_{1}=1}$$\n",
    "\n",
    "$${\\displaystyle F_{n}=F_{n-1}+F_{n-2}}({n}\\geq{2})$$"
   ]
  },
  {
   "cell_type": "markdown",
   "metadata": {},
   "source": [
    "![斐波那契數列](https://raw.githubusercontent.com/jackfrued/Python-100-Days/master/Day01-15/res/fibonacci-blocks.png)"
   ]
  },
  {
   "cell_type": "code",
   "execution_count": 15,
   "metadata": {},
   "outputs": [
    {
     "name": "stdout",
     "output_type": "stream",
     "text": [
      "1\n",
      "1\n",
      "2\n",
      "3\n",
      "5\n",
      "8\n",
      "13\n",
      "21\n",
      "34\n",
      "55\n",
      "89\n",
      "144\n",
      "233\n",
      "377\n",
      "610\n",
      "987\n",
      "1597\n",
      "2584\n",
      "4181\n",
      "6765\n"
     ]
    }
   ],
   "source": [
    "def fib(n):\n",
    "    a, b = 0, 1\n",
    "    for _ in range(n):\n",
    "        a, b = b, a + b\n",
    "        yield a\n",
    "\n",
    "def main():\n",
    "    for val in fib(20):\n",
    "        print(val)\n",
    "\n",
    "if __name__ == '__main__':\n",
    "    main()"
   ]
  },
  {
   "cell_type": "markdown",
   "metadata": {},
   "source": [
    "## 使用元組\n",
    "\n",
    "Python中的元組與列表類似也是一種容器數據類型，可以用一個變量（對象）來存儲多個數據，不同之處在於元組的元素不能修改，在前面的代碼中我們已經不止一次使用過元組了。顧名思義，我們把多個元素組合到一起就形成了一個元組，所以它和列表一樣可以保存多條數據。下面的代碼演示瞭如何定義和使用元組。"
   ]
  },
  {
   "cell_type": "code",
   "execution_count": 16,
   "metadata": {},
   "outputs": [
    {
     "name": "stdout",
     "output_type": "stream",
     "text": [
      "('Google', 21, True, 'US')\n",
      "Google\n",
      "US\n",
      "Google\n",
      "21\n",
      "True\n",
      "US\n",
      "('Apple', 44, True, 'US')\n",
      "['Apple', 44, True, 'US']\n",
      "['Facebook', 15, True, 'US']\n",
      "('apple', 'banana', 'orange')\n"
     ]
    }
   ],
   "source": [
    "# 定義元組\n",
    "t = (\"Google\", 21, True, 'US')\n",
    "print(t)\n",
    "# 獲取元組中的元素\n",
    "print(t[0])\n",
    "print(t[3])\n",
    "# 遍曆元組中的值\n",
    "for member in t:\n",
    "    print(member)\n",
    "# 重新給元組賦值\n",
    "# t[0] = 'Apple' # TypeError\n",
    "# 變量t重新引用了新的元組原來的元組將被垃圾回收\n",
    "t = ('Apple', 44, True, 'US')\n",
    "print(t)\n",
    "# 將元組轉換成列表\n",
    "person = list(t)\n",
    "print(person)\n",
    "# 列表是可以修改它的元素的\n",
    "person[0] = 'Facebook'\n",
    "person[1] = 15\n",
    "print(person)\n",
    "# 將列表轉換成元組\n",
    "fruits_list = ['apple', 'banana', 'orange']\n",
    "fruits_tuple = tuple(fruits_list)\n",
    "print(fruits_tuple)"
   ]
  },
  {
   "cell_type": "markdown",
   "metadata": {},
   "source": [
    "這裡有一個非常值得探討的問題，我們已經有了列表這種數據結構，為什麼還需要元組這樣的類型呢？\n",
    "\n",
    "元組中的元素是無法修改的，事實上我們在項目中尤其是[多執行緒/多線程環境](https://zh.wikipedia.org/wiki/多线程)（後面會講到）中可能更喜歡使用的是那些不變對象（一方面因為對象狀態不能修改，所以可以避免由此引起的不必要的程序錯誤，簡單的說就是一個不變的對像要比可變的對象更加容易維護；另一方面因為沒有任何一個線程能夠修改不變對象的內部狀態，一個不變對象自動就是線程安全的，這樣就可以省掉處理同步化的開銷。一個不變對象可以方便的被共享訪問）。\n",
    "所以結論就是：如果不需要對元素進行添加、刪除、修改的時候，可以考慮使用元組，當然如果一個方法要返回多個值，使用元組也是不錯的選擇。\n",
    "元組在創建時間和占用的空間上面都優於列表。\n",
    "我們可以使用sys模塊的getsizeof函數來檢查存儲同樣的元素的元組和列表各自佔用了多少內存空間。\n",
    "我們也可以在ipython中使用魔法指令%timeit來分析創建同樣內容的元組和列表所花費的時間。"
   ]
  },
  {
   "cell_type": "markdown",
   "metadata": {},
   "source": [
    "## 使用集合\n",
    "\n",
    "Python中的集合跟數學上的集合是一致的，不允許有重複元素，而且可以進行交集、並集、差集等運算。"
   ]
  },
  {
   "cell_type": "markdown",
   "metadata": {},
   "source": [
    "![Set](https://raw.githubusercontent.com/jackfrued/Python-100-Days/master/Day01-15/res/python-set.png)"
   ]
  },
  {
   "cell_type": "code",
   "execution_count": 17,
   "metadata": {},
   "outputs": [
    {
     "name": "stdout",
     "output_type": "stream",
     "text": [
      "{1, 2, 3}\n",
      "Length = 3\n",
      "{1, 2, 3, 4, 5, 6, 7, 8, 9} {1, 2, 3}\n",
      "{3, 5, 6, 9, 10, 12, 15, 18, 20, 21, 24, 25, 27, 30, 33, 35, 36, 39, 40, 42, 45, 48, 50, 51, 54, 55, 57, 60, 63, 65, 66, 69, 70, 72, 75, 78, 80, 81, 84, 85, 87, 90, 93, 95, 96, 99}\n"
     ]
    }
   ],
   "source": [
    "# 創建集合的字面量語法\n",
    "set1 = {1, 2, 3, 3, 3, 2}\n",
    "print(set1)\n",
    "print('Length =', len(set1))\n",
    "# 創建集合的構造器語法(面向對象部分會進行詳細講解)\n",
    "set2 = set(range(1, 10))\n",
    "set3 = set((1, 2, 3, 3, 2, 1))\n",
    "print(set2, set3)\n",
    "# 創建集合的推導式語法(推導式也可以用於推導集合)\n",
    "set4 = {num for num in range(1, 100) if num % 3 == 0 or num % 5 == 0}\n",
    "print(set4)"
   ]
  },
  {
   "cell_type": "markdown",
   "metadata": {},
   "source": [
    "面向集合添加元素和從集合刪除元素。"
   ]
  },
  {
   "cell_type": "code",
   "execution_count": 18,
   "metadata": {},
   "outputs": [
    {
     "name": "stdout",
     "output_type": "stream",
     "text": [
      "{1, 2, 3, 4, 5} {1, 2, 3, 6, 7, 8, 9, 11, 12}\n",
      "1\n",
      "{2, 3}\n"
     ]
    }
   ],
   "source": [
    "set1.add(4)\n",
    "set1.add(5)\n",
    "set2.update([11, 12])\n",
    "set2.discard(5)\n",
    "if 4 in set2:\n",
    "    set2.remove(4)\n",
    "print(set1, set2)\n",
    "print(set3.pop())\n",
    "print(set3)"
   ]
  },
  {
   "cell_type": "markdown",
   "metadata": {},
   "source": [
    "集合的交集、並集、差集、對稱差運算。"
   ]
  },
  {
   "cell_type": "code",
   "execution_count": 19,
   "metadata": {},
   "outputs": [
    {
     "name": "stdout",
     "output_type": "stream",
     "text": [
      "{1, 2, 3}\n",
      "{1, 2, 3, 4, 5, 6, 7, 8, 9, 11, 12}\n",
      "{4, 5}\n",
      "{4, 5, 6, 7, 8, 9, 11, 12}\n",
      "False\n",
      "True\n",
      "False\n",
      "True\n"
     ]
    }
   ],
   "source": [
    "# 集合的交集、並集、差集、對稱差運算\n",
    "print(set1 & set2)\n",
    "# print(set1.intersection(set2))\n",
    "print(set1 | set2)\n",
    "# print(set1.union(set2))\n",
    "print(set1 - set2)\n",
    "# print(set1.difference(set2))\n",
    "print(set1 ^ set2)\n",
    "# print(set1.symmetric_difference(set2))\n",
    "# 判斷子集和超集\n",
    "print(set2 <= set1)\n",
    "# print(set2.issubset(set1))\n",
    "print(set3 <= set1)\n",
    "# print(set3.issubset(set1))\n",
    "print(set1 >= set2)\n",
    "# print(set1.issuperset(set2))\n",
    "print(set1 >= set3)\n",
    "# print(set1.issuperset(set3))"
   ]
  },
  {
   "cell_type": "markdown",
   "metadata": {},
   "source": [
    "說明： Python中允許通過一些特殊的方法來為某種類型或數據結構自定義運算符（後面的章節中會講到），上面的代碼中我們對集合進行運算的時候可以調用集合對象的方法，也可以直接使用對應的運算符，例如&運算符跟intersection方法的作用就是一樣的，但是使用運算符讓代碼更加直觀。"
   ]
  },
  {
   "cell_type": "markdown",
   "metadata": {},
   "source": [
    "## 使用字典\n",
    "\n",
    "字典是另一種可變容器模型，Python中的字典跟我們生活中使用的字典是一樣一樣的，它可以存儲任意類型對象，與列表、集合不同的是，字典的每個元素都是由一個鍵和一個值組成的“鍵值對”，鍵和值通過冒號分開。"
   ]
  },
  {
   "cell_type": "code",
   "execution_count": 20,
   "metadata": {},
   "outputs": [
    {
     "name": "stdout",
     "output_type": "stream",
     "text": [
      "{'Apple': 95, 'Alphabet': 78, 'Amazon': 82}\n",
      "{'one': 1, 'two': 2, 'three': 3, 'four': 4} {'a': '1', 'b': '2', 'c': '3'} {1: 1, 2: 4, 3: 9, 4: 16, 5: 25, 6: 36, 7: 49, 8: 64, 9: 81}\n",
      "95\n",
      "82\n",
      "Apple: 95\n",
      "Alphabet: 78\n",
      "Amazon: 82\n",
      "{'Apple': 95, 'Alphabet': 65, 'Amazon': 82, 'IBM': 71, 'Google': 67, 'hp': 85}\n",
      "None\n",
      "60\n",
      "('hp', 85)\n",
      "('Google', 67)\n",
      "95\n",
      "{}\n"
     ]
    }
   ],
   "source": [
    "# 創建字典的字面量語法\n",
    "scores = {'Apple': 95, 'Alphabet': 78, 'Amazon': 82}\n",
    "print(scores)\n",
    "# 創建字典的構造器語法\n",
    "items1 = dict(one=1, two=2, three=3, four=4)\n",
    "# 通過zip函數將兩個序列壓成字典\n",
    "items2 = dict(zip(['a', 'b', 'c'], '123'))\n",
    "# 創建字典的推導式語法\n",
    "items3 = {num: num ** 2 for num in range(1, 10)}\n",
    "print(items1, items2, items3)\n",
    "# 通過鍵可以獲取字典中對應的值\n",
    "print(scores['Apple'])\n",
    "print(scores['Amazon'])\n",
    "# 對字典中所有鍵值對進行遍歷\n",
    "for key in scores:\n",
    "    print(f'{key}: {scores[key]}')\n",
    "# 更新字典中的元素\n",
    "scores['Alphabet'] = 65\n",
    "scores['IBM'] = 71\n",
    "scores.update(Google=67, hp=85)\n",
    "print(scores)\n",
    "if 'Microsoft' in scores:\n",
    "    print(scores['Microsoft'])\n",
    "print(scores.get('Microsoft'))\n",
    "# get方法也是通過鍵獲取對應的值但是可以設置默認值\n",
    "print(scores.get('Microsoft', 60))\n",
    "# 刪除字典中的元素\n",
    "print(scores.popitem())\n",
    "print(scores.popitem())\n",
    "print(scores.pop('Apple', 100))\n",
    "# 清空字典\n",
    "scores.clear()\n",
    "print(scores)"
   ]
  },
  {
   "cell_type": "markdown",
   "metadata": {},
   "source": [
    "## 練習\n",
    "### 練習1: 打印巴斯卡三角形"
   ]
  },
  {
   "cell_type": "code",
   "execution_count": 21,
   "metadata": {},
   "outputs": [
    {
     "name": "stdout",
     "output_type": "stream",
     "text": [
      "Number of rows: 10\n",
      "1\t\n",
      "1\t1\t\n",
      "1\t2\t1\t\n",
      "1\t3\t3\t1\t\n",
      "1\t4\t6\t4\t1\t\n",
      "1\t5\t10\t10\t5\t1\t\n",
      "1\t6\t15\t20\t15\t6\t1\t\n",
      "1\t7\t21\t35\t35\t21\t7\t1\t\n",
      "1\t8\t28\t56\t70\t56\t28\t8\t1\t\n",
      "1\t9\t36\t84\t126\t126\t84\t36\t9\t1\t\n"
     ]
    }
   ],
   "source": [
    "def main():\n",
    "    num = int(input('Number of rows: '))\n",
    "    yh = [[]] * num\n",
    "    for row in range(len(yh)):\n",
    "        yh[row] = [None] * (row + 1)\n",
    "        for col in range(len(yh[row])):\n",
    "            if col == 0 or col == row:\n",
    "                yh[row][col] = 1\n",
    "            else:\n",
    "                yh[row][col] = yh[row - 1][col] + yh[row - 1][col - 1]\n",
    "            print(yh[row][col], end='\\t')\n",
    "        print()\n",
    "\n",
    "\n",
    "if __name__ == '__main__':\n",
    "    main()\n"
   ]
  },
  {
   "cell_type": "markdown",
   "metadata": {},
   "source": [
    "### 練習2: 雙色球選色號"
   ]
  },
  {
   "cell_type": "code",
   "execution_count": 22,
   "metadata": {},
   "outputs": [
    {
     "name": "stdout",
     "output_type": "stream",
     "text": [
      "隨機選幾注: 3\n",
      "| 04 \n",
      "| 04 \n",
      "| 06 \n"
     ]
    }
   ],
   "source": [
    "from random import randrange, randint, sample\n",
    "\n",
    "def display(balls):\n",
    "    \"\"\"\n",
    "    輸出列表中的雙色球號碼\n",
    "    \"\"\"\n",
    "    for index, ball in enumerate(balls):\n",
    "        if index == len(balls) - 1:\n",
    "            print('|', end=' ')\n",
    "            print('%02d' % ball, end=' ')\n",
    "            print()\n",
    "            \n",
    "def random_select():\n",
    "    \"\"\"\n",
    "    隨機選擇一組號碼\n",
    "    \"\"\"\n",
    "    red_balls = [x for x in range(1, 34)]\n",
    "    selected_balls = []\n",
    "    selected_balls = sample(red_balls, 6)\n",
    "    selected_balls.sort()\n",
    "    selected_balls.append(randint(1, 16))\n",
    "    return selected_balls\n",
    "\n",
    "def main():\n",
    "    n = int(input('隨機選幾注: '))\n",
    "    for _ in range(n):\n",
    "        display(random_select())\n",
    "\n",
    "if __name__ == '__main__':\n",
    "    main()"
   ]
  },
  {
   "cell_type": "markdown",
   "metadata": {},
   "source": [
    "### 練習3: 約瑟夫循環\n",
    "\n",
    ">《幸運的基督徒》\n",
    "有15個基督徒和15個非基督徒在海上遇險，為了能讓一部分人活下來不得不將其中15個人扔到海裡面去，\n",
    "有個人想了個辦法就是大家圍成一個圈，由某個人開始從1報數，報到9的人就扔到海裡面，\n",
    "他後面的人接著從1開始報數，報到9的人繼續扔到海裡面，直到扔掉15個人。\n",
    "由於上帝的保佑，15個基督徒都倖免於難，問這些人最開始是怎麼站的，哪些位置是基督徒哪些位置是非基督徒。"
   ]
  },
  {
   "cell_type": "code",
   "execution_count": 23,
   "metadata": {},
   "outputs": [
    {
     "name": "stdout",
     "output_type": "stream",
     "text": [
      "基基基基非非非非非基基非基基基非基非非基基非非非基非非基基非"
     ]
    }
   ],
   "source": [
    "def main():\n",
    "    persons = [True] * 30\n",
    "    counter, index, number = 0, 0, 0\n",
    "    while counter < 15:\n",
    "        if persons[index]:\n",
    "            number += 1\n",
    "            if number == 9:\n",
    "                persons[index] = False\n",
    "                counter += 1\n",
    "                number = 0\n",
    "        index += 1\n",
    "        index %= 30\n",
    "    for person in persons:\n",
    "        print('基' if person else '非', end='')\n",
    "\n",
    "\n",
    "if __name__ == '__main__':\n",
    "    main()"
   ]
  },
  {
   "cell_type": "markdown",
   "metadata": {},
   "source": [
    "### 練習4: 井字棋遊戲"
   ]
  },
  {
   "cell_type": "code",
   "execution_count": 24,
   "metadata": {},
   "outputs": [
    {
     "name": "stdout",
     "output_type": "stream",
     "text": [
      "  |    |  \n",
      "-+-+-\n",
      "  |    |  \n",
      "-+-+-\n",
      "  |    |  \n",
      "輪到x走棋, 請輸入位置: TL\n",
      "x |    |  \n",
      "-+-+-\n",
      "  |    |  \n",
      "-+-+-\n",
      "  |    |  \n",
      "輪到o走棋, 請輸入位置: MM\n",
      "x |    |  \n",
      "-+-+-\n",
      "  |  o |  \n",
      "-+-+-\n",
      "  |    |  \n",
      "輪到x走棋, 請輸入位置: BM\n",
      "x |    |  \n",
      "-+-+-\n",
      "  |  o |  \n",
      "-+-+-\n",
      "  |  x |  \n",
      "輪到o走棋, 請輸入位置: ML\n",
      "x |    |  \n",
      "-+-+-\n",
      "o |  o |  \n",
      "-+-+-\n",
      "  |  x |  \n",
      "輪到x走棋, 請輸入位置: TM\n",
      "x |  x |  \n",
      "-+-+-\n",
      "o |  o |  \n",
      "-+-+-\n",
      "  |  x |  \n",
      "輪到o走棋, 請輸入位置: TR\n",
      "x |  x | o\n",
      "-+-+-\n",
      "o |  o |  \n",
      "-+-+-\n",
      "  |  x |  \n",
      "輪到x走棋, 請輸入位置: MR\n",
      "x |  x | o\n",
      "-+-+-\n",
      "o |  o | x\n",
      "-+-+-\n",
      "  |  x |  \n",
      "輪到o走棋, 請輸入位置: BL\n",
      "x |  x | o\n",
      "-+-+-\n",
      "o |  o | x\n",
      "-+-+-\n",
      "o |  x |  \n",
      "輪到x走棋, 請輸入位置: BR\n",
      "x |  x | o\n",
      "-+-+-\n",
      "o |  o | x\n",
      "-+-+-\n",
      "o |  x | x\n",
      "再玩一局?(yes|no)no\n"
     ]
    }
   ],
   "source": [
    "import os\n",
    "\n",
    "def print_board(board):\n",
    "    print(board['TL'] + ' |  ' + board['TM'] + ' | ' + board['TR'])\n",
    "    print('-+-+-')\n",
    "    print(board['ML'] + ' |  ' + board['MM'] + ' | ' + board['MR'])\n",
    "    print('-+-+-')\n",
    "    print(board['BL'] + ' |  ' + board['BM'] + ' | ' + board['BR'])\n",
    "\n",
    "\n",
    "def main():\n",
    "    init_board = {\n",
    "        'TL': ' ', 'TM': ' ', 'TR': ' ',\n",
    "        'ML': ' ', 'MM': ' ', 'MR': ' ',\n",
    "        'BL': ' ', 'BM': ' ', 'BR': ' '\n",
    "    }\n",
    "    begin = True\n",
    "    while begin:\n",
    "        curr_board = init_board.copy()\n",
    "        begin = False\n",
    "        turn = 'x'\n",
    "        counter = 0\n",
    "        os.system('clear')\n",
    "        print_board(curr_board)\n",
    "        while counter < 9:\n",
    "            move = input('輪到%s走棋, 請輸入位置: ' % turn)\n",
    "            if curr_board[move] == ' ':\n",
    "                counter += 1\n",
    "                curr_board[move] = turn\n",
    "                if turn == 'x':\n",
    "                    turn = 'o'\n",
    "                else:\n",
    "                    turn = 'x'\n",
    "            os.system('clear')\n",
    "            print_board(curr_board)\n",
    "        choice = input('再玩一局?(yes|no)')\n",
    "        begin = choice == 'yes'\n",
    "\n",
    "\n",
    "if __name__ == '__main__':\n",
    "    main()"
   ]
  },
  {
   "cell_type": "code",
   "execution_count": null,
   "metadata": {},
   "outputs": [],
   "source": []
  }
 ],
 "metadata": {
  "kernelspec": {
   "display_name": "Python 3",
   "language": "python",
   "name": "python3"
  },
  "language_info": {
   "codemirror_mode": {
    "name": "ipython",
    "version": 3
   },
   "file_extension": ".py",
   "mimetype": "text/x-python",
   "name": "python",
   "nbconvert_exporter": "python",
   "pygments_lexer": "ipython3",
   "version": "3.8.3"
  }
 },
 "nbformat": 4,
 "nbformat_minor": 4
}
