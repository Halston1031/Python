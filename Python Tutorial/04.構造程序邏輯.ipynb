{
 "cells": [
  {
   "cell_type": "markdown",
   "metadata": {},
   "source": [
    "# 構造程序邏輯\n",
    "\n",
    "學完前面的幾個章節後，我覺得有必要在這裡帶大家做一些練習來鞏固之前所學的知識，雖然迄今為止我們學習的內容只是Python的冰山一角，但是這些內容已經足夠我們來構建程序中的邏輯。對於編程語言的初學者來說，在學習了Python的核心語言元素（變量、類型、運算符、表達式、分支結構、循環結構等）之後，必須做的一件事情就是嘗試用所學知識去解決現實中的問題，換句話說就是鍛煉自己把用人類自然語言描述的算法（解決問題的方法和步驟）翻譯成Python代碼的能力，而這件事情必須通過大量的練習才能達成。\n",
    "\n",
    "我們在本章為大家整理了一些經典的案例和習題，希望通過這些例子，一方面幫助大家鞏固之前所學的Python知識，另一方面幫助大家了解如何建立程序中的邏輯以及如何運用一些簡單的算法解決現實中的問題。"
   ]
  },
  {
   "cell_type": "markdown",
   "metadata": {},
   "source": [
    "## 經典的例子\n",
    "\n",
    "### 尋找水仙花數\n",
    "\n",
    ">說明：水仙花數也被稱為超完全數字不變數、自戀數、自冪數、阿姆斯特朗數，它是一個3位數，該數字每個位上數字的立方之和正好等於它本身，例如：$1^3 + 5^3+ 3^3=153$。"
   ]
  },
  {
   "cell_type": "code",
   "execution_count": 1,
   "metadata": {},
   "outputs": [
    {
     "name": "stdout",
     "output_type": "stream",
     "text": [
      "153\n",
      "370\n",
      "371\n",
      "407\n"
     ]
    }
   ],
   "source": [
    "#Daffodil number\n",
    "for num in range(100, 1000):\n",
    "    low = num % 10\n",
    "    mid = num // 10 % 10\n",
    "    high = num // 100\n",
    "    if num == low ** 3 + mid ** 3 + high ** 3:\n",
    "        print(num)"
   ]
  },
  {
   "cell_type": "markdown",
   "metadata": {},
   "source": [
    "### 正整數反轉"
   ]
  },
  {
   "cell_type": "code",
   "execution_count": 2,
   "metadata": {},
   "outputs": [
    {
     "name": "stdout",
     "output_type": "stream",
     "text": [
      "num = 12345\n",
      "54321\n"
     ]
    }
   ],
   "source": [
    "#Inversion of positive integers\n",
    "num = int(input('num = '))\n",
    "reversed_num = 0\n",
    "while num > 0:\n",
    "    reversed_num = reversed_num * 10 + num % 10\n",
    "    num //= 10\n",
    "print(reversed_num)"
   ]
  },
  {
   "cell_type": "markdown",
   "metadata": {},
   "source": [
    "### 百錢百雞問題\n",
    "\n",
    "說明：百錢百雞是我國古代數學家張丘建在《算經》一書中提出的數學問題：雞翁一值錢五，雞母一值錢三，雞雛三值錢一。百錢買百雞，問雞翁、雞母、雞雛各幾何？翻譯成現代文是：公雞5元一隻，母雞3元一隻，小雞1元三隻，用100塊錢買一百隻雞，問公雞、母雞、小雞各有多少只？"
   ]
  },
  {
   "cell_type": "code",
   "execution_count": 3,
   "metadata": {},
   "outputs": [
    {
     "name": "stdout",
     "output_type": "stream",
     "text": [
      "Rooster: 0, hen: 25, chick: 75\n",
      "Rooster: 4, hen: 18, chick: 78\n",
      "Rooster: 8, hen: 11, chick: 81\n",
      "Rooster: 12, hen: 4, chick: 84\n"
     ]
    }
   ],
   "source": [
    "#Chicken cage\n",
    "for x in range(0, 20):\n",
    "    for y in range(0, 33):\n",
    "        z = 100 - x - y\n",
    "        if 5 * x + 3 * y + z / 3 == 100:\n",
    "            print('Rooster: %d, hen: %d, chick: %d' % (x, y, z))"
   ]
  },
  {
   "cell_type": "markdown",
   "metadata": {},
   "source": [
    "上面使用的方法叫做窮舉法（Exhaustive method，暴力搜索法），這種方法通過一項一項的列舉備選解決方案中所有可能的候選項並檢查每個候選項是否符合問題的描述，最終得到問題的解。這種方法看起來比較笨拙，但對於運算能力非常強大的計算機來說，通常都是一個可行的甚至是不錯的選擇，而且問題的解如果存在，這種方法一定能夠找到它。"
   ]
  },
  {
   "cell_type": "markdown",
   "metadata": {},
   "source": [
    "### CRAPS賭博遊戲\n",
    ">CRAPS又稱花旗骰，是美國拉斯維加斯非常受歡迎的一種的桌上賭博遊戲。\n",
    "該遊戲使用兩粒骰子，玩家通過搖兩粒骰子獲得點數進行遊戲。\n",
    "簡單的規則是：\n",
    "玩家第一次搖骰子如果搖出了7點或11點，玩家勝；\n",
    "玩家第一次如果搖出2點、3點或12點，莊家勝；\n",
    "其他點數玩家繼續搖骰子，如果玩家搖出了7點，莊家勝；\n",
    "如果玩家搖出了第一次搖的點數，玩家勝；\n",
    "其他點數，玩家繼續要骰子，直到分出勝負。"
   ]
  },
  {
   "cell_type": "code",
   "execution_count": 4,
   "metadata": {},
   "outputs": [
    {
     "name": "stdout",
     "output_type": "stream",
     "text": [
      "Your total assets are: 1000\n",
      "Please bet: 1000\n",
      "Player shakes out 6 points\n",
      "Player shakes out 4 points\n",
      "Player shakes out 7 points\n",
      "Bank wins\n",
      "You are bankrupt, the game is over!\n"
     ]
    }
   ],
   "source": [
    "#CRAPS\n",
    "#We set the player to have a 1,000 dollars bet, If the player loses all bets the game is over.\n",
    "\n",
    "from random import randint\n",
    "\n",
    "money = 1000\n",
    "while money > 0:\n",
    "    print('Your total assets are:', money)\n",
    "    needs_go_on = False\n",
    "    while True:\n",
    "        debt = int(input('Please bet: '))\n",
    "        if 0 < debt <= money:\n",
    "            break\n",
    "    first = randint(1, 6) + randint(1, 6)\n",
    "    print('Player shakes out %d points' % first)\n",
    "    if first == 7 or first == 11:\n",
    "        print('Player wins!')\n",
    "        money += debt\n",
    "    elif first == 2 or first == 3 or first == 12:\n",
    "        print('Bank wins!')\n",
    "        money -= debt\n",
    "    else:\n",
    "        needs_go_on = True\n",
    "    while needs_go_on:\n",
    "        needs_go_on = False\n",
    "        current = randint(1, 6) + randint(1, 6)\n",
    "        print('Player shakes out %d points' % current)\n",
    "        if current == 7:\n",
    "            print('Bank wins')\n",
    "            money -= debt\n",
    "        elif current == first:\n",
    "            print('Player wins!')\n",
    "            money += debt\n",
    "        else:\n",
    "            needs_go_on = True\n",
    "print('You are bankrupt, the game is over!')"
   ]
  },
  {
   "cell_type": "markdown",
   "metadata": {},
   "source": [
    "### 生成費式數列的前20個數\n",
    "\n",
    ">費式數列（Fibonacci sequence），又稱黃金分割數列，是意大利數學家萊昂納多·斐波那契（Leonardoda Fibonacci）在《計算之書》中提出一個在理想假設條件下兔子成長率的問題而引入的數列，所以這個數列也被戲稱為\"兔子數列\"。斐波那契數列的特點是數列的前兩個數都是1，從第三個數開始，每個數都是它前面兩個數的和，形如：1, 1, 2, 3, 5 , 8, 13, 21, 34, 55, 89, 144, ...。斐波那契數列在現代物理、準晶體結構、化學等領域都有直接的應用。"
   ]
  },
  {
   "cell_type": "code",
   "execution_count": 5,
   "metadata": {},
   "outputs": [
    {
     "name": "stdout",
     "output_type": "stream",
     "text": [
      "1 1 2 3 5 8 13 21 34 55 89 144 233 377 610 987 1597 2584 4181 6765 "
     ]
    }
   ],
   "source": [
    "#Fibonacci sequence\n",
    "\n",
    "a = 0\n",
    "b = 1\n",
    "for _ in range(20):\n",
    "    a, b = b, a + b\n",
    "    print(a, end=' ')"
   ]
  },
  {
   "cell_type": "markdown",
   "metadata": {},
   "source": [
    "### 找出10000以內的完美數\n",
    ">完美數又稱為完全數或完備數，它的所有的真因子（即除了自身以外的因子）的和（即因子函數）恰好等於它本身。\n",
    "例如：6（6=1+2+3）和28（28=1+2+4+7+14）就是完美數。"
   ]
  },
  {
   "cell_type": "code",
   "execution_count": 6,
   "metadata": {},
   "outputs": [
    {
     "name": "stdout",
     "output_type": "stream",
     "text": [
      "1\n",
      "6\n",
      "28\n",
      "496\n",
      "8128\n"
     ]
    }
   ],
   "source": [
    "#Perfect number\n",
    "\n",
    "import math\n",
    "\n",
    "for num in range(1, 10000):\n",
    "    result = 0\n",
    "    for factor in range(1, int(math.sqrt(num)) + 1):\n",
    "        if num % factor == 0:\n",
    "            result += factor\n",
    "            if factor > 1 and num // factor != factor:\n",
    "                result += num // factor\n",
    "    if result == num:\n",
    "        print(num)"
   ]
  },
  {
   "cell_type": "code",
   "execution_count": null,
   "metadata": {},
   "outputs": [],
   "source": []
  }
 ],
 "metadata": {
  "kernelspec": {
   "display_name": "Python 3",
   "language": "python",
   "name": "python3"
  },
  "language_info": {
   "codemirror_mode": {
    "name": "ipython",
    "version": 3
   },
   "file_extension": ".py",
   "mimetype": "text/x-python",
   "name": "python",
   "nbconvert_exporter": "python",
   "pygments_lexer": "ipython3",
   "version": "3.8.3"
  }
 },
 "nbformat": 4,
 "nbformat_minor": 4
}
