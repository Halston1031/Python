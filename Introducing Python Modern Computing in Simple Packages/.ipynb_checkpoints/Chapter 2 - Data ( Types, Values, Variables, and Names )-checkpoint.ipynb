{
 "cells": [
  {
   "cell_type": "markdown",
   "metadata": {},
   "source": [
    "# Chapter 2. Data ( Types, Values, Variables, and Names )"
   ]
  },
  {
   "cell_type": "markdown",
   "metadata": {},
   "source": [
    "## Types"
   ]
  },
  {
   "cell_type": "markdown",
   "metadata": {},
   "source": [
    "<table align=\"center\">\n",
    "    <thead>\n",
    "        <tr>\n",
    "            <th>Name</th>\n",
    "            <th>Type</th>\n",
    "            <th>Mutable</th>\n",
    "            <th>Examples</th>\n",
    "       </tr>\n",
    "    </thead>\n",
    "    <tbody>\n",
    "        <tr> \n",
    "            <td>Boolean</td> \n",
    "            <td>bool</td> \n",
    "            <td>no</td> \n",
    "            <td>True, False</td> \n",
    "        </tr>\n",
    "        <tr> \n",
    "            <td>Integer</td> \n",
    "            <td>int</td> \n",
    "            <td>no</td> \n",
    "            <td>47,25000, 25_000</td> \n",
    "         </tr>\n",
    "       <tr> \n",
    "            <td>Floating point</td> \n",
    "            <td>float</td> \n",
    "            <td>no</td> \n",
    "            <td>3.14, 2.7e5</td> \n",
    "         </tr>\n",
    "        <tr> \n",
    "            <td>Complex</td> \n",
    "            <td>complex</td> \n",
    "            <td>no</td> \n",
    "            <td>3j, 5+9j</td> \n",
    "         </tr>\n",
    "        <tr> \n",
    "            <td>Text string</td> \n",
    "            <td>str</td> \n",
    "            <td>no</td> \n",
    "            <td>'hello', \"Python\", '''bye'''</td> \n",
    "         </tr>\n",
    "        <tr> \n",
    "            <td>List</td> \n",
    "            <td>list</td> \n",
    "            <td>yes</td>  \n",
    "            <td>['Halston', 'Evan', 'Vivian']</td> \n",
    "         </tr>\n",
    "        <tr> \n",
    "            <td>Tuple</td> \n",
    "            <td>tuple</td> \n",
    "            <td>no</td> \n",
    "            <td>(2, 4, 8)</td> \n",
    "         </tr>\n",
    "        <tr> \n",
    "            <td>Bytes</td> \n",
    "            <td>bytes</td> \n",
    "            <td>no</td> \n",
    "            <td>b'ab\\xff'</td> \n",
    "         </tr>\n",
    "        <tr> \n",
    "            <td>ByteArray</td> \n",
    "            <td>bytearray</td> \n",
    "            <td>yes</td>  \n",
    "            <td>bytearray(...)</td> \n",
    "         </tr>\n",
    "        <tr> \n",
    "            <td>Set</td> \n",
    "            <td>set</td> \n",
    "            <td>yes</td> \n",
    "            <td>set([3, 5, 7])</td> \n",
    "         </tr>\n",
    "        <tr> \n",
    "            <td>Frozen set</td> \n",
    "            <td>frozen set</td> \n",
    "            <td>no</td> \n",
    "            <td>frozen set(['Elsa', 'Otto'])</td> \n",
    "         </tr>\n",
    "        <tr> \n",
    "            <td>Dictionary</td> \n",
    "            <td>dict</td> \n",
    "            <td>yes</td> \n",
    "            <td>{'red': 'apple', 'orange': 'tangerine', 'green': 'Guava', 'blue': 'blueberry', 'purple': 'grapes'}</td> \n",
    "         </tr>\n",
    "    </tbody>\n",
    "</table> "
   ]
  },
  {
   "cell_type": "markdown",
   "metadata": {},
   "source": [
    "## Mutability"
   ]
  },
  {
   "cell_type": "markdown",
   "metadata": {},
   "source": [
    "<p>The type also determines <ins>whether the data value contained by the box can be changed (mutable) or is constant (immutable).</ins> Think of an immutable object as a sealed box, but with clear sides. You can see the value but you can’t change it. By the same analogy, a mutable object is like a box with a lid: not only can you see the value inside, you can also change it; however, you can’t change its type.</p>\n",
    "\n",
    "Python is strongly typed, which means that the type of an object does not change, even if its value is mutable"
   ]
  },
  {
   "cell_type": "markdown",
   "metadata": {},
   "source": [
    "## Variables"
   ]
  },
  {
   "cell_type": "markdown",
   "metadata": {},
   "source": [
    "Python, like most computer languages, lets you define variables—names for values in your computer’s memory that you want to use in a program.\n",
    "\n",
    "Python variable names have some rules:\n",
    "- They can contain only these characters:\n",
    "    - Lowercase letters(a through z)\n",
    "    - Uppercase letters(A through Z)\n",
    "    - Digits( 0 through 9)\n",
    "    - Underscore (_)\n",
    "- They are case-sensitive: Thing, thing, THING are different names.\n",
    "- They must begin with a letter or an underscore, not a digit.\n",
    "- Names that begin with an underscore are treated specially.\n",
    "- They cannot be one of Python’s reserved words (also known as keywords).\n",
    "    The reserved words1 are:\n",
    "```py\n",
    " False     await         else       import       pass\n",
    " None     break        except    in             raise\n",
    " True      class         finally     is             return\n",
    " and       continue    for         lambda      try\n",
    " as         def           from       nonlocal    while\n",
    " assert    del           global     not            with\n",
    " async     elif           if           or             yield\n",
    "```"
   ]
  },
  {
   "cell_type": "markdown",
   "metadata": {},
   "source": [
    "## Assignment"
   ]
  },
  {
   "cell_type": "markdown",
   "metadata": {},
   "source": [
    "In Python, you use `=` to assign a value to a variable."
   ]
  },
  {
   "cell_type": "markdown",
   "metadata": {},
   "source": [
    "🧸**NOTE**\n",
    "\n",
    "We all learned in grade school arithmetic that means equal to. So why do many computer languages, including Python, use for assignment? One reason is that\n",
    "standard keyboards lack logical alternatives such as a left arrow key, and didn’t seem too confusing. Also, in computer programs you use assignment much more than you test for equality."
   ]
  },
  {
   "cell_type": "markdown",
   "metadata": {},
   "source": [
    "Here’s the big difference between math and programs: in math, `=` means equality of both sides, but in programs it means <ins>**assignment**: assign the value on the right side to the variable on the left side.</ins>"
   ]
  },
  {
   "cell_type": "code",
   "execution_count": 1,
   "metadata": {},
   "outputs": [
    {
     "data": {
      "text/plain": [
       "20"
      ]
     },
     "execution_count": 1,
     "metadata": {},
     "output_type": "execute_result"
    }
   ],
   "source": [
    "x = 3\n",
    "y = x + 17\n",
    "y"
   ]
  },
  {
   "cell_type": "markdown",
   "metadata": {},
   "source": [
    "Also in programs, everything on the right side needs to have a value (this is called <ins>being initialized</ins>). The right side can be a literal value, or a variable that has already been assigned a value, or a combination. Python knows that and variable reads are literal integers. The first line assigns the integer value `3` to the `17`. Now we can use the variable 5 in the next line. When Python read `y = x + 17`, it\n",
    "does the following:\n",
    "1. Sees the in the middle\n",
    "2. Knows that this is an assignment\n",
    "3. Calculates the right side (gets the value of the object referred to by and adds it to )\n",
    "4. Assigns the result to the left-side variable,\n",
    "Then typing the name of the variable (in the interactive interpreter) will print its new value."
   ]
  },
  {
   "cell_type": "markdown",
   "metadata": {},
   "source": [
    "## Variables Are Names, Not Places"
   ]
  },
  {
   "cell_type": "markdown",
   "metadata": {},
   "source": [
    "Variables are just names. This is different from many other computer languages, and a key thing to know about Python, especially when we get to mutable objects like lists. <ins>Assignment does not copy a value; it just attaches a name to the object that contains the data.</ins> The name is a reference to a thing rather than the thing itself. Visualize a name as a tag with a string attached to the object box somewhere else in the computer’s memory."
   ]
  },
  {
   "cell_type": "markdown",
   "metadata": {},
   "source": [
    "In other languages, the variable itself has a type, and binds to a memory location. You can change the value at that location, but it needs to be of the same type. This is why static languages make you declare the types of variables. Python doesn’t, because a name can refer to anything, and we get the value and type by “following the string” to the data object itself. This saves time, but there are some downsides:\n",
    "\n",
    "- You may misspell a variable and get an exception because it doesn’t refer to anything, and Python doesn’t automatically check this as static languages do.\n",
    "- Python’s raw speed is slower than a language like C. It makes the computer do more work so you don’t have to."
   ]
  },
  {
   "cell_type": "markdown",
   "metadata": {},
   "source": [
    "Try this with the interactive interpreter : \n",
    "1. As before, assign the value `7` to the name `a`. This creates an object box containing the integer value `7`.\n",
    "2. Print the value of `a`.\n",
    "3. Assign to `b`, making `b` also point to the object box containing `7`.\n",
    "4. Print the value of `b`."
   ]
  },
  {
   "cell_type": "code",
   "execution_count": 2,
   "metadata": {},
   "outputs": [
    {
     "name": "stdout",
     "output_type": "stream",
     "text": [
      "7 7\n"
     ]
    }
   ],
   "source": [
    "a = 7\n",
    "b = a\n",
    "print(a, b)"
   ]
  },
  {
   "cell_type": "markdown",
   "metadata": {},
   "source": [
    "In Python, if you want to know the type of anything (a variable or a literal value), you can use `type(thing)`. `type` is one of Python’s built-in functions. <ins>If you want to check whether a variable points to an object of a specific type, use `isinstance(type)`:</ins>"
   ]
  },
  {
   "cell_type": "markdown",
   "metadata": {},
   "source": [
    "```py\n",
    "type(17) # <class 'int'>\n",
    "```\n",
    "```py\n",
    "type(17) == int # True\n",
    "```\n",
    "```py\n",
    "isinstance(17, bool) # False\n",
    "```\n",
    "```py\n",
    "print(type(3 + 6 == 9) # <class 'bool'>\n",
    "```\n",
    "```py\n",
    "type(99.9) # <class 'float'>\n",
    "```    \n",
    "```py\n",
    "type('abc') #  <class 'str'>\n",
    "```"
   ]
  },
  {
   "cell_type": "markdown",
   "metadata": {},
   "source": [
    "A `class` is the definition of an object. In Python, `class` and `type` mean pretty much the same thing."
   ]
  },
  {
   "cell_type": "markdown",
   "metadata": {},
   "source": [
    "As you’ve seen, when you use a variable in Python, it looks up the object that it refers to. Behind the scenes, Python is busy, often creating temporary objects that will be discarded a line or two later."
   ]
  },
  {
   "cell_type": "code",
   "execution_count": 3,
   "metadata": {},
   "outputs": [
    {
     "data": {
      "text/plain": [
       "14"
      ]
     },
     "execution_count": 3,
     "metadata": {},
     "output_type": "execute_result"
    }
   ],
   "source": [
    "y = 3\n",
    "x = 17 - 3\n",
    "x"
   ]
  },
  {
   "cell_type": "markdown",
   "metadata": {},
   "source": [
    "In this code snippet, Python did the following:\n",
    "1. Created an integer object with the value `3`\n",
    "2. Made a variable point to that `3` object\n",
    "3. Incremented the reference count of the object with value `3`\n",
    "4. Created another integer object with the value `17`\n",
    "5. Subtracted the value of the object that `y` points to (`3`) from the value `17` in the (anonymous) object with that value\n",
    "6. Assigned this value (`14`) to a new (so far, unnamed) integer object \n",
    "7. Made the variable `x` point to this new object\n",
    "8. Incremented the reference count of this new object that `x` points to\n",
    "9. Looked up the value of the object that `x` points to (`14`) and printed it"
   ]
  },
  {
   "cell_type": "markdown",
   "metadata": {},
   "source": [
    "When an object’s reference count reaches zero, no names are pointing to it, so it doesn’t need to stick around. Python has a charmingly named \"garbage collector\" that reuses the memory of things that are no longer needed.\n",
    "In this case, we no longer need the objects with the values `3`, `14`, `17` or the variables `x` and `y`. The Python garbage collector may choose to send them to\n",
    "object heaven, or keep some around for performance reasons given that small integers tend to be used a lot."
   ]
  },
  {
   "cell_type": "markdown",
   "metadata": {},
   "source": [
    "## Assigning to Multiple Names\n",
    "You can assign a value to more than one variable name at the same time:\n",
    "```py\n",
    "two = deux = zwei = 2\n",
    "two # 2\n",
    "deux # 2\n",
    "zwei # 2\n",
    "```"
   ]
  },
  {
   "cell_type": "markdown",
   "metadata": {},
   "source": [
    "## Reassigning a Name\n",
    "Because names point to objects, changing the value assigned to a name just makes the name point to a new object. The reference count of the old object is decremented, and the new one’s is incremented."
   ]
  },
  {
   "cell_type": "markdown",
   "metadata": {},
   "source": [
    "## Copying"
   ]
  },
  {
   "cell_type": "markdown",
   "metadata": {},
   "source": [
    "As I said, assigning an existing variable `a` to a new variable named `b` just makes `b` point to the same object that does. If you pick up either the `a` or `b` tag and follow their strings, you’ll get to the same object.\n",
    "If the object is **immutable** (like an integer), its value **can’t be changed**, so both names are essentially read-only. Try this:"
   ]
  },
  {
   "cell_type": "code",
   "execution_count": 4,
   "metadata": {},
   "outputs": [
    {
     "name": "stdout",
     "output_type": "stream",
     "text": [
      "5\n",
      "5\n",
      "17\n",
      "5\n"
     ]
    }
   ],
   "source": [
    "x = 5\n",
    "print(x)\n",
    "y = x\n",
    "print(y)\n",
    "x = 17\n",
    "print(x)\n",
    "print(y)"
   ]
  },
  {
   "cell_type": "markdown",
   "metadata": {},
   "source": [
    "When we assigned to `x` and `y`, that made the name `y` point to the integer object with value `5` that `x` was also pointing to. Changing `x` made it point to a new\n",
    "integer object with value `17`. It did not change the one containing `5`, which `y` still points to."
   ]
  },
  {
   "cell_type": "markdown",
   "metadata": {},
   "source": [
    "But if both names point to a **mutable** object, you can **change** the object’s value via either name, and you’ll see the changed value when you use either name."
   ]
  },
  {
   "cell_type": "markdown",
   "metadata": {},
   "source": [
    "<ins>A list is a mutable array of values</ins>. For this example, and each point to a list with three integer members:"
   ]
  },
  {
   "cell_type": "code",
   "execution_count": 5,
   "metadata": {},
   "outputs": [
    {
     "name": "stdout",
     "output_type": "stream",
     "text": [
      "[2, 4, 6]\n",
      "[2, 4, 6]\n"
     ]
    }
   ],
   "source": [
    "a = [2, 4, 6]\n",
    "b = a\n",
    "print(a)\n",
    "print(b)"
   ]
  },
  {
   "cell_type": "markdown",
   "metadata": {},
   "source": [
    "These list members ( `a[0]`, `a[1]` and `a[2]`) are themselves like names, pointing to integer objects with the values `2`, `4` and `6`. The list object keeps its members in order."
   ]
  },
  {
   "cell_type": "code",
   "execution_count": 6,
   "metadata": {},
   "outputs": [
    {
     "name": "stdout",
     "output_type": "stream",
     "text": [
      "[1, 4, 6]\n",
      "[1, 4, 6]\n"
     ]
    }
   ],
   "source": [
    "a[0] = 1\n",
    "print(a)\n",
    "print(b)"
   ]
  },
  {
   "cell_type": "markdown",
   "metadata": {},
   "source": [
    "When the first list element is changed, it no longer points to the object with value `2` , but a new object with value `1`. The list is still of type `list`, but its value (the list elements and their order) is mutable."
   ]
  }
 ],
 "metadata": {
  "kernelspec": {
   "display_name": "Python 3",
   "language": "python",
   "name": "python3"
  },
  "language_info": {
   "codemirror_mode": {
    "name": "ipython",
    "version": 3
   },
   "file_extension": ".py",
   "mimetype": "text/x-python",
   "name": "python",
   "nbconvert_exporter": "python",
   "pygments_lexer": "ipython3",
   "version": "3.8.3"
  }
 },
 "nbformat": 4,
 "nbformat_minor": 4
}
