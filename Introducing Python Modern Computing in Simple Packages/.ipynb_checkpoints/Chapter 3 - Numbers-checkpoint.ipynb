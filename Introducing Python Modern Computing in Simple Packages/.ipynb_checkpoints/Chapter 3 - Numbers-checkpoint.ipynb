{
 "cells": [
  {
   "cell_type": "markdown",
   "metadata": {},
   "source": [
    "# Chapter 3. Numbers"
   ]
  },
  {
   "cell_type": "markdown",
   "metadata": {},
   "source": [
    "## Booleans"
   ]
  },
  {
   "cell_type": "markdown",
   "metadata": {},
   "source": [
    "In Python, the only values for the boolean data type are `True` and `False`.\n",
    "Sometimes, you’ll use these directly; other times you’ll evaluate the “truthiness” of other types from their values. The special Python function `bool()` can convert any Python data type to a boolean."
   ]
  },
  {
   "cell_type": "markdown",
   "metadata": {},
   "source": [
    "- Nonzero numbers are considered `True`:\n",
    "```py\n",
    "bool(True) #True\n",
    "bool(1) #True\n",
    "bool(17) #True\n",
    "bool(-17) #True\n",
    "```\n",
    "- And zero-valued ones are considered `False`:\n",
    "```py\n",
    "bool(False) #False\n",
    "bool(0) #False\n",
    "bool(0.0) #False\n",
    "```"
   ]
  },
  {
   "cell_type": "markdown",
   "metadata": {},
   "source": [
    "## Integers"
   ]
  },
  {
   "cell_type": "markdown",
   "metadata": {},
   "source": [
    "Integers are whole numbers—no fractions, no decimal points, nothing fancy. Well, aside from a possible initial sign. And bases, if you want to express numbers in other ways than the usual decimal (base 10)."
   ]
  },
  {
   "cell_type": "markdown",
   "metadata": {},
   "source": [
    "### Literal Integers"
   ]
  },
  {
   "cell_type": "markdown",
   "metadata": {},
   "source": [
    "Any sequence of digits in Python represents a literal integer:\n",
    "```py\n",
    "5 #5\n",
    "```\n",
    "A plain zero (0) is valid:\n",
    "```py\n",
    "0 #0\n",
    "```\n",
    "But you can’t have an initial followed by a digit between 1 and 9:\n",
    "```py\n",
    "05\n",
    "    File \"<stdin>\", line 1\n",
    "      05\n",
    "        ^\n",
    "      SyntaxError: invalid token\n",
    "```"
   ]
  },
  {
   "cell_type": "markdown",
   "metadata": {},
   "source": [
    "🧸**NOTE**\n",
    "\n",
    "This Python exception warns that you typed something that breaks Python’s rules. I explain what this means in “Bases”. You’ll see many more examples of exceptions in this book because they’re Python’s main error handling mechanism."
   ]
  },
  {
   "cell_type": "markdown",
   "metadata": {},
   "source": [
    "You can start an integer with `0b`, `0o`, or `0x`.\n",
    "A sequence of digits specifies a positive integer. If you put a `+`  sign before the digits, the number stays the same:\n",
    "```py\n",
    "123 # 123\n",
    "+123 # 123\n",
    "```\n",
    "To specify a negative integer, insert a `-` before the digits:\n",
    "```py\n",
    "-123 # -123\n",
    "```\n",
    "You <ins>can’t</ins> have any commas in the integer:\n",
    "```py\n",
    "1,000,000 # (1, 0, 0)\n",
    "```\n",
    "You can put underscores anywhere after the first digit; they’re just ignored:\n",
    "```py\n",
    "1_2_3 # 123\n",
    "```"
   ]
  },
  {
   "cell_type": "markdown",
   "metadata": {},
   "source": [
    "### Integer Operations"
   ]
  },
  {
   "cell_type": "markdown",
   "metadata": {},
   "source": [
    "You can do normal arithmetic with Python by using the math operators in this table:\n",
    "<table align=\"center\">\n",
    "    <thead>\n",
    "        <tr>\n",
    "            <th>Operator</th>\n",
    "            <th>Description</th>\n",
    "            <th>Example</th>\n",
    "            <th>Result</th>\n",
    "       </tr>\n",
    "    </thead>\n",
    "    <tbody>\n",
    "        <tr> \n",
    "            <td>+</td> \n",
    "            <td>Addition</td> \n",
    "            <td>5 + 8</td> \n",
    "            <td>13</td> \n",
    "        </tr>\n",
    "        <tr> \n",
    "            <td>-</td> \n",
    "            <td>Subtraction</td> \n",
    "            <td>90 - 10</td> \n",
    "            <td>80</td> \n",
    "         </tr>\n",
    "       <tr> \n",
    "            <td>*</td> \n",
    "            <td>Multiplication</td> \n",
    "            <td>4 * 7</td> \n",
    "            <td>28</td> \n",
    "         </tr>\n",
    "        <tr> \n",
    "            <td>/</td> \n",
    "            <td>Floating-point division</td> \n",
    "            <td>7 / 2</td> \n",
    "            <td>3.5</td> \n",
    "         </tr>\n",
    "        <tr> \n",
    "            <td>//</td> \n",
    "            <td>Integer (truncating) division</td> \n",
    "            <td>7 // 2</td> \n",
    "            <td>3</td> \n",
    "         </tr>\n",
    "        <tr> \n",
    "            <td>%</td> \n",
    "            <td>Modulus (remainder)</td> \n",
    "            <td>7 % 3</td>  \n",
    "            <td>1</td> \n",
    "         </tr>\n",
    "        <tr> \n",
    "            <td>**</td> \n",
    "            <td>Exponentiation</td> \n",
    "            <td>3 ** 4</td> \n",
    "            <td>81</td> \n",
    "         </tr>\n",
    "    </tbody>\n",
    "</table> "
   ]
  },
  {
   "cell_type": "markdown",
   "metadata": {},
   "source": [
    "```py\n",
    "5 + 9 #14\n",
    "100 - 7 #93\n",
    "4 - 10 #-6\n",
    "5 + 9 - 2 +      3 # 15\n",
    "6 * 7 * 2 * 3 # 252\n",
    "```\n",
    "Division is a little more interesting because it comes in two flavors:\n",
    "- / carries out floating-point (decimal) division\n",
    "- // performs integer (truncating) division\n",
    "Even if you’re dividing an integer by an integer, using a will give you a\n",
    "floating-point result (floats are coming later in this chapter):\n",
    "```py\n",
    "9 / 5 # 1.8\n",
    "```\n",
    "Truncating integer division returns an integer answer, throwing away any remainder:\n",
    "```py\n",
    "9 // 5 # 1\n",
    "```\n",
    "Instead of tearing a hole in the space-time continuum, dividing by zero with either kind of division causes a Python exception:\n",
    "```py\n",
    "5 / 0\n",
    "ZeroDivisionError                         Traceback (most recent call last)\n",
    "<ipython-input-33-ff4b999c47a3> in <module>\n",
    "ZeroDivisionError: division by zero\n",
    "7 // 0\n",
    "ZeroDivisionError                         Traceback (most recent call last)\n",
    "<ipython-input-32-b050dd20374f> in <module>\n",
    "ZeroDivisionError: integer division or modulo by zero\n",
    "```"
   ]
  },
  {
   "cell_type": "markdown",
   "metadata": {},
   "source": [
    "### Integers and Variables"
   ]
  },
  {
   "cell_type": "markdown",
   "metadata": {},
   "source": [
    "You can combine the arithmetic operators with assignment by putting the operator before the `=`."
   ]
  },
  {
   "cell_type": "markdown",
   "metadata": {},
   "source": [
    "```py\n",
    "a = 90\n",
    "a -= 3 # 87\n",
    "a += 5 # 95\n",
    "a /= 3 # 30.0\n",
    "a //= 2 # 30\n",
    "a %=  4 # 2\n",
    "divmod(a, 2) # (45, 0)，a function named 'divmod` is given the integers and and returns a two-item tuple.\n",
    "```"
   ]
  },
  {
   "cell_type": "markdown",
   "metadata": {},
   "source": [
    "### Bases"
   ]
  },
  {
   "cell_type": "markdown",
   "metadata": {},
   "source": [
    "Integers are assumed to be decimal (base 10) unless you use a prefix to specify another base. You might never need to use these other bases, but you’ll probably see them in Python code somewhere, sometime.\n",
    "\n",
    "We generally have 10 fingers and 10 toes, so we count 0, 1, 2, 3, 4, 5, 6, 7, 8, 9. Next, we run out of single digits and carry the one to the “ten’s place” and put a in the one’s place: means “1 ten and 0 ones.” Unlike Romannumerals, Arabic numbers don’t have a single character that represents “10” Then, it’s 11, 12 up to 19, carry the one to make 20 (2 tens and 0 ones), and so on.\n",
    "\n",
    "A base is how many digits you can use until you need to “carry the one.” In base 2 (`binary` ), the only digits are `0` and `1`. This is the famous bit. 0 is the same as a plain old decimal 0, and 1 is the same as a decimal 1. However, in base 2, if you add a 1 to a 1 , you get 10 (1 decimal two plus 0 decimal ones).\n",
    "\n",
    "In Python, you can express literal integers in three bases besides decimal with these integer prefixes:\n",
    "    - 0b or 0B for binary (base 2).\n",
    "    - 0o or 0O for octal (base 8).\n",
    "    - 0x or 0X for hex (base 16).\n",
    "These bases are all powers of two, and are handy in some cases, although you may never need to use anything other than good old decimal integers.\n",
    "```py\n",
    "10 # 10\n",
    "0b10 # 2\n",
    "0o10 # 8\n",
    "0x10 # 16\n",
    "value = 65\n",
    "bin(value) # '0b1000001'\n",
    "oct(value) # '0o101'\n",
    "hex(value) # '0x41'\n",
    "```\n",
    "The `chr()` function converts an integer to its single-character string equivalent:\n",
    "```py\n",
    "chr(65) # 'A'\n",
    "```\n",
    "And `ord()` goes the other way:\n",
    "```py\n",
    "ord('A') # 65\n",
    "```\n",
    "In case you’re wondering what “digits” base 16 uses, they are: 0, 1, 2, 3, 4, 5, 6, 7, 8, 9, a, b, c, d, e and f. 0xa is a decimal 10, and 0xf is a decimal 15. Add 1 to `0xf` and you get 0x10 (decimal 16)."
   ]
  },
  {
   "cell_type": "markdown",
   "metadata": {},
   "source": [
    "### Type Conversions"
   ]
  },
  {
   "cell_type": "markdown",
   "metadata": {},
   "source": [
    "To change other Python data types to an integer, use the `int()` function.\n",
    "The `int()` function takes one input argument and returns one value, the integer-ized equivalent of the input argument. This will keep the whole number and discard any fractional part.\n",
    "As you saw at the start of this chapter, Python’s simplest data type is the `boolean`, which has only the values `True` and `False` . When converted to integers, they represent the values `1` and `0`:\n",
    "```py\n",
    "int(True) # 1\n",
    "int(False) # 0\n",
    "int(98.6) #98\n",
    "int(1.0e4) # 10000\n",
    "bool(1) # True\n",
    "bool(0) # False\n",
    "```"
   ]
  },
  {
   "cell_type": "markdown",
   "metadata": {},
   "source": [
    "If the string represents a nondecimal integer, you can include the base:\n",
    "```py\n",
    "int('10', 2) # (binary), 2\n",
    "int('10', 8) # (octal), 8\n",
    "int('10', 16) # (hexadecimal), 16\n",
    "int('10', 22) # (chesterdigital), 22\n",
    "```\n",
    "int() will make integers from floats or strings of digits, but it won’t handle strings containing decimal points or exponents:\n",
    "```py\n",
    "int('98.6')\n",
    "ValueError                                Traceback (most recent call last)\n",
    "<ipython-input-30-ae52b9fb3f52> in <module>\n",
    "ValueError: invalid literal for int() with base 10: '98.6'\n",
    "int('1.0e4')\n",
    "ValueError                                Traceback (most recent call last)\n",
    "<ipython-input-31-ecb6fcf41e85> in <module>\n",
    "ValueError: invalid literal for int() with base 10: '1.0e4'\n",
    "```\n",
    "The boolean value `False` is treated as `0` or `0.0` when mixed with integers or floats, and `True` is treated as `1` or `1.0` :\n",
    "```py\n",
    "True + 2 # 3\n",
    "False + 5.0 # 5.0\n",
    "```"
   ]
  },
  {
   "cell_type": "markdown",
   "metadata": {},
   "source": [
    "## Floats"
   ]
  },
  {
   "cell_type": "markdown",
   "metadata": {},
   "source": [
    "Integers are whole numbers, but floating-point numbers (called floats in Python) have decimal points. Floats can include a decimal integer exponent after the letter :\n",
    "```py\n",
    "5e0 # 5.0\n",
    "5e1 # 50.0\n",
    "5.0e1 # 50.0\n",
    "5.0 * (10 ** 1) # 50.0\n",
    "```\n",
    "You can use underscore ( ) to separate digits for clarity, as you can for integers:\n",
    "```py\n",
    "million = 1_000_000.0\n",
    "million # 1000000.0\n",
    "1.0_0_1 # 1.001\n",
    "```\n",
    "Floats are handled similarly to integers: you can use the operators (+, - , *, / , //, ** and %) and the `divmod()` function.\n",
    "```py\n",
    "float(98) # 98.0\n",
    "float('99') # 99.0\n",
    "float('98.6') # 98.6\n",
    "float('-1.5') # -1.5\n",
    "float('-1.0e4') # 10000.0\n",
    "43 + 2. # 45.0\n",
    "```"
   ]
  }
 ],
 "metadata": {
  "kernelspec": {
   "display_name": "Python 3",
   "language": "python",
   "name": "python3"
  },
  "language_info": {
   "codemirror_mode": {
    "name": "ipython",
    "version": 3
   },
   "file_extension": ".py",
   "mimetype": "text/x-python",
   "name": "python",
   "nbconvert_exporter": "python",
   "pygments_lexer": "ipython3",
   "version": "3.8.3"
  }
 },
 "nbformat": 4,
 "nbformat_minor": 4
}
