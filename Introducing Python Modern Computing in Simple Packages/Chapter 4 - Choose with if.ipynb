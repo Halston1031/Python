{
 "cells": [
  {
   "cell_type": "markdown",
   "metadata": {},
   "source": [
    "# Chapter 4. Choose with if"
   ]
  },
  {
   "cell_type": "markdown",
   "metadata": {},
   "source": [
    "## Comment with  # \n",
    "A comment is a piece of text in your program that is ignored by the Python interpreter."
   ]
  },
  {
   "cell_type": "markdown",
   "metadata": {},
   "source": [
    "## Continue Lines with \\\n",
    "Programs are more readable when lines are reasonably short. The recommended (not required) maximum line length is 80 characters. If you can’t say everything you want to say in that length, you can use the continuation character: `\\` (backslash). Just put `\\` at the end of a line, and Python will suddenly act as though you’re still on the same line."
   ]
  },
  {
   "cell_type": "markdown",
   "metadata": {},
   "source": [
    "For example, if I wanted to add the first five digits, I could do it a line at a time:\n",
    "```py\n",
    "sum = 0\n",
    "sum += 1\n",
    "sum += 2\n",
    "sum += 3\n",
    "sum += 4\n",
    "sum # 10\n",
    "```\n",
    "Or, I could do it in one step, using the continuation character:\n",
    "```py\n",
    "sum = 1 + \\\n",
    "         2 + \\ \n",
    "         3 + \\\n",
    "         + 4\n",
    "sum # 10\n",
    "```\n",
    "Here’s a little trick—if you’re in the middle of paired parentheses (or square or curly brackets), Python doesn’t squawk about line endings:\n",
    "```py\n",
    "sum = (\n",
    "        1 +\n",
    "        2 +\n",
    "        3 +\n",
    "        4)\n",
    "sum # 10\n",
    "```"
   ]
  },
  {
   "cell_type": "markdown",
   "metadata": {},
   "source": [
    "## Compare with if, elif, and else"
   ]
  },
  {
   "cell_type": "code",
   "execution_count": 1,
   "metadata": {},
   "outputs": [
    {
     "name": "stdout",
     "output_type": "stream",
     "text": [
      "Woe!\n"
     ]
    }
   ],
   "source": [
    "disaster = True\n",
    "if disaster:\n",
    "    print(\"Woe!\")\n",
    "else:\n",
    "    print(\"Whee!\")"
   ]
  },
  {
   "cell_type": "markdown",
   "metadata": {},
   "source": [
    "The and lines are Python statements that check whether a condition (here, the value of `disaster` ) is a boolean value, or can be evaluated as True. Remember, `print()` is Python’s built-in function to print things, normally to your screen"
   ]
  },
  {
   "cell_type": "markdown",
   "metadata": {},
   "source": [
    "🧸**NOTE**\n",
    "\n",
    "If you’ve programmed in other languages, note that you don’t need parentheses for the test. For example, don’t say something such as `if` (diaster == True) (the equality operator `==` is described in a few paragraphs). You do need the colon (`:`) at the end. If, like me, you forget to type the colon at times, Python will display an error message."
   ]
  },
  {
   "cell_type": "code",
   "execution_count": 2,
   "metadata": {},
   "outputs": [
    {
     "name": "stdout",
     "output_type": "stream",
     "text": [
      "I have never heard of the color mauve\n"
     ]
    }
   ],
   "source": [
    "color = \"mauve\"\n",
    "if color == \"red\":\n",
    "    print(\"It's a tomato.\")\n",
    "elif color == \"green\":\n",
    "    print(\"It's green pepper.\")\n",
    "elif color == \"bee purple\":\n",
    "    print(\"I don't know what it is, but only bees can see it.\")\n",
    "else:\n",
    "    print(\"I have never heard of the color\", color)"
   ]
  },
  {
   "cell_type": "markdown",
   "metadata": {},
   "source": [
    "### Python’s comparison operators:"
   ]
  },
  {
   "cell_type": "markdown",
   "metadata": {},
   "source": [
    "<table>\n",
    "    <tbody>\n",
    "        <tr>\n",
    "            <td>equality</td>\n",
    "            <td>==</td>\n",
    "         </tr>\n",
    "        <tr>\n",
    "            <td>inequality</td>\n",
    "            <td>!=</td>\n",
    "         </tr>\n",
    "        <tr>\n",
    "            <td>less than</td>\n",
    "            <td>  < </td>\n",
    "         </tr>\n",
    "        <tr>\n",
    "            <td>less than or equal</td>\n",
    "            <td><=</td>\n",
    "         </tr>\n",
    "        <tr>\n",
    "            <td>greater than</td>\n",
    "            <td>></td>\n",
    "         </tr>\n",
    "         <tr>\n",
    "            <td>greater than or equal</td>\n",
    "            <td>>=</td>\n",
    "         </tr>\n",
    "     </tbody>\n",
    "</table>"
   ]
  },
  {
   "cell_type": "markdown",
   "metadata": {},
   "source": [
    "These return the boolean values `True` or `False`."
   ]
  },
  {
   "cell_type": "code",
   "execution_count": 3,
   "metadata": {},
   "outputs": [
    {
     "data": {
      "text/plain": [
       "False"
      ]
     },
     "execution_count": 3,
     "metadata": {},
     "output_type": "execute_result"
    }
   ],
   "source": [
    "x = 7\n",
    "x == 5"
   ]
  },
  {
   "cell_type": "markdown",
   "metadata": {},
   "source": [
    "Note that two equals signs (`==`) are used to test equality; remember, a single equals sign (`=`) is what you use to assign a value to a variable.\n",
    "If you need to make multiple comparisons at the same time, you use the logical (or boolean) operators `and`, `or`, and `not` to determine the final boolean result. Logical operators have lower precedence than the chunks of code that they’re comparing. This means that the chunks are calculated first, and then compared. "
   ]
  },
  {
   "cell_type": "code",
   "execution_count": 4,
   "metadata": {},
   "outputs": [
    {
     "data": {
      "text/plain": [
       "True"
      ]
     },
     "execution_count": 4,
     "metadata": {},
     "output_type": "execute_result"
    }
   ],
   "source": [
    "5 < x < 10"
   ]
  },
  {
   "cell_type": "markdown",
   "metadata": {},
   "source": [
    "## What Is True?"
   ]
  },
  {
   "cell_type": "markdown",
   "metadata": {},
   "source": [
    "What if the element we’re checking isn’t a boolean? What does Python consider `True` and `False`?\n",
    "A `False` value doesn’t necessarily need to explicitly be a boolean `False`. For example, these are all considered `False`:"
   ]
  },
  {
   "cell_type": "markdown",
   "metadata": {},
   "source": [
    "<table>\n",
    "    <tbody>\n",
    "        <tr>\n",
    "            <td>boolean</td>\n",
    "            <td>False</td>\n",
    "         </tr>\n",
    "        <tr>\n",
    "            <td>null</td>\n",
    "            <td>None</td>\n",
    "         </tr>\n",
    "        <tr>\n",
    "            <td>zero integer</td>\n",
    "            <td> 0 </td>\n",
    "         </tr>\n",
    "        <tr>\n",
    "            <td>zero float</td>\n",
    "            <td> 0.0 </td>\n",
    "         </tr>\n",
    "        <tr>\n",
    "            <td>empty string</td>\n",
    "            <td>' '</td>\n",
    "         </tr>\n",
    "         <tr>\n",
    "            <td>empty list</td>\n",
    "            <td>[ ]</td>\n",
    "         </tr>\n",
    "        <tr>\n",
    "            <td>empty tuple</td>\n",
    "            <td>( )</td>\n",
    "         </tr>\n",
    "        <tr>\n",
    "            <td>empty dict</td>\n",
    "            <td>{ }</td>\n",
    "         </tr>\n",
    "        <tr>\n",
    "            <td>empty set</td>\n",
    "            <td> set( ) </td>\n",
    "         </tr>\n",
    "     </tbody>\n",
    "</table>"
   ]
  },
  {
   "cell_type": "markdown",
   "metadata": {},
   "source": [
    "Anything else is considered `True`. Python programs use these definitions of “truthiness” and “falsiness” to check for empty data structures as well as `False` conditions:"
   ]
  },
  {
   "cell_type": "markdown",
   "metadata": {},
   "source": [
    "## Do Multiple Comparisons with in"
   ]
  },
  {
   "cell_type": "markdown",
   "metadata": {},
   "source": [
    "Suppose that you have a letter and want to know whether it’s a vowel. One way would be to write a long statement:"
   ]
  },
  {
   "cell_type": "code",
   "execution_count": 5,
   "metadata": {},
   "outputs": [
    {
     "name": "stdout",
     "output_type": "stream",
     "text": [
      "o is in vowel\n"
     ]
    }
   ],
   "source": [
    "letter = 'o'\n",
    "if letter == 'a' or letter == 'e' or letter == 'i' or letter == 'o' or letter == 'u' :\n",
    "    print(letter, 'is in vowel')\n",
    "else:\n",
    "    print(letter, 'is not a vowel')"
   ]
  },
  {
   "cell_type": "markdown",
   "metadata": {},
   "source": [
    "Whenever you need to make a lot of comparisons like that, separated by `or`, use Python’s membership operator `in`, instead. Here’s how to check vowelness more Pythonically, using `in` with a string made of vowel characters:"
   ]
  },
  {
   "cell_type": "code",
   "execution_count": 6,
   "metadata": {},
   "outputs": [
    {
     "name": "stdout",
     "output_type": "stream",
     "text": [
      "o is in vowel\n"
     ]
    }
   ],
   "source": [
    "vowels = 'aeiou'\n",
    "letter = 'o'\n",
    "if letter in vowels:\n",
    "    print(letter, 'is in vowel')"
   ]
  },
  {
   "cell_type": "markdown",
   "metadata": {},
   "source": [
    "Here’s a preview of how to use with some data types that you’ll read about in detail in the next few chapters:\n",
    "```py\n",
    "letter = 'o'\n",
    "vowel_set = {'a', 'e', 'i', 'o', 'u'}\n",
    "letter in vowel_set # True\n",
    "vowel_list = ['a', 'e', 'i', 'o', 'u']\n",
    "letter in vowel_list # True\n",
    "vowel_tuple = ('a', 'e', 'i', 'o', 'u')\n",
    "letter in vowel_tuple # True\n",
    "vowel_dict = ('a': 'apple', 'e' : 'elephant', 'i': 'impala', 'o': 'ocelot', 'u'; 'unicorn')\n",
    "letter in vowel_dict # True\n",
    "vowels_string = 'aeiou'\n",
    "letter in vowels_string # True\n",
    "```"
   ]
  },
  {
   "cell_type": "markdown",
   "metadata": {},
   "source": [
    "## New: I Am the Walrus"
   ]
  },
  {
   "cell_type": "markdown",
   "metadata": {},
   "source": [
    "Arriving in Python 3.8 is the walrus operator, which looks like this:\n",
    "$$name := expression$$"
   ]
  },
  {
   "cell_type": "code",
   "execution_count": 7,
   "metadata": {},
   "outputs": [
    {
     "name": "stdout",
     "output_type": "stream",
     "text": [
      "A fitting tweet\n"
     ]
    }
   ],
   "source": [
    "tweet_limit  = 280\n",
    "tweet_string = \"Blash\" * 50\n",
    "if diff := tweet_limit - len(tweet_string) >= 0:\n",
    "        print(\"A fitting tweet\")\n",
    "else:\n",
    "    print(\"Went over by\", abs(diff))"
   ]
  }
 ],
 "metadata": {
  "kernelspec": {
   "display_name": "Python 3",
   "language": "python",
   "name": "python3"
  },
  "language_info": {
   "codemirror_mode": {
    "name": "ipython",
    "version": 3
   },
   "file_extension": ".py",
   "mimetype": "text/x-python",
   "name": "python",
   "nbconvert_exporter": "python",
   "pygments_lexer": "ipython3",
   "version": "3.8.3"
  }
 },
 "nbformat": 4,
 "nbformat_minor": 4
}
