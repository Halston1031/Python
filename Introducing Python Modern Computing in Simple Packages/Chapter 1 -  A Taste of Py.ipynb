{
 "cells": [
  {
   "cell_type": "markdown",
   "metadata": {},
   "source": [
    "# Chapter 1. A Taste of Py"
   ]
  },
  {
   "cell_type": "markdown",
   "metadata": {},
   "source": [
    "## Little Programs"
   ]
  },
  {
   "cell_type": "markdown",
   "metadata": {},
   "source": [
    "### Example 1-1"
   ]
  },
  {
   "cell_type": "code",
   "execution_count": 1,
   "metadata": {},
   "outputs": [
    {
     "name": "stdout",
     "output_type": "stream",
     "text": [
      "5\n",
      "4\n",
      "3\n",
      "2\n",
      "1\n",
      "hey\n"
     ]
    }
   ],
   "source": [
    "for countdown in 5, 4, 3, 2, 1, \"hey\":\n",
    "    print(countdown)"
   ]
  },
  {
   "cell_type": "markdown",
   "metadata": {},
   "source": [
    "### Example 1-2 List  [ ]"
   ]
  },
  {
   "cell_type": "code",
   "execution_count": 2,
   "metadata": {},
   "outputs": [
    {
     "name": "stdout",
     "output_type": "stream",
     "text": [
      "Merci!\n"
     ]
    }
   ],
   "source": [
    "spells = [\n",
    "    \"Thank you!\", \n",
    "    \"謝謝!\",\n",
    "    \"Danke!\",\n",
    "    \"Merci!\",\n",
    "    \"Gracias!\",\n",
    "    \"Obrigado!\"\n",
    "]\n",
    "print(spells[3]) #The first value is at offset 0"
   ]
  },
  {
   "cell_type": "markdown",
   "metadata": {},
   "source": [
    "The individual `spells` are Python strings (sequences of text characters, enclosed in quotes). They’re separated by commas and enclosed in a Python list that’s defined by enclosing square brackets ( `[` and `]` )."
   ]
  },
  {
   "cell_type": "markdown",
   "metadata": {},
   "source": [
    "🧸**NOTE**\n",
    "\n",
    "People count from 1, so it might seem weird to count from 0. It helps to think in terms of offsets instead of positions. Yes, this is an example of how computer programs sometimes differ from common language usage."
   ]
  },
  {
   "cell_type": "markdown",
   "metadata": {},
   "source": [
    "### Example 1-3 Dictionary { } "
   ]
  },
  {
   "cell_type": "code",
   "execution_count": 3,
   "metadata": {},
   "outputs": [
    {
     "name": "stdout",
     "output_type": "stream",
     "text": [
      "Halston says: Bonjour! Je m'appelle Halston. Comment vous appelez-vous?\n"
     ]
    }
   ],
   "source": [
    "quotes = {\n",
    "    \"Halston\" : \"Bonjour! Je m'appelle Halston. Comment vous appelez-vous?\",\n",
    "    \"Patrick\" : \"Je m'appelle Patrick.\",\n",
    "}\n",
    "individual = \"Halston\"\n",
    "print(individual, \"says:\", quotes[individual])"
   ]
  },
  {
   "cell_type": "markdown",
   "metadata": {},
   "source": [
    "`quotes` is a variable that names a Python dictionary - a collection of `unique keys` (in this example, the name of the individual) and associated `values` (here, a notable saying of that individual). "
   ]
  },
  {
   "cell_type": "markdown",
   "metadata": {},
   "source": [
    "The example used square brackets ( `[` and `]` ) to make a Python `list`, and the example uses curly brackets ( `{` and`}` , which are no relation to Curly), to make a Python `dictionary`. Also, a colon ( `:` ) is used to associate each key in the dictionary with its value."
   ]
  },
  {
   "cell_type": "markdown",
   "metadata": {},
   "source": [
    "## A Bigger Program"
   ]
  },
  {
   "cell_type": "markdown",
   "metadata": {},
   "source": [
    "<p>The program will ask you to type a URL and a date. Then, it asks the <a href = \"https://archive.org/web/\">Wayback Machine </a> if it has a copy of that website around that date. If it found one, it returns the information to this Python program, which prints the URL and displays it in your web browser. The point is to show how Python handles a variety of tasks—get your typed input, communicate across the internet to a website, get back some content, extract a URL from it, and convince your web browser to display that URL.</p>\n",
    "<p>If we got back a normal web page full of HTML-formatted text, we would need to figure out how to display it, which is a lot of work that we happily entrust to web browsers. We could also try to extract the parts that we want. Either choice would be more work and a larger program. Instead, the Wayback Machine returns data in <a href = \"https://zh.wikipedia.org/wiki/JSON\">JSON </a>format. JSON (JavaScript Object Notation) is a human- readable text format that describes the types, values, and order of the data within it. It’s another little language, and it has become a popular way to exchange data among different computer languages and systems.</p>\n",
    "<p><ins>Python programs can translate JSON text into Python data structures</ins></p>"
   ]
  },
  {
   "cell_type": "markdown",
   "metadata": {},
   "source": [
    "### Example 1-4"
   ]
  },
  {
   "cell_type": "code",
   "execution_count": 4,
   "metadata": {},
   "outputs": [
    {
     "name": "stdout",
     "output_type": "stream",
     "text": [
      "Let's find an old website.\n",
      "Type a website URL: https://en.wikipedia.org/wiki/Wiki\n",
      "Type a year, month and day, like 20200220: 20010116\n",
      "Found this copy:  http://web.archive.org/web/20031209173517/http://en.wikipedia.org:80/wiki/wiki\n",
      "It should appear in your website now.\n"
     ]
    }
   ],
   "source": [
    "# Import (make available to this program) code from the Python standard library module.\n",
    "import webbrowser # Import all the code from webbrowser\n",
    "import json # Import all the code from json\n",
    "from urllib.request import urlopen # import only urlopen function from urllib.request\n",
    "\n",
    "print(\"Let's find an old website.\")\n",
    "'''Print a question about a URL, read what you type, and save it in a\n",
    "program variable called site.\n",
    "Print another question, this time reading a year, month, and day,\n",
    "and then save it in a variable called .\n",
    "'''\n",
    "site = input(\"Type a website URL: \") \n",
    "era = input(\"Type a year, month and day, like 20200220: \") \n",
    "'''Construct a string variable called to make the Wayback Machine look up its copy of the site and date that you typed.'''\n",
    "url = \"http://archive.org/wayback/available?url=%s&timestamp=%s\" %(site, era) # Connect to the web server at that URL and request a particular web service.\n",
    "response = urlopen(url)\n",
    "contents = response.read() # Get the response data and assign to the variable.\n",
    "text = contents.decode(\"utf-8\") # Decode contents to a text string in JSON format, and assign to the variable text.\n",
    "data = json.loads(text) # Convert text to data\n",
    "'''\n",
    "Error-checking:\n",
    "try to run the next four lines, and if any fail, \n",
    "run the last line of the program (after the except).\n",
    "'''\n",
    "try:\n",
    "    old_site = data[\"archived_snapshots\"][\"closest\"][\"url\"]\n",
    "    print(\"Found this copy: \", old_site)\n",
    "    print(\"It should appear in your website now.\")\n",
    "    webbrowser.open(old_site) # Display the URL we found in your web browser.\n",
    "except:\n",
    "    print(\"Sorry, no luck finding\", site)"
   ]
  },
  {
   "cell_type": "markdown",
   "metadata": {},
   "source": [
    "### Example 1-5 (Shorter version)"
   ]
  },
  {
   "cell_type": "code",
   "execution_count": 5,
   "metadata": {},
   "outputs": [
    {
     "name": "stdout",
     "output_type": "stream",
     "text": [
      "Let's find an old website.\n",
      "Type a website URL: https://en.wikipedia.org/wiki/Wiki\n",
      "Type a year, month and day, like 20200220: 20010116\n",
      "Found this copy:  http://web.archive.org/web/20031209173517/http://en.wikipedia.org:80/wiki/wiki\n",
      "It should appear in your website now.\n"
     ]
    }
   ],
   "source": [
    "# Import (make available to this program) code from the Python standard library module.\n",
    "import webbrowser # Import all the code from webbrowser\n",
    "import requests # Import all the code from requests\n",
    "\n",
    "print(\"Let's find an old website.\")\n",
    "'''Print a question about a URL, read what you type, and save it in a\n",
    "program variable called site.\n",
    "Print another question, this time reading a year, month, and day,\n",
    "and then save it in a variable called .\n",
    "'''\n",
    "site = input(\"Type a website URL: \") \n",
    "era = input(\"Type a year, month and day, like 20200220: \") \n",
    "'''Construct a string variable called to make the Wayback Machine look up its copy of the site and date that you typed.'''\n",
    "url = \"http://archive.org/wayback/available?url=%s&timestamp=%s\" %(site, era) # Connect to the web server at that URL and request a particular web service.\n",
    "response = urlopen(url)\n",
    "data = json.loads(text) # Convert text to data\n",
    "'''\n",
    "Error-checking:\n",
    "try to run the next four lines, and if any fail, \n",
    "run the last line of the program (after the except).\n",
    "'''\n",
    "try:\n",
    "    old_site = data[\"archived_snapshots\"][\"closest\"][\"url\"]\n",
    "    print(\"Found this copy: \", old_site)\n",
    "    print(\"It should appear in your website now.\")\n",
    "    webbrowser.open(old_site) # Display the URL we found in your web browser.\n",
    "except:\n",
    "    print(\"Sorry, no luck finding\", site)"
   ]
  },
  {
   "cell_type": "markdown",
   "metadata": {},
   "source": [
    "## Python in the Real World"
   ]
  },
  {
   "cell_type": "markdown",
   "metadata": {},
   "source": [
    "<p>So, is learning Python worth the time and effort? Python has been around since 1991 (older than Java, younger than C), and is consistently in the top five most popular computing languages. People are paid to write Python programs—serious stuff that you use every day, such as Google, YouTube, Instagram and Netflix. Python has a reputation for productivity that appeals to fast- moving organizations. </p>\n",
    "\n",
    "You’ll find Python in many computing environments, including these: \n",
    "\n",
    "- The command line in a monitor or terminal window Graphical user interfaces (GUIs), including the web\n",
    "- The web, on the client and server sides\n",
    "- Backend servers supporting large popular sites The cloud (servers managed by third parties) Mobile devices\n",
    "- Embedded devices\n",
    "- Python programs range from one-off scripts—such as those you’ve seen so far in this chapter—to million-line systems."
   ]
  },
  {
   "cell_type": "markdown",
   "metadata": {},
   "source": [
    "## Terminal"
   ]
  },
  {
   "cell_type": "markdown",
   "metadata": {},
   "source": [
    "If you use a terminal or terminal window, the program that reads what you type, runs it, and displays the results is called the shell program. The Windows shell is called `cmd` ; it runs batch files with the suffix . Linux and other Unix-like systems (including macOS) have many shell programs. The most popular is called `bash` or `sh` . The shell has simple abilities, such as simple logic and expanding wildcard symbols such as into filenames. You can save commands in files called shell scripts and run them later. These might be the first programs you encountered as a programmer. The problem is that shell scripts don’t scale well beyond a few hundred lines, and they are much slower than the alternative languages."
   ]
  }
 ],
 "metadata": {
  "kernelspec": {
   "display_name": "Python 3",
   "language": "python",
   "name": "python3"
  },
  "language_info": {
   "codemirror_mode": {
    "name": "ipython",
    "version": 3
   },
   "file_extension": ".py",
   "mimetype": "text/x-python",
   "name": "python",
   "nbconvert_exporter": "python",
   "pygments_lexer": "ipython3",
   "version": "3.8.3"
  }
 },
 "nbformat": 4,
 "nbformat_minor": 4
}
